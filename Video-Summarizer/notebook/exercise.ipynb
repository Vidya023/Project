{
 "cells": [
  {
   "cell_type": "code",
   "execution_count": 2,
   "metadata": {},
   "outputs": [],
   "source": [
    "import whisper \n",
    "import tempfile\n",
    "import os \n",
    "import warnings "
   ]
  },
  {
   "cell_type": "code",
   "execution_count": 3,
   "metadata": {},
   "outputs": [],
   "source": [
    "from moviepy.editor import VideoFileClip\n",
    "def get_audio(paths):\n",
    "    print(f\"Video path = {paths}\")    \n",
    "    temp_dir = tempfile.gettempdir()\n",
    "    audio_paths = {}\n",
    "    for path in paths:\n",
    "        filename = os.path.basename(path).split('.')[0]\n",
    "        print(f\"Extracting audio from file {os.path.basename(path)}........\")\n",
    "        output_path = os.path.join(temp_dir, f\"{filename}.wav\") \n",
    "        video_clip = VideoFileClip(path)\n",
    "        audio_clip = video_clip.audio\n",
    "        audio_clip.write_audiofile(output_path, codec='pcm_s16le', bitrate='16k')\n",
    "        audio_clip.close()\n",
    "        video_clip.close()\n",
    "        audio_paths[path] = output_path \n",
    "    return audio_paths\n"
   ]
  },
  {
   "cell_type": "code",
   "execution_count": 4,
   "metadata": {},
   "outputs": [],
   "source": [
    "def write_transcript(audio_path,text_path,transcribe:callable):    \n",
    "    warnings.filterwarnings('ignore') \n",
    "    result = transcribe(audio_path)\n",
    "    warnings.filterwarnings('default')\n",
    "    with open(text_path,'w',encoding='utf-8') as f:\n",
    "        f.write(result['text']) \n",
    "    return result     "
   ]
  },
  {
   "cell_type": "code",
   "execution_count": 5,
   "metadata": {},
   "outputs": [],
   "source": [
    "def get_transcript(audio_path:list,output_text:bool,output_dir:str,transcribe:callable):\n",
    "    text_path = output_dir if output_text else tempfile.gettempdir()\n",
    "    for path, audio_path in audio_path.items():\n",
    "        filename = os.path.basename(path).split('.')[0]\n",
    "        text_path = os.path.join(text_path,f\"{filename}.txt\")\n",
    "        result = write_transcript(audio_path,text_path,transcribe) \n",
    "    return result      "
   ]
  },
  {
   "cell_type": "code",
   "execution_count": 6,
   "metadata": {},
   "outputs": [],
   "source": [
    "def initiate_stt(video_path:str,model:str,output_dir:str,srt:bool,verbose:bool):\n",
    "    print(f\"Video path = {video_path}\") \n",
    "    os.makedirs(output_dir,exist_ok=True)\n",
    "    if model.endswith('.en'):\n",
    "        print(f\"{model} is English model\")\n",
    "    model = whisper.load_model(model)\n",
    "    audio = get_audio(video_path)\n",
    "    transcript = get_transcript(audio,srt,output_dir,lambda audio_path: model.transcribe(audio_path,verbose=verbose,task='transcribe')) \n",
    "    return transcript    "
   ]
  },
  {
   "cell_type": "code",
   "execution_count": 7,
   "metadata": {},
   "outputs": [],
   "source": [
    "video_path = [\"nptel.mp4\"] "
   ]
  },
  {
   "cell_type": "code",
   "execution_count": 10,
   "metadata": {},
   "outputs": [
    {
     "name": "stdout",
     "output_type": "stream",
     "text": [
      "Video path = ['nptel.mp4']\n"
     ]
    },
    {
     "name": "stdout",
     "output_type": "stream",
     "text": [
      "Video path = ['nptel.mp4']\n",
      "Extracting audio from file nptel.mp4........\n",
      "MoviePy - Writing audio in /tmp/nptel.wav\n"
     ]
    },
    {
     "name": "stderr",
     "output_type": "stream",
     "text": [
      "                                                                        \r"
     ]
    },
    {
     "name": "stdout",
     "output_type": "stream",
     "text": [
      "MoviePy - Done.\n",
      "Detected language: English\n"
     ]
    },
    {
     "name": "stderr",
     "output_type": "stream",
     "text": [
      "100%|██████████| 107756/107756 [01:32<00:00, 1165.35frames/s]\n"
     ]
    }
   ],
   "source": [
    "transcript = initiate_stt(video_path=video_path, model='tiny', output_dir='transcript_text', srt=True, verbose=False) "
   ]
  },
  {
   "cell_type": "code",
   "execution_count": 11,
   "metadata": {},
   "outputs": [
    {
     "data": {
      "text/plain": [
       "\" This is the course on electromagnetic theory and any course starts with coulombs law. So, we start with in this lecture, we are going to start with coulombs law, for forces between two charges. Then, we are going to see how this can be confirmed that this is really true experimental verification. Third, then we are going to solve some examples for forces between two charges. And finally, in this lecture, we are going to talk about the force between a point charge and a charge distribution. This is the program for this lecture. And based on what we covered today, I am also going to give you an assignment where you will solve three or four problems employing these concepts. So, what coulombs law says is that if there are two charges, let us take them to point charges right now. So, there is a charge q 1 and another charge q 2 separated by a distance r and for the future, because I am going to develop a notation also. Let us write this as r 1 2 that indicates the distance between charge 1 and charge 2. Then, the force between them, the magnitude force of course, you know from your mechanics course that force is a vector quantity. The force between them it is magnitude is going to be equal to and this depends on what units we are going to choose for q 1 and q 2. Finally, it is the SI units that we work in. So, I am going to write this in terms of SI units, it is going to be 4 pi epsilon 0 where epsilon 0 is known as the permittivity of vacuum. q 1 q 2 over r 1 2 square. That means, if the distance between two charges doubled, because of this square out here, because of this square out here, the force is going to become less by a factor of 4. But as I just said, force is not only quantity which has magnitude, it also has direction, what about the direction of the force. Now, you learn in your previous classes that if q 1 and q 2 are of the same sign, then the force is repulsive. What it means is that the force is going to be along the same lines as the line joining the charges and they are going to repeat each other. The magnitude being the same. On the other hand, if they are of opposite signs, let me write opposite out here, if they are of the opposite signs, then force is going to be attractive. What that means is in that case, force is going to be in this direction towards each other. So, I hope this point is clear, but let me make it clear by drawing the picture again. I am drawing two charges, q 1 and q 2 separated by a distance R 1 2 and if the charges are the same, so for the same I am going to use the color orange, if the charges are the same in the forces as it is pulsed. On the other hand, if the charges are of opposite sign, then force is going to be attractive. How can we write all this in vector notation? This is a very simple way of writing it. I am going to write force. Now, I write the whole thing, force is a vector with the magnitude 1 over 4 pi epsilon 0, q 1, q 2 over R 1 2 square. Now, if I am writing it in a vector notation, I have to denote force on 1 or force on 2. Let us write the force on 1, which I denote here by the subscript 1 here. It is going to be in the unit vector R 1 2 direction, this hat, this hat here denotes the unit vector. Now, you will see that let us write R 1 2 vector from going from 1 to 2. So, this is R from 1 to 2. The unit vector is going to be in R 1 2 direction of magnitude unity. If I write it like this, then you notice that force on 1 is in the direction opposite of R 1 2. So, I will have to put in minus sign out here, which I can equally well write as 1 over 4 pi epsilon 0, q 1, q 2 over R 1 2 square, R 2 1, where R 2 1 is the unit vector from 2 to 1, R 2 1 should be a unit vector. You will notice that, this takes care of everything, signs, direction and everything in one shot. If the forces are, if the charges are the same, then the q 1 and q 2, this out here is going to be positive and therefore, this sign gives the right direction. On the other hand, if q 1 and q 2 are opposite, this sign changes. So, let us repeat this. I am going to take two charges, q 1 and q 2 and write everything in vector notation. So, let me write vector from 1 to 2 as R 1 2 vector from 2 to 1 as R 2 1. I will follow this convention all throughout. Then the force on 1 with proper direction can be written as 1 over 4 pi epsilon 0, q 1, q 2 over R 1 2 square, R 1 2 square is the same as R 2 1 square times R 1 to 2 unit vector. And similarly, force on 2 can be written as 1 over 4 pi epsilon 0, q 1, q 2 over R 1 2 square, which is the same as R 2 1 square, R from 1 to 2 unit vector. This gives the repulsion attraction everything because now we have taken care of the direction. So, these are, this is Hulom's law. It gives the magnitude as well as the direction of the force. How do we check it experimentally? Little Kulom do experiment with point charges or their point charges available with which you could do experiment? The answer is no. You recall that there is a similar law. One knows that is gravitational law. What does that say? That says there is a force between 2 masses F, let us say the masses are M 1 and M 2 and this is R 1 2 vector. Then F on 1 is going to be equal to minus G M 1 M 2 over R 1 2 square, R from 2 to 1 unit vector. This is always repulsive. In gravitation we have mass does not have a sign, but the form of the law is the same. The way one could check this law was by taking two large masses and find in the force of attraction between them. So, the force is in this direction. This is always attractive. What one could do is that one could take these masses, solid masses and measure the force between them. We will see later that this force can be written as if the two masses are concentrated at their centers. So, the force between two perfectly spherical masses, the magnitude will be equal to G M 1 M 2 over R 1 2 square where R 1 2 is the distance between their centers. And of course, the direction is attractive. So, this way, can we do a similar thing to check Coulomb's law? Let us see that. So, if I were to look at Coulomb's law, I take two large masses and the easiest to charge our metallic spheres and put charge over them. Let us say I put positive charge here. Since, they are spheres in isolation, these charges are going to be all uniformly distributed. If these two spheres are far away, necessarily charge on them is movable because they are so much charge them when we charge them, charge them moved on to them. However, since these charges are mobile, when the charges are closed together, this is not going to be situation. These charges are going to move and they are going to have more and more charges because they are repelled further away than there are nearer. So, here charges are repelled. So, lot of them will go to the backside of the charges sphere and there will be less charge in front. With the final picture that, if I take these two charges, charge spheres that the charges are going to be more concentrated here and less out here, more concentrated on the backside and less in front. As a result, I cannot really think of them being separated by a distance, which is the distance between the centers of these charges. And I do not know what this distribution is. If I do not know what this distribution is, how do I figure out how far out the charges? So, who loves law? Can not be checked simply by bringing two charge spheres close to each other. And then measuring force between them. A way out is very interesting. The way out of this is that what you can show is that, if a force is 1 over r square dependent, which we are assuming coulomb's law is, then on a sphere, then if I take a sphere, same at all x sphere and put charges on it, all the charges will come to the surface. With the result, that, there will be no charge inside a charge, but a sphere. So, I state again, if a force is 1 over r square dependent or if in this particular case, if the electric force between charges is 1 over r square dependent, all the charges that we put on a metallic sphere will come to the surface. So, the experiment that is done to check this is precisely this. You take a sphere, charge it and then take a sphere outside and connect it by a wire. If the charge on this sphere becomes 0, I know the force field is 1 over r square and that is how it is done and this is known as k v n d s. k v n d s x v n d and this has confirmed that it is 1 over r square to the degree that 1 over r square plus minus 10 raise to minus 17. So, we know very well that the the school arms law is really 1 over r square. So, let us see what we have established. 1, force between 2 charges is 1 over 4 pi epsilon 0, q 1, q 2 over r square will rise the distance between them number 2 experimentally, verify third because of 1 over r square nature all the force extra charge on a metal sphere will all come to the surface.\""
      ]
     },
     "execution_count": 11,
     "metadata": {},
     "output_type": "execute_result"
    }
   ],
   "source": [
    "transcript['text'] "
   ]
  },
  {
   "cell_type": "code",
   "execution_count": 12,
   "metadata": {},
   "outputs": [],
   "source": [
    "from transformers import AutoModelForSeq2SeqLM, AutoTokenizer \n",
    "\n",
    "tokenizer = AutoTokenizer.from_pretrained(\"philschmid/bart-large-cnn-samsum\") \n",
    "model = AutoModelForSeq2SeqLM.from_pretrained(\"philschmid/bart-large-cnn-samsum\")  \n"
   ]
  },
  {
   "cell_type": "code",
   "execution_count": 13,
   "metadata": {},
   "outputs": [],
   "source": [
    "inputs = tokenizer(transcript['text'],max_length=512, truncation=True, return_tensors='pt')"
   ]
  },
  {
   "cell_type": "code",
   "execution_count": 14,
   "metadata": {},
   "outputs": [],
   "source": [
    "# summary_ids = model.generate(inputs['inputs_ids'],max_new_tokens=512) \n",
    "summary_ids = model.generate(inputs[\"input_ids\"],num_beams=2,max_length=1024)"
   ]
  },
  {
   "cell_type": "code",
   "execution_count": 15,
   "metadata": {},
   "outputs": [],
   "source": [
    "summary = tokenizer.batch_decode(summary_ids,skip_special_tokens=True,\n",
    "                                         clean_up_tokenization_spaces=False)[0] "
   ]
  },
  {
   "cell_type": "code",
   "execution_count": 16,
   "metadata": {},
   "outputs": [
    {
     "data": {
      "text/plain": [
       "'In this lecture, we are going to talk about the force between a point charge and a charge distribution. The program for this lecture is based on what we covered today. You will solve three or four problems employing these concepts. The SI units that we work in are 4 pi epsilon 0.'"
      ]
     },
     "execution_count": 16,
     "metadata": {},
     "output_type": "execute_result"
    }
   ],
   "source": [
    "summary"
   ]
  },
  {
   "cell_type": "markdown",
   "metadata": {},
   "source": []
  },
  {
   "cell_type": "code",
   "execution_count": null,
   "metadata": {},
   "outputs": [],
   "source": []
  }
 ],
 "metadata": {
  "kernelspec": {
   "display_name": "video",
   "language": "python",
   "name": "python3"
  },
  "language_info": {
   "codemirror_mode": {
    "name": "ipython",
    "version": 3
   },
   "file_extension": ".py",
   "mimetype": "text/x-python",
   "name": "python",
   "nbconvert_exporter": "python",
   "pygments_lexer": "ipython3",
   "version": "3.11.2"
  }
 },
 "nbformat": 4,
 "nbformat_minor": 2
}
