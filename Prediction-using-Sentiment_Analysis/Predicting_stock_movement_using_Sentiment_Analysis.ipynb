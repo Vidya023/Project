{
 "cells": [
  {
   "cell_type": "markdown",
   "metadata": {},
   "source": [
    "Data Link : https://www.kaggle.com/datasets/equinxx/stock-tweets-for-sentiment-analysis-and-prediction?resource=download"
   ]
  },
  {
   "cell_type": "code",
   "execution_count": 1,
   "metadata": {},
   "outputs": [],
   "source": [
    "import pandas as pd \n",
    "import numpy as np \n",
    "from datetime import datetime, timedelta\n",
    "import yfinance as yf \n",
    "from textblob import TextBlob \n",
    "import re \n",
    "import matplotlib.pyplot as plt \n",
    "%matplotlib inline\n",
    "from talib import EMA, RSI, OBV \n",
    "from sklearn.model_selection import train_test_split, TimeSeriesSplit\n",
    "from sklearn import metrics, tree\n",
    "from sklearn.preprocessing import StandardScaler \n",
    "from sklearn.ensemble import RandomForestRegressor\n",
    "import warnings\n",
    "warnings.filterwarnings('ignore') "
   ]
  },
  {
   "cell_type": "code",
   "execution_count": 2,
   "metadata": {},
   "outputs": [
    {
     "data": {
      "text/html": [
       "<div>\n",
       "<style scoped>\n",
       "    .dataframe tbody tr th:only-of-type {\n",
       "        vertical-align: middle;\n",
       "    }\n",
       "\n",
       "    .dataframe tbody tr th {\n",
       "        vertical-align: top;\n",
       "    }\n",
       "\n",
       "    .dataframe thead th {\n",
       "        text-align: right;\n",
       "    }\n",
       "</style>\n",
       "<table border=\"1\" class=\"dataframe\">\n",
       "  <thead>\n",
       "    <tr style=\"text-align: right;\">\n",
       "      <th></th>\n",
       "      <th>Date</th>\n",
       "      <th>Tweet</th>\n",
       "      <th>Stock Name</th>\n",
       "      <th>Company Name</th>\n",
       "    </tr>\n",
       "  </thead>\n",
       "  <tbody>\n",
       "    <tr>\n",
       "      <th>0</th>\n",
       "      <td>2022-09-29 23:41:16+00:00</td>\n",
       "      <td>Mainstream media has done an amazing job at br...</td>\n",
       "      <td>TSLA</td>\n",
       "      <td>Tesla, Inc.</td>\n",
       "    </tr>\n",
       "    <tr>\n",
       "      <th>1</th>\n",
       "      <td>2022-09-29 23:24:43+00:00</td>\n",
       "      <td>Tesla delivery estimates are at around 364k fr...</td>\n",
       "      <td>TSLA</td>\n",
       "      <td>Tesla, Inc.</td>\n",
       "    </tr>\n",
       "    <tr>\n",
       "      <th>2</th>\n",
       "      <td>2022-09-29 23:18:08+00:00</td>\n",
       "      <td>3/ Even if I include 63.0M unvested RSUs as of...</td>\n",
       "      <td>TSLA</td>\n",
       "      <td>Tesla, Inc.</td>\n",
       "    </tr>\n",
       "    <tr>\n",
       "      <th>3</th>\n",
       "      <td>2022-09-29 22:40:07+00:00</td>\n",
       "      <td>@RealDanODowd @WholeMarsBlog @Tesla Hahaha why...</td>\n",
       "      <td>TSLA</td>\n",
       "      <td>Tesla, Inc.</td>\n",
       "    </tr>\n",
       "    <tr>\n",
       "      <th>4</th>\n",
       "      <td>2022-09-29 22:27:05+00:00</td>\n",
       "      <td>@RealDanODowd @Tesla Stop trying to kill kids,...</td>\n",
       "      <td>TSLA</td>\n",
       "      <td>Tesla, Inc.</td>\n",
       "    </tr>\n",
       "  </tbody>\n",
       "</table>\n",
       "</div>"
      ],
      "text/plain": [
       "                        Date  \\\n",
       "0  2022-09-29 23:41:16+00:00   \n",
       "1  2022-09-29 23:24:43+00:00   \n",
       "2  2022-09-29 23:18:08+00:00   \n",
       "3  2022-09-29 22:40:07+00:00   \n",
       "4  2022-09-29 22:27:05+00:00   \n",
       "\n",
       "                                               Tweet Stock Name Company Name  \n",
       "0  Mainstream media has done an amazing job at br...       TSLA  Tesla, Inc.  \n",
       "1  Tesla delivery estimates are at around 364k fr...       TSLA  Tesla, Inc.  \n",
       "2  3/ Even if I include 63.0M unvested RSUs as of...       TSLA  Tesla, Inc.  \n",
       "3  @RealDanODowd @WholeMarsBlog @Tesla Hahaha why...       TSLA  Tesla, Inc.  \n",
       "4  @RealDanODowd @Tesla Stop trying to kill kids,...       TSLA  Tesla, Inc.  "
      ]
     },
     "execution_count": 2,
     "metadata": {},
     "output_type": "execute_result"
    }
   ],
   "source": [
    "data = pd.read_csv('stock_tweets.csv') \n",
    "data.head() "
   ]
  },
  {
   "cell_type": "code",
   "execution_count": 3,
   "metadata": {},
   "outputs": [
    {
     "data": {
      "text/html": [
       "<div>\n",
       "<style scoped>\n",
       "    .dataframe tbody tr th:only-of-type {\n",
       "        vertical-align: middle;\n",
       "    }\n",
       "\n",
       "    .dataframe tbody tr th {\n",
       "        vertical-align: top;\n",
       "    }\n",
       "\n",
       "    .dataframe thead th {\n",
       "        text-align: right;\n",
       "    }\n",
       "</style>\n",
       "<table border=\"1\" class=\"dataframe\">\n",
       "  <thead>\n",
       "    <tr style=\"text-align: right;\">\n",
       "      <th></th>\n",
       "      <th>Date</th>\n",
       "      <th>Tweet</th>\n",
       "      <th>Stock Name</th>\n",
       "      <th>Company Name</th>\n",
       "    </tr>\n",
       "  </thead>\n",
       "  <tbody>\n",
       "    <tr>\n",
       "      <th>80788</th>\n",
       "      <td>2021-10-07 17:11:57+00:00</td>\n",
       "      <td>Some of the fastest growing tech stocks on the...</td>\n",
       "      <td>XPEV</td>\n",
       "      <td>XPeng Inc.</td>\n",
       "    </tr>\n",
       "    <tr>\n",
       "      <th>80789</th>\n",
       "      <td>2021-10-04 17:05:59+00:00</td>\n",
       "      <td>With earnings on the horizon, here is a quick ...</td>\n",
       "      <td>XPEV</td>\n",
       "      <td>XPeng Inc.</td>\n",
       "    </tr>\n",
       "    <tr>\n",
       "      <th>80790</th>\n",
       "      <td>2021-10-01 04:43:41+00:00</td>\n",
       "      <td>Our record delivery results are a testimony of...</td>\n",
       "      <td>XPEV</td>\n",
       "      <td>XPeng Inc.</td>\n",
       "    </tr>\n",
       "    <tr>\n",
       "      <th>80791</th>\n",
       "      <td>2021-10-01 00:03:32+00:00</td>\n",
       "      <td>We delivered 10,412 Smart EVs in Sep 2021, rea...</td>\n",
       "      <td>XPEV</td>\n",
       "      <td>XPeng Inc.</td>\n",
       "    </tr>\n",
       "    <tr>\n",
       "      <th>80792</th>\n",
       "      <td>2021-09-30 10:22:52+00:00</td>\n",
       "      <td>Why can XPeng P5 deliver outstanding performan...</td>\n",
       "      <td>XPEV</td>\n",
       "      <td>XPeng Inc.</td>\n",
       "    </tr>\n",
       "  </tbody>\n",
       "</table>\n",
       "</div>"
      ],
      "text/plain": [
       "                            Date  \\\n",
       "80788  2021-10-07 17:11:57+00:00   \n",
       "80789  2021-10-04 17:05:59+00:00   \n",
       "80790  2021-10-01 04:43:41+00:00   \n",
       "80791  2021-10-01 00:03:32+00:00   \n",
       "80792  2021-09-30 10:22:52+00:00   \n",
       "\n",
       "                                                   Tweet Stock Name  \\\n",
       "80788  Some of the fastest growing tech stocks on the...       XPEV   \n",
       "80789  With earnings on the horizon, here is a quick ...       XPEV   \n",
       "80790  Our record delivery results are a testimony of...       XPEV   \n",
       "80791  We delivered 10,412 Smart EVs in Sep 2021, rea...       XPEV   \n",
       "80792  Why can XPeng P5 deliver outstanding performan...       XPEV   \n",
       "\n",
       "      Company Name  \n",
       "80788   XPeng Inc.  \n",
       "80789   XPeng Inc.  \n",
       "80790   XPeng Inc.  \n",
       "80791   XPeng Inc.  \n",
       "80792   XPeng Inc.  "
      ]
     },
     "execution_count": 3,
     "metadata": {},
     "output_type": "execute_result"
    }
   ],
   "source": [
    "data.tail() "
   ]
  },
  {
   "cell_type": "code",
   "execution_count": 4,
   "metadata": {},
   "outputs": [
    {
     "data": {
      "text/html": [
       "<div>\n",
       "<style scoped>\n",
       "    .dataframe tbody tr th:only-of-type {\n",
       "        vertical-align: middle;\n",
       "    }\n",
       "\n",
       "    .dataframe tbody tr th {\n",
       "        vertical-align: top;\n",
       "    }\n",
       "\n",
       "    .dataframe thead th {\n",
       "        text-align: right;\n",
       "    }\n",
       "</style>\n",
       "<table border=\"1\" class=\"dataframe\">\n",
       "  <thead>\n",
       "    <tr style=\"text-align: right;\">\n",
       "      <th></th>\n",
       "      <th>Date</th>\n",
       "      <th>Tweet</th>\n",
       "      <th>Stock Name</th>\n",
       "      <th>Company Name</th>\n",
       "    </tr>\n",
       "  </thead>\n",
       "  <tbody>\n",
       "    <tr>\n",
       "      <th>0</th>\n",
       "      <td>2022-09-29 23:41:16+00:00</td>\n",
       "      <td>Mainstream media has done an amazing job at br...</td>\n",
       "      <td>TSLA</td>\n",
       "      <td>Tesla, Inc.</td>\n",
       "    </tr>\n",
       "    <tr>\n",
       "      <th>1</th>\n",
       "      <td>2022-09-29 23:24:43+00:00</td>\n",
       "      <td>Tesla delivery estimates are at around 364k fr...</td>\n",
       "      <td>TSLA</td>\n",
       "      <td>Tesla, Inc.</td>\n",
       "    </tr>\n",
       "    <tr>\n",
       "      <th>2</th>\n",
       "      <td>2022-09-29 23:18:08+00:00</td>\n",
       "      <td>3/ Even if I include 63.0M unvested RSUs as of...</td>\n",
       "      <td>TSLA</td>\n",
       "      <td>Tesla, Inc.</td>\n",
       "    </tr>\n",
       "    <tr>\n",
       "      <th>3</th>\n",
       "      <td>2022-09-29 22:40:07+00:00</td>\n",
       "      <td>@RealDanODowd @WholeMarsBlog @Tesla Hahaha why...</td>\n",
       "      <td>TSLA</td>\n",
       "      <td>Tesla, Inc.</td>\n",
       "    </tr>\n",
       "    <tr>\n",
       "      <th>4</th>\n",
       "      <td>2022-09-29 22:27:05+00:00</td>\n",
       "      <td>@RealDanODowd @Tesla Stop trying to kill kids,...</td>\n",
       "      <td>TSLA</td>\n",
       "      <td>Tesla, Inc.</td>\n",
       "    </tr>\n",
       "  </tbody>\n",
       "</table>\n",
       "</div>"
      ],
      "text/plain": [
       "                        Date  \\\n",
       "0  2022-09-29 23:41:16+00:00   \n",
       "1  2022-09-29 23:24:43+00:00   \n",
       "2  2022-09-29 23:18:08+00:00   \n",
       "3  2022-09-29 22:40:07+00:00   \n",
       "4  2022-09-29 22:27:05+00:00   \n",
       "\n",
       "                                               Tweet Stock Name Company Name  \n",
       "0  Mainstream media has done an amazing job at br...       TSLA  Tesla, Inc.  \n",
       "1  Tesla delivery estimates are at around 364k fr...       TSLA  Tesla, Inc.  \n",
       "2  3/ Even if I include 63.0M unvested RSUs as of...       TSLA  Tesla, Inc.  \n",
       "3  @RealDanODowd @WholeMarsBlog @Tesla Hahaha why...       TSLA  Tesla, Inc.  \n",
       "4  @RealDanODowd @Tesla Stop trying to kill kids,...       TSLA  Tesla, Inc.  "
      ]
     },
     "execution_count": 4,
     "metadata": {},
     "output_type": "execute_result"
    }
   ],
   "source": [
    "tsla_df = data[data['Stock Name']=='TSLA'] \n",
    "tsla_df.head() "
   ]
  },
  {
   "cell_type": "code",
   "execution_count": 5,
   "metadata": {},
   "outputs": [
    {
     "data": {
      "text/html": [
       "<div>\n",
       "<style scoped>\n",
       "    .dataframe tbody tr th:only-of-type {\n",
       "        vertical-align: middle;\n",
       "    }\n",
       "\n",
       "    .dataframe tbody tr th {\n",
       "        vertical-align: top;\n",
       "    }\n",
       "\n",
       "    .dataframe thead th {\n",
       "        text-align: right;\n",
       "    }\n",
       "</style>\n",
       "<table border=\"1\" class=\"dataframe\">\n",
       "  <thead>\n",
       "    <tr style=\"text-align: right;\">\n",
       "      <th></th>\n",
       "      <th>Date</th>\n",
       "      <th>Tweet</th>\n",
       "    </tr>\n",
       "  </thead>\n",
       "  <tbody>\n",
       "    <tr>\n",
       "      <th>0</th>\n",
       "      <td>2022-09-29 23:41:16+00:00</td>\n",
       "      <td>Mainstream media has done an amazing job at br...</td>\n",
       "    </tr>\n",
       "    <tr>\n",
       "      <th>1</th>\n",
       "      <td>2022-09-29 23:24:43+00:00</td>\n",
       "      <td>Tesla delivery estimates are at around 364k fr...</td>\n",
       "    </tr>\n",
       "    <tr>\n",
       "      <th>2</th>\n",
       "      <td>2022-09-29 23:18:08+00:00</td>\n",
       "      <td>3/ Even if I include 63.0M unvested RSUs as of...</td>\n",
       "    </tr>\n",
       "    <tr>\n",
       "      <th>3</th>\n",
       "      <td>2022-09-29 22:40:07+00:00</td>\n",
       "      <td>@RealDanODowd @WholeMarsBlog @Tesla Hahaha why...</td>\n",
       "    </tr>\n",
       "    <tr>\n",
       "      <th>4</th>\n",
       "      <td>2022-09-29 22:27:05+00:00</td>\n",
       "      <td>@RealDanODowd @Tesla Stop trying to kill kids,...</td>\n",
       "    </tr>\n",
       "  </tbody>\n",
       "</table>\n",
       "</div>"
      ],
      "text/plain": [
       "                        Date  \\\n",
       "0  2022-09-29 23:41:16+00:00   \n",
       "1  2022-09-29 23:24:43+00:00   \n",
       "2  2022-09-29 23:18:08+00:00   \n",
       "3  2022-09-29 22:40:07+00:00   \n",
       "4  2022-09-29 22:27:05+00:00   \n",
       "\n",
       "                                               Tweet  \n",
       "0  Mainstream media has done an amazing job at br...  \n",
       "1  Tesla delivery estimates are at around 364k fr...  \n",
       "2  3/ Even if I include 63.0M unvested RSUs as of...  \n",
       "3  @RealDanODowd @WholeMarsBlog @Tesla Hahaha why...  \n",
       "4  @RealDanODowd @Tesla Stop trying to kill kids,...  "
      ]
     },
     "execution_count": 5,
     "metadata": {},
     "output_type": "execute_result"
    }
   ],
   "source": [
    "tsla_df = tsla_df.drop(columns=['Stock Name','Company Name']) \n",
    "tsla_df.head() "
   ]
  },
  {
   "cell_type": "code",
   "execution_count": 6,
   "metadata": {},
   "outputs": [
    {
     "name": "stdout",
     "output_type": "stream",
     "text": [
      "First date :  2021-09-30 01:16:13+00:00\n",
      "Last date :  2022-09-29 23:41:16+00:00\n"
     ]
    }
   ],
   "source": [
    "print('First date : ',tsla_df['Date'].min())\n",
    "print('Last date : ',tsla_df['Date'].max()) "
   ]
  },
  {
   "cell_type": "code",
   "execution_count": 7,
   "metadata": {},
   "outputs": [],
   "source": [
    "tsla_df['Date'] = pd.to_datetime(tsla_df['Date']) "
   ]
  },
  {
   "cell_type": "markdown",
   "metadata": {},
   "source": [
    "### Clearing Tweets and Getting Sentiment"
   ]
  },
  {
   "cell_type": "code",
   "execution_count": 8,
   "metadata": {},
   "outputs": [],
   "source": [
    "tsla_df['Clean_tweets'] = tsla_df['Tweet'].apply(lambda row: ' '.join(re.sub(\"(@[A-Za-z0-9]+)|([^0-9A-Za-z \\t])|(\\w+:\\/\\/\\S+)\", \" \",row).split())) "
   ]
  },
  {
   "cell_type": "code",
   "execution_count": 9,
   "metadata": {},
   "outputs": [
    {
     "data": {
      "text/html": [
       "<div>\n",
       "<style scoped>\n",
       "    .dataframe tbody tr th:only-of-type {\n",
       "        vertical-align: middle;\n",
       "    }\n",
       "\n",
       "    .dataframe tbody tr th {\n",
       "        vertical-align: top;\n",
       "    }\n",
       "\n",
       "    .dataframe thead th {\n",
       "        text-align: right;\n",
       "    }\n",
       "</style>\n",
       "<table border=\"1\" class=\"dataframe\">\n",
       "  <thead>\n",
       "    <tr style=\"text-align: right;\">\n",
       "      <th></th>\n",
       "      <th>Date</th>\n",
       "      <th>Tweet</th>\n",
       "      <th>Clean_tweets</th>\n",
       "    </tr>\n",
       "  </thead>\n",
       "  <tbody>\n",
       "    <tr>\n",
       "      <th>0</th>\n",
       "      <td>2022-09-29 23:41:16+00:00</td>\n",
       "      <td>Mainstream media has done an amazing job at br...</td>\n",
       "      <td>Mainstream media has done an amazing job at br...</td>\n",
       "    </tr>\n",
       "    <tr>\n",
       "      <th>1</th>\n",
       "      <td>2022-09-29 23:24:43+00:00</td>\n",
       "      <td>Tesla delivery estimates are at around 364k fr...</td>\n",
       "      <td>Tesla delivery estimates are at around 364k fr...</td>\n",
       "    </tr>\n",
       "    <tr>\n",
       "      <th>2</th>\n",
       "      <td>2022-09-29 23:18:08+00:00</td>\n",
       "      <td>3/ Even if I include 63.0M unvested RSUs as of...</td>\n",
       "      <td>3 Even if I include 63 0M unvested RSUs as of ...</td>\n",
       "    </tr>\n",
       "    <tr>\n",
       "      <th>3</th>\n",
       "      <td>2022-09-29 22:40:07+00:00</td>\n",
       "      <td>@RealDanODowd @WholeMarsBlog @Tesla Hahaha why...</td>\n",
       "      <td>Hahaha why are you still trying to stop Tesla ...</td>\n",
       "    </tr>\n",
       "    <tr>\n",
       "      <th>4</th>\n",
       "      <td>2022-09-29 22:27:05+00:00</td>\n",
       "      <td>@RealDanODowd @Tesla Stop trying to kill kids,...</td>\n",
       "      <td>Stop trying to kill kids you sad deranged old man</td>\n",
       "    </tr>\n",
       "  </tbody>\n",
       "</table>\n",
       "</div>"
      ],
      "text/plain": [
       "                       Date  \\\n",
       "0 2022-09-29 23:41:16+00:00   \n",
       "1 2022-09-29 23:24:43+00:00   \n",
       "2 2022-09-29 23:18:08+00:00   \n",
       "3 2022-09-29 22:40:07+00:00   \n",
       "4 2022-09-29 22:27:05+00:00   \n",
       "\n",
       "                                               Tweet  \\\n",
       "0  Mainstream media has done an amazing job at br...   \n",
       "1  Tesla delivery estimates are at around 364k fr...   \n",
       "2  3/ Even if I include 63.0M unvested RSUs as of...   \n",
       "3  @RealDanODowd @WholeMarsBlog @Tesla Hahaha why...   \n",
       "4  @RealDanODowd @Tesla Stop trying to kill kids,...   \n",
       "\n",
       "                                        Clean_tweets  \n",
       "0  Mainstream media has done an amazing job at br...  \n",
       "1  Tesla delivery estimates are at around 364k fr...  \n",
       "2  3 Even if I include 63 0M unvested RSUs as of ...  \n",
       "3  Hahaha why are you still trying to stop Tesla ...  \n",
       "4  Stop trying to kill kids you sad deranged old man  "
      ]
     },
     "execution_count": 9,
     "metadata": {},
     "output_type": "execute_result"
    }
   ],
   "source": [
    "tsla_df.head() "
   ]
  },
  {
   "cell_type": "code",
   "execution_count": 10,
   "metadata": {},
   "outputs": [],
   "source": [
    "tsla_df['tweet_sentiment'] = tsla_df['Clean_tweets'].apply(lambda row: 1 if TextBlob(row).sentiment.polarity>0 else (0 if TextBlob(row).sentiment.polarity==0 else -1))"
   ]
  },
  {
   "cell_type": "code",
   "execution_count": 11,
   "metadata": {},
   "outputs": [
    {
     "data": {
      "text/html": [
       "<div>\n",
       "<style scoped>\n",
       "    .dataframe tbody tr th:only-of-type {\n",
       "        vertical-align: middle;\n",
       "    }\n",
       "\n",
       "    .dataframe tbody tr th {\n",
       "        vertical-align: top;\n",
       "    }\n",
       "\n",
       "    .dataframe thead th {\n",
       "        text-align: right;\n",
       "    }\n",
       "</style>\n",
       "<table border=\"1\" class=\"dataframe\">\n",
       "  <thead>\n",
       "    <tr style=\"text-align: right;\">\n",
       "      <th></th>\n",
       "      <th>Date</th>\n",
       "      <th>Tweet</th>\n",
       "      <th>Clean_tweets</th>\n",
       "      <th>tweet_sentiment</th>\n",
       "    </tr>\n",
       "  </thead>\n",
       "  <tbody>\n",
       "    <tr>\n",
       "      <th>0</th>\n",
       "      <td>2022-09-29 23:41:16+00:00</td>\n",
       "      <td>Mainstream media has done an amazing job at br...</td>\n",
       "      <td>Mainstream media has done an amazing job at br...</td>\n",
       "      <td>1</td>\n",
       "    </tr>\n",
       "    <tr>\n",
       "      <th>1</th>\n",
       "      <td>2022-09-29 23:24:43+00:00</td>\n",
       "      <td>Tesla delivery estimates are at around 364k fr...</td>\n",
       "      <td>Tesla delivery estimates are at around 364k fr...</td>\n",
       "      <td>0</td>\n",
       "    </tr>\n",
       "    <tr>\n",
       "      <th>2</th>\n",
       "      <td>2022-09-29 23:18:08+00:00</td>\n",
       "      <td>3/ Even if I include 63.0M unvested RSUs as of...</td>\n",
       "      <td>3 Even if I include 63 0M unvested RSUs as of ...</td>\n",
       "      <td>1</td>\n",
       "    </tr>\n",
       "    <tr>\n",
       "      <th>3</th>\n",
       "      <td>2022-09-29 22:40:07+00:00</td>\n",
       "      <td>@RealDanODowd @WholeMarsBlog @Tesla Hahaha why...</td>\n",
       "      <td>Hahaha why are you still trying to stop Tesla ...</td>\n",
       "      <td>1</td>\n",
       "    </tr>\n",
       "    <tr>\n",
       "      <th>4</th>\n",
       "      <td>2022-09-29 22:27:05+00:00</td>\n",
       "      <td>@RealDanODowd @Tesla Stop trying to kill kids,...</td>\n",
       "      <td>Stop trying to kill kids you sad deranged old man</td>\n",
       "      <td>-1</td>\n",
       "    </tr>\n",
       "  </tbody>\n",
       "</table>\n",
       "</div>"
      ],
      "text/plain": [
       "                       Date  \\\n",
       "0 2022-09-29 23:41:16+00:00   \n",
       "1 2022-09-29 23:24:43+00:00   \n",
       "2 2022-09-29 23:18:08+00:00   \n",
       "3 2022-09-29 22:40:07+00:00   \n",
       "4 2022-09-29 22:27:05+00:00   \n",
       "\n",
       "                                               Tweet  \\\n",
       "0  Mainstream media has done an amazing job at br...   \n",
       "1  Tesla delivery estimates are at around 364k fr...   \n",
       "2  3/ Even if I include 63.0M unvested RSUs as of...   \n",
       "3  @RealDanODowd @WholeMarsBlog @Tesla Hahaha why...   \n",
       "4  @RealDanODowd @Tesla Stop trying to kill kids,...   \n",
       "\n",
       "                                        Clean_tweets  tweet_sentiment  \n",
       "0  Mainstream media has done an amazing job at br...                1  \n",
       "1  Tesla delivery estimates are at around 364k fr...                0  \n",
       "2  3 Even if I include 63 0M unvested RSUs as of ...                1  \n",
       "3  Hahaha why are you still trying to stop Tesla ...                1  \n",
       "4  Stop trying to kill kids you sad deranged old man               -1  "
      ]
     },
     "execution_count": 11,
     "metadata": {},
     "output_type": "execute_result"
    }
   ],
   "source": [
    "tsla_df.head() "
   ]
  },
  {
   "cell_type": "markdown",
   "metadata": {},
   "source": [
    "Converting Date Column as DatetimeIndex "
   ]
  },
  {
   "cell_type": "code",
   "execution_count": 12,
   "metadata": {},
   "outputs": [],
   "source": [
    "tsla_df['Date'] = pd.to_datetime(tsla_df['Date'])\n",
    "tsla_df.set_index('Date', inplace=True)"
   ]
  },
  {
   "cell_type": "code",
   "execution_count": 13,
   "metadata": {},
   "outputs": [],
   "source": [
    "tweets_indicator_df =tsla_df.resample('D').tweet_sentiment.mean()"
   ]
  },
  {
   "cell_type": "code",
   "execution_count": 14,
   "metadata": {},
   "outputs": [
    {
     "data": {
      "text/plain": [
       "Date\n",
       "2021-09-30 00:00:00+00:00    0.400000\n",
       "2021-10-01 00:00:00+00:00    0.276596\n",
       "2021-10-02 00:00:00+00:00    0.362069\n",
       "2021-10-03 00:00:00+00:00    0.442623\n",
       "2021-10-04 00:00:00+00:00    0.218487\n",
       "Freq: D, Name: tweet_sentiment, dtype: float64"
      ]
     },
     "execution_count": 14,
     "metadata": {},
     "output_type": "execute_result"
    }
   ],
   "source": [
    "tweets_indicator_df.head() "
   ]
  },
  {
   "cell_type": "code",
   "execution_count": 15,
   "metadata": {},
   "outputs": [
    {
     "data": {
      "text/plain": [
       "Date\n",
       "2022-09-25 00:00:00+00:00    0.527778\n",
       "2022-09-26 00:00:00+00:00    0.430556\n",
       "2022-09-27 00:00:00+00:00    0.294118\n",
       "2022-09-28 00:00:00+00:00    0.373333\n",
       "2022-09-29 00:00:00+00:00    0.294643\n",
       "Freq: D, Name: tweet_sentiment, dtype: float64"
      ]
     },
     "execution_count": 15,
     "metadata": {},
     "output_type": "execute_result"
    }
   ],
   "source": [
    "tweets_indicator_df.tail() "
   ]
  },
  {
   "cell_type": "markdown",
   "metadata": {},
   "source": [
    "### Cleaning Date column to remove time part "
   ]
  },
  {
   "cell_type": "code",
   "execution_count": 16,
   "metadata": {},
   "outputs": [],
   "source": [
    "tweets_indicator_df=tweets_indicator_df.tz_localize(None)"
   ]
  },
  {
   "cell_type": "code",
   "execution_count": 17,
   "metadata": {},
   "outputs": [
    {
     "data": {
      "text/plain": [
       "Date\n",
       "2021-09-30    0.400000\n",
       "2021-10-01    0.276596\n",
       "2021-10-02    0.362069\n",
       "2021-10-03    0.442623\n",
       "2021-10-04    0.218487\n",
       "Name: tweet_sentiment, dtype: float64"
      ]
     },
     "execution_count": 17,
     "metadata": {},
     "output_type": "execute_result"
    }
   ],
   "source": [
    "tweets_indicator_df.head() "
   ]
  },
  {
   "cell_type": "code",
   "execution_count": 18,
   "metadata": {},
   "outputs": [
    {
     "data": {
      "text/plain": [
       "(365,)"
      ]
     },
     "execution_count": 18,
     "metadata": {},
     "output_type": "execute_result"
    }
   ],
   "source": [
    "tweets_indicator_df.shape "
   ]
  },
  {
   "cell_type": "code",
   "execution_count": 19,
   "metadata": {},
   "outputs": [
    {
     "data": {
      "text/plain": [
       "Date\n",
       "2021-09-30    0.400000\n",
       "2021-10-01    0.276596\n",
       "2021-10-02    0.362069\n",
       "2021-10-03    0.442623\n",
       "2021-10-04    0.218487\n",
       "Name: tweet_sentiment, dtype: float64"
      ]
     },
     "execution_count": 19,
     "metadata": {},
     "output_type": "execute_result"
    }
   ],
   "source": [
    "tweets_indicator_df.fillna(method='ffill').head() "
   ]
  },
  {
   "cell_type": "code",
   "execution_count": 20,
   "metadata": {},
   "outputs": [
    {
     "data": {
      "text/plain": [
       "pandas.core.series.Series"
      ]
     },
     "execution_count": 20,
     "metadata": {},
     "output_type": "execute_result"
    }
   ],
   "source": [
    "type(tweets_indicator_df ) "
   ]
  },
  {
   "cell_type": "markdown",
   "metadata": {},
   "source": [
    "### Getting close value of TSLA from 2021-09-30 to 2022-09-29    "
   ]
  },
  {
   "cell_type": "code",
   "execution_count": 21,
   "metadata": {},
   "outputs": [],
   "source": [
    "def nxt_date(date):\n",
    "    # Convert string to datetime object\n",
    "    date = datetime.strptime(date, '%Y-%m-%d')\n",
    "\n",
    "    # Calculate next date\n",
    "    next_date = date + timedelta(days=1)\n",
    "\n",
    "    # Convert next_date back to string format\n",
    "    next_date_str = next_date.strftime('%Y-%m-%d')\n",
    "\n",
    "    print(f\"Next date after {date}: {next_date_str}\") \n",
    "    return next_date_str "
   ]
  },
  {
   "cell_type": "code",
   "execution_count": 22,
   "metadata": {},
   "outputs": [
    {
     "name": "stdout",
     "output_type": "stream",
     "text": [
      "Next date after 2021-09-30 00:00:00: 2021-10-01\n",
      "Next date after 2022-09-29 00:00:00: 2022-09-30\n"
     ]
    }
   ],
   "source": [
    "ticker = 'TSLA'\n",
    "start_date = '2021-09-30'   \n",
    "end_date = '2022-09-29'\n",
    "start_date_nxt = nxt_date(start_date)\n",
    "end_date_nxt = nxt_date(end_date)     "
   ]
  },
  {
   "cell_type": "code",
   "execution_count": 23,
   "metadata": {},
   "outputs": [
    {
     "name": "stderr",
     "output_type": "stream",
     "text": [
      "[*********************100%%**********************]  1 of 1 completed\n",
      "[*********************100%%**********************]  1 of 1 completed\n"
     ]
    }
   ],
   "source": [
    "#Retrieving historical Data\n",
    "\n",
    "tsla_data = yf.download(ticker,start=start_date,end=end_date)\n",
    "tsla_data_nxt = yf.download(ticker,start=start_date_nxt,end=end_date_nxt)  "
   ]
  },
  {
   "cell_type": "code",
   "execution_count": 24,
   "metadata": {},
   "outputs": [
    {
     "data": {
      "text/html": [
       "<div>\n",
       "<style scoped>\n",
       "    .dataframe tbody tr th:only-of-type {\n",
       "        vertical-align: middle;\n",
       "    }\n",
       "\n",
       "    .dataframe tbody tr th {\n",
       "        vertical-align: top;\n",
       "    }\n",
       "\n",
       "    .dataframe thead th {\n",
       "        text-align: right;\n",
       "    }\n",
       "</style>\n",
       "<table border=\"1\" class=\"dataframe\">\n",
       "  <thead>\n",
       "    <tr style=\"text-align: right;\">\n",
       "      <th></th>\n",
       "      <th>Open</th>\n",
       "      <th>High</th>\n",
       "      <th>Low</th>\n",
       "      <th>Close</th>\n",
       "      <th>Adj Close</th>\n",
       "      <th>Volume</th>\n",
       "    </tr>\n",
       "    <tr>\n",
       "      <th>Date</th>\n",
       "      <th></th>\n",
       "      <th></th>\n",
       "      <th></th>\n",
       "      <th></th>\n",
       "      <th></th>\n",
       "      <th></th>\n",
       "    </tr>\n",
       "  </thead>\n",
       "  <tbody>\n",
       "    <tr>\n",
       "      <th>2021-09-30</th>\n",
       "      <td>260.333344</td>\n",
       "      <td>263.043335</td>\n",
       "      <td>258.333344</td>\n",
       "      <td>258.493347</td>\n",
       "      <td>258.493347</td>\n",
       "      <td>53868000</td>\n",
       "    </tr>\n",
       "    <tr>\n",
       "      <th>2021-10-01</th>\n",
       "      <td>259.466675</td>\n",
       "      <td>260.260010</td>\n",
       "      <td>254.529999</td>\n",
       "      <td>258.406677</td>\n",
       "      <td>258.406677</td>\n",
       "      <td>51094200</td>\n",
       "    </tr>\n",
       "    <tr>\n",
       "      <th>2021-10-04</th>\n",
       "      <td>265.500000</td>\n",
       "      <td>268.989990</td>\n",
       "      <td>258.706665</td>\n",
       "      <td>260.510010</td>\n",
       "      <td>260.510010</td>\n",
       "      <td>91449900</td>\n",
       "    </tr>\n",
       "    <tr>\n",
       "      <th>2021-10-05</th>\n",
       "      <td>261.600006</td>\n",
       "      <td>265.769989</td>\n",
       "      <td>258.066681</td>\n",
       "      <td>260.196655</td>\n",
       "      <td>260.196655</td>\n",
       "      <td>55297800</td>\n",
       "    </tr>\n",
       "    <tr>\n",
       "      <th>2021-10-06</th>\n",
       "      <td>258.733337</td>\n",
       "      <td>262.220001</td>\n",
       "      <td>257.739990</td>\n",
       "      <td>260.916656</td>\n",
       "      <td>260.916656</td>\n",
       "      <td>43898400</td>\n",
       "    </tr>\n",
       "  </tbody>\n",
       "</table>\n",
       "</div>"
      ],
      "text/plain": [
       "                  Open        High         Low       Close   Adj Close  \\\n",
       "Date                                                                     \n",
       "2021-09-30  260.333344  263.043335  258.333344  258.493347  258.493347   \n",
       "2021-10-01  259.466675  260.260010  254.529999  258.406677  258.406677   \n",
       "2021-10-04  265.500000  268.989990  258.706665  260.510010  260.510010   \n",
       "2021-10-05  261.600006  265.769989  258.066681  260.196655  260.196655   \n",
       "2021-10-06  258.733337  262.220001  257.739990  260.916656  260.916656   \n",
       "\n",
       "              Volume  \n",
       "Date                  \n",
       "2021-09-30  53868000  \n",
       "2021-10-01  51094200  \n",
       "2021-10-04  91449900  \n",
       "2021-10-05  55297800  \n",
       "2021-10-06  43898400  "
      ]
     },
     "execution_count": 24,
     "metadata": {},
     "output_type": "execute_result"
    }
   ],
   "source": [
    "tsla_data.head() "
   ]
  },
  {
   "cell_type": "code",
   "execution_count": 25,
   "metadata": {},
   "outputs": [
    {
     "data": {
      "text/plain": [
       "pandas.core.frame.DataFrame"
      ]
     },
     "execution_count": 25,
     "metadata": {},
     "output_type": "execute_result"
    }
   ],
   "source": [
    "type(tsla_data)"
   ]
  },
  {
   "cell_type": "code",
   "execution_count": 26,
   "metadata": {},
   "outputs": [],
   "source": [
    "tsla_data.reset_index('Date',inplace=True) \n",
    "tsla_data_nxt.reset_index('Date',inplace=True)  "
   ]
  },
  {
   "cell_type": "code",
   "execution_count": 27,
   "metadata": {},
   "outputs": [],
   "source": [
    "tsla_data['Close_nxt'] = tsla_data_nxt['Close']"
   ]
  },
  {
   "cell_type": "code",
   "execution_count": 28,
   "metadata": {},
   "outputs": [
    {
     "data": {
      "text/html": [
       "<div>\n",
       "<style scoped>\n",
       "    .dataframe tbody tr th:only-of-type {\n",
       "        vertical-align: middle;\n",
       "    }\n",
       "\n",
       "    .dataframe tbody tr th {\n",
       "        vertical-align: top;\n",
       "    }\n",
       "\n",
       "    .dataframe thead th {\n",
       "        text-align: right;\n",
       "    }\n",
       "</style>\n",
       "<table border=\"1\" class=\"dataframe\">\n",
       "  <thead>\n",
       "    <tr style=\"text-align: right;\">\n",
       "      <th></th>\n",
       "      <th>Date</th>\n",
       "      <th>Open</th>\n",
       "      <th>High</th>\n",
       "      <th>Low</th>\n",
       "      <th>Close</th>\n",
       "      <th>Adj Close</th>\n",
       "      <th>Volume</th>\n",
       "      <th>Close_nxt</th>\n",
       "    </tr>\n",
       "  </thead>\n",
       "  <tbody>\n",
       "    <tr>\n",
       "      <th>0</th>\n",
       "      <td>2021-09-30</td>\n",
       "      <td>260.333344</td>\n",
       "      <td>263.043335</td>\n",
       "      <td>258.333344</td>\n",
       "      <td>258.493347</td>\n",
       "      <td>258.493347</td>\n",
       "      <td>53868000</td>\n",
       "      <td>258.406677</td>\n",
       "    </tr>\n",
       "    <tr>\n",
       "      <th>1</th>\n",
       "      <td>2021-10-01</td>\n",
       "      <td>259.466675</td>\n",
       "      <td>260.260010</td>\n",
       "      <td>254.529999</td>\n",
       "      <td>258.406677</td>\n",
       "      <td>258.406677</td>\n",
       "      <td>51094200</td>\n",
       "      <td>260.510010</td>\n",
       "    </tr>\n",
       "    <tr>\n",
       "      <th>2</th>\n",
       "      <td>2021-10-04</td>\n",
       "      <td>265.500000</td>\n",
       "      <td>268.989990</td>\n",
       "      <td>258.706665</td>\n",
       "      <td>260.510010</td>\n",
       "      <td>260.510010</td>\n",
       "      <td>91449900</td>\n",
       "      <td>260.196655</td>\n",
       "    </tr>\n",
       "    <tr>\n",
       "      <th>3</th>\n",
       "      <td>2021-10-05</td>\n",
       "      <td>261.600006</td>\n",
       "      <td>265.769989</td>\n",
       "      <td>258.066681</td>\n",
       "      <td>260.196655</td>\n",
       "      <td>260.196655</td>\n",
       "      <td>55297800</td>\n",
       "      <td>260.916656</td>\n",
       "    </tr>\n",
       "    <tr>\n",
       "      <th>4</th>\n",
       "      <td>2021-10-06</td>\n",
       "      <td>258.733337</td>\n",
       "      <td>262.220001</td>\n",
       "      <td>257.739990</td>\n",
       "      <td>260.916656</td>\n",
       "      <td>260.916656</td>\n",
       "      <td>43898400</td>\n",
       "      <td>264.536682</td>\n",
       "    </tr>\n",
       "  </tbody>\n",
       "</table>\n",
       "</div>"
      ],
      "text/plain": [
       "        Date        Open        High         Low       Close   Adj Close  \\\n",
       "0 2021-09-30  260.333344  263.043335  258.333344  258.493347  258.493347   \n",
       "1 2021-10-01  259.466675  260.260010  254.529999  258.406677  258.406677   \n",
       "2 2021-10-04  265.500000  268.989990  258.706665  260.510010  260.510010   \n",
       "3 2021-10-05  261.600006  265.769989  258.066681  260.196655  260.196655   \n",
       "4 2021-10-06  258.733337  262.220001  257.739990  260.916656  260.916656   \n",
       "\n",
       "     Volume   Close_nxt  \n",
       "0  53868000  258.406677  \n",
       "1  51094200  260.510010  \n",
       "2  91449900  260.196655  \n",
       "3  55297800  260.916656  \n",
       "4  43898400  264.536682  "
      ]
     },
     "execution_count": 28,
     "metadata": {},
     "output_type": "execute_result"
    }
   ],
   "source": [
    "tsla_data.head() "
   ]
  },
  {
   "cell_type": "code",
   "execution_count": 29,
   "metadata": {},
   "outputs": [],
   "source": [
    "tsla_data['Date'] = pd.to_datetime(tsla_data['Date']) \n",
    "tsla_data.set_index('Date',inplace=True)  "
   ]
  },
  {
   "cell_type": "code",
   "execution_count": 30,
   "metadata": {},
   "outputs": [
    {
     "data": {
      "text/html": [
       "<div>\n",
       "<style scoped>\n",
       "    .dataframe tbody tr th:only-of-type {\n",
       "        vertical-align: middle;\n",
       "    }\n",
       "\n",
       "    .dataframe tbody tr th {\n",
       "        vertical-align: top;\n",
       "    }\n",
       "\n",
       "    .dataframe thead th {\n",
       "        text-align: right;\n",
       "    }\n",
       "</style>\n",
       "<table border=\"1\" class=\"dataframe\">\n",
       "  <thead>\n",
       "    <tr style=\"text-align: right;\">\n",
       "      <th></th>\n",
       "      <th>Open</th>\n",
       "      <th>High</th>\n",
       "      <th>Low</th>\n",
       "      <th>Close</th>\n",
       "      <th>Adj Close</th>\n",
       "      <th>Volume</th>\n",
       "      <th>Close_nxt</th>\n",
       "    </tr>\n",
       "    <tr>\n",
       "      <th>Date</th>\n",
       "      <th></th>\n",
       "      <th></th>\n",
       "      <th></th>\n",
       "      <th></th>\n",
       "      <th></th>\n",
       "      <th></th>\n",
       "      <th></th>\n",
       "    </tr>\n",
       "  </thead>\n",
       "  <tbody>\n",
       "    <tr>\n",
       "      <th>2021-09-30</th>\n",
       "      <td>260.333344</td>\n",
       "      <td>263.043335</td>\n",
       "      <td>258.333344</td>\n",
       "      <td>258.493347</td>\n",
       "      <td>258.493347</td>\n",
       "      <td>53868000</td>\n",
       "      <td>258.406677</td>\n",
       "    </tr>\n",
       "    <tr>\n",
       "      <th>2021-10-01</th>\n",
       "      <td>259.466675</td>\n",
       "      <td>260.260010</td>\n",
       "      <td>254.529999</td>\n",
       "      <td>258.406677</td>\n",
       "      <td>258.406677</td>\n",
       "      <td>51094200</td>\n",
       "      <td>260.510010</td>\n",
       "    </tr>\n",
       "    <tr>\n",
       "      <th>2021-10-04</th>\n",
       "      <td>265.500000</td>\n",
       "      <td>268.989990</td>\n",
       "      <td>258.706665</td>\n",
       "      <td>260.510010</td>\n",
       "      <td>260.510010</td>\n",
       "      <td>91449900</td>\n",
       "      <td>260.196655</td>\n",
       "    </tr>\n",
       "    <tr>\n",
       "      <th>2021-10-05</th>\n",
       "      <td>261.600006</td>\n",
       "      <td>265.769989</td>\n",
       "      <td>258.066681</td>\n",
       "      <td>260.196655</td>\n",
       "      <td>260.196655</td>\n",
       "      <td>55297800</td>\n",
       "      <td>260.916656</td>\n",
       "    </tr>\n",
       "    <tr>\n",
       "      <th>2021-10-06</th>\n",
       "      <td>258.733337</td>\n",
       "      <td>262.220001</td>\n",
       "      <td>257.739990</td>\n",
       "      <td>260.916656</td>\n",
       "      <td>260.916656</td>\n",
       "      <td>43898400</td>\n",
       "      <td>264.536682</td>\n",
       "    </tr>\n",
       "  </tbody>\n",
       "</table>\n",
       "</div>"
      ],
      "text/plain": [
       "                  Open        High         Low       Close   Adj Close  \\\n",
       "Date                                                                     \n",
       "2021-09-30  260.333344  263.043335  258.333344  258.493347  258.493347   \n",
       "2021-10-01  259.466675  260.260010  254.529999  258.406677  258.406677   \n",
       "2021-10-04  265.500000  268.989990  258.706665  260.510010  260.510010   \n",
       "2021-10-05  261.600006  265.769989  258.066681  260.196655  260.196655   \n",
       "2021-10-06  258.733337  262.220001  257.739990  260.916656  260.916656   \n",
       "\n",
       "              Volume   Close_nxt  \n",
       "Date                              \n",
       "2021-09-30  53868000  258.406677  \n",
       "2021-10-01  51094200  260.510010  \n",
       "2021-10-04  91449900  260.196655  \n",
       "2021-10-05  55297800  260.916656  \n",
       "2021-10-06  43898400  264.536682  "
      ]
     },
     "execution_count": 30,
     "metadata": {},
     "output_type": "execute_result"
    }
   ],
   "source": [
    "tsla_data.head() "
   ]
  },
  {
   "cell_type": "markdown",
   "metadata": {},
   "source": [
    "#### Calculating indicators using Talib library"
   ]
  },
  {
   "cell_type": "code",
   "execution_count": 31,
   "metadata": {},
   "outputs": [],
   "source": [
    "ema_short_period = 10\n",
    "ema_long_period = 30\n",
    "rsi_period = 14"
   ]
  },
  {
   "cell_type": "code",
   "execution_count": 32,
   "metadata": {},
   "outputs": [],
   "source": [
    "close_prices = np.array(tsla_data['Close']) \n",
    "volume_amnt = np.array(tsla_data['Volume']) "
   ]
  },
  {
   "cell_type": "code",
   "execution_count": 33,
   "metadata": {},
   "outputs": [],
   "source": [
    "tsla_data['ema_short'] = EMA(close_prices, timeperiod=ema_short_period)  \n",
    "tsla_data['ema_long'] = EMA(close_prices, timeperiod=ema_long_period) \n",
    "tsla_data['rsi'] = RSI(close_prices, timeperiod=rsi_period) "
   ]
  },
  {
   "cell_type": "code",
   "execution_count": 34,
   "metadata": {},
   "outputs": [
    {
     "data": {
      "text/html": [
       "<div>\n",
       "<style scoped>\n",
       "    .dataframe tbody tr th:only-of-type {\n",
       "        vertical-align: middle;\n",
       "    }\n",
       "\n",
       "    .dataframe tbody tr th {\n",
       "        vertical-align: top;\n",
       "    }\n",
       "\n",
       "    .dataframe thead th {\n",
       "        text-align: right;\n",
       "    }\n",
       "</style>\n",
       "<table border=\"1\" class=\"dataframe\">\n",
       "  <thead>\n",
       "    <tr style=\"text-align: right;\">\n",
       "      <th></th>\n",
       "      <th>Open</th>\n",
       "      <th>High</th>\n",
       "      <th>Low</th>\n",
       "      <th>Close</th>\n",
       "      <th>Adj Close</th>\n",
       "      <th>Volume</th>\n",
       "      <th>Close_nxt</th>\n",
       "      <th>ema_short</th>\n",
       "      <th>ema_long</th>\n",
       "      <th>rsi</th>\n",
       "    </tr>\n",
       "    <tr>\n",
       "      <th>Date</th>\n",
       "      <th></th>\n",
       "      <th></th>\n",
       "      <th></th>\n",
       "      <th></th>\n",
       "      <th></th>\n",
       "      <th></th>\n",
       "      <th></th>\n",
       "      <th></th>\n",
       "      <th></th>\n",
       "      <th></th>\n",
       "    </tr>\n",
       "  </thead>\n",
       "  <tbody>\n",
       "    <tr>\n",
       "      <th>2021-09-30</th>\n",
       "      <td>260.333344</td>\n",
       "      <td>263.043335</td>\n",
       "      <td>258.333344</td>\n",
       "      <td>258.493347</td>\n",
       "      <td>258.493347</td>\n",
       "      <td>53868000</td>\n",
       "      <td>258.406677</td>\n",
       "      <td>NaN</td>\n",
       "      <td>NaN</td>\n",
       "      <td>NaN</td>\n",
       "    </tr>\n",
       "    <tr>\n",
       "      <th>2021-10-01</th>\n",
       "      <td>259.466675</td>\n",
       "      <td>260.260010</td>\n",
       "      <td>254.529999</td>\n",
       "      <td>258.406677</td>\n",
       "      <td>258.406677</td>\n",
       "      <td>51094200</td>\n",
       "      <td>260.510010</td>\n",
       "      <td>NaN</td>\n",
       "      <td>NaN</td>\n",
       "      <td>NaN</td>\n",
       "    </tr>\n",
       "    <tr>\n",
       "      <th>2021-10-04</th>\n",
       "      <td>265.500000</td>\n",
       "      <td>268.989990</td>\n",
       "      <td>258.706665</td>\n",
       "      <td>260.510010</td>\n",
       "      <td>260.510010</td>\n",
       "      <td>91449900</td>\n",
       "      <td>260.196655</td>\n",
       "      <td>NaN</td>\n",
       "      <td>NaN</td>\n",
       "      <td>NaN</td>\n",
       "    </tr>\n",
       "    <tr>\n",
       "      <th>2021-10-05</th>\n",
       "      <td>261.600006</td>\n",
       "      <td>265.769989</td>\n",
       "      <td>258.066681</td>\n",
       "      <td>260.196655</td>\n",
       "      <td>260.196655</td>\n",
       "      <td>55297800</td>\n",
       "      <td>260.916656</td>\n",
       "      <td>NaN</td>\n",
       "      <td>NaN</td>\n",
       "      <td>NaN</td>\n",
       "    </tr>\n",
       "    <tr>\n",
       "      <th>2021-10-06</th>\n",
       "      <td>258.733337</td>\n",
       "      <td>262.220001</td>\n",
       "      <td>257.739990</td>\n",
       "      <td>260.916656</td>\n",
       "      <td>260.916656</td>\n",
       "      <td>43898400</td>\n",
       "      <td>264.536682</td>\n",
       "      <td>NaN</td>\n",
       "      <td>NaN</td>\n",
       "      <td>NaN</td>\n",
       "    </tr>\n",
       "  </tbody>\n",
       "</table>\n",
       "</div>"
      ],
      "text/plain": [
       "                  Open        High         Low       Close   Adj Close  \\\n",
       "Date                                                                     \n",
       "2021-09-30  260.333344  263.043335  258.333344  258.493347  258.493347   \n",
       "2021-10-01  259.466675  260.260010  254.529999  258.406677  258.406677   \n",
       "2021-10-04  265.500000  268.989990  258.706665  260.510010  260.510010   \n",
       "2021-10-05  261.600006  265.769989  258.066681  260.196655  260.196655   \n",
       "2021-10-06  258.733337  262.220001  257.739990  260.916656  260.916656   \n",
       "\n",
       "              Volume   Close_nxt  ema_short  ema_long  rsi  \n",
       "Date                                                        \n",
       "2021-09-30  53868000  258.406677        NaN       NaN  NaN  \n",
       "2021-10-01  51094200  260.510010        NaN       NaN  NaN  \n",
       "2021-10-04  91449900  260.196655        NaN       NaN  NaN  \n",
       "2021-10-05  55297800  260.916656        NaN       NaN  NaN  \n",
       "2021-10-06  43898400  264.536682        NaN       NaN  NaN  "
      ]
     },
     "execution_count": 34,
     "metadata": {},
     "output_type": "execute_result"
    }
   ],
   "source": [
    "tsla_data.head() "
   ]
  },
  {
   "cell_type": "code",
   "execution_count": 35,
   "metadata": {},
   "outputs": [],
   "source": [
    "close_prices_obv = np.array(tsla_data['Close'], dtype=np.float64) \n",
    "volume_amnt_obv = np.array(tsla_data['Volume'], dtype=np.float64) "
   ]
  },
  {
   "cell_type": "code",
   "execution_count": 36,
   "metadata": {},
   "outputs": [],
   "source": [
    "tsla_data['obv'] = OBV(close_prices_obv, volume_amnt_obv) "
   ]
  },
  {
   "cell_type": "code",
   "execution_count": 37,
   "metadata": {},
   "outputs": [
    {
     "data": {
      "text/html": [
       "<div>\n",
       "<style scoped>\n",
       "    .dataframe tbody tr th:only-of-type {\n",
       "        vertical-align: middle;\n",
       "    }\n",
       "\n",
       "    .dataframe tbody tr th {\n",
       "        vertical-align: top;\n",
       "    }\n",
       "\n",
       "    .dataframe thead th {\n",
       "        text-align: right;\n",
       "    }\n",
       "</style>\n",
       "<table border=\"1\" class=\"dataframe\">\n",
       "  <thead>\n",
       "    <tr style=\"text-align: right;\">\n",
       "      <th></th>\n",
       "      <th>Open</th>\n",
       "      <th>High</th>\n",
       "      <th>Low</th>\n",
       "      <th>Close</th>\n",
       "      <th>Adj Close</th>\n",
       "      <th>Volume</th>\n",
       "      <th>Close_nxt</th>\n",
       "      <th>ema_short</th>\n",
       "      <th>ema_long</th>\n",
       "      <th>rsi</th>\n",
       "      <th>obv</th>\n",
       "    </tr>\n",
       "    <tr>\n",
       "      <th>Date</th>\n",
       "      <th></th>\n",
       "      <th></th>\n",
       "      <th></th>\n",
       "      <th></th>\n",
       "      <th></th>\n",
       "      <th></th>\n",
       "      <th></th>\n",
       "      <th></th>\n",
       "      <th></th>\n",
       "      <th></th>\n",
       "      <th></th>\n",
       "    </tr>\n",
       "  </thead>\n",
       "  <tbody>\n",
       "    <tr>\n",
       "      <th>2021-09-30</th>\n",
       "      <td>260.333344</td>\n",
       "      <td>263.043335</td>\n",
       "      <td>258.333344</td>\n",
       "      <td>258.493347</td>\n",
       "      <td>258.493347</td>\n",
       "      <td>53868000</td>\n",
       "      <td>258.406677</td>\n",
       "      <td>NaN</td>\n",
       "      <td>NaN</td>\n",
       "      <td>NaN</td>\n",
       "      <td>53868000.0</td>\n",
       "    </tr>\n",
       "    <tr>\n",
       "      <th>2021-10-01</th>\n",
       "      <td>259.466675</td>\n",
       "      <td>260.260010</td>\n",
       "      <td>254.529999</td>\n",
       "      <td>258.406677</td>\n",
       "      <td>258.406677</td>\n",
       "      <td>51094200</td>\n",
       "      <td>260.510010</td>\n",
       "      <td>NaN</td>\n",
       "      <td>NaN</td>\n",
       "      <td>NaN</td>\n",
       "      <td>2773800.0</td>\n",
       "    </tr>\n",
       "    <tr>\n",
       "      <th>2021-10-04</th>\n",
       "      <td>265.500000</td>\n",
       "      <td>268.989990</td>\n",
       "      <td>258.706665</td>\n",
       "      <td>260.510010</td>\n",
       "      <td>260.510010</td>\n",
       "      <td>91449900</td>\n",
       "      <td>260.196655</td>\n",
       "      <td>NaN</td>\n",
       "      <td>NaN</td>\n",
       "      <td>NaN</td>\n",
       "      <td>94223700.0</td>\n",
       "    </tr>\n",
       "    <tr>\n",
       "      <th>2021-10-05</th>\n",
       "      <td>261.600006</td>\n",
       "      <td>265.769989</td>\n",
       "      <td>258.066681</td>\n",
       "      <td>260.196655</td>\n",
       "      <td>260.196655</td>\n",
       "      <td>55297800</td>\n",
       "      <td>260.916656</td>\n",
       "      <td>NaN</td>\n",
       "      <td>NaN</td>\n",
       "      <td>NaN</td>\n",
       "      <td>38925900.0</td>\n",
       "    </tr>\n",
       "    <tr>\n",
       "      <th>2021-10-06</th>\n",
       "      <td>258.733337</td>\n",
       "      <td>262.220001</td>\n",
       "      <td>257.739990</td>\n",
       "      <td>260.916656</td>\n",
       "      <td>260.916656</td>\n",
       "      <td>43898400</td>\n",
       "      <td>264.536682</td>\n",
       "      <td>NaN</td>\n",
       "      <td>NaN</td>\n",
       "      <td>NaN</td>\n",
       "      <td>82824300.0</td>\n",
       "    </tr>\n",
       "  </tbody>\n",
       "</table>\n",
       "</div>"
      ],
      "text/plain": [
       "                  Open        High         Low       Close   Adj Close  \\\n",
       "Date                                                                     \n",
       "2021-09-30  260.333344  263.043335  258.333344  258.493347  258.493347   \n",
       "2021-10-01  259.466675  260.260010  254.529999  258.406677  258.406677   \n",
       "2021-10-04  265.500000  268.989990  258.706665  260.510010  260.510010   \n",
       "2021-10-05  261.600006  265.769989  258.066681  260.196655  260.196655   \n",
       "2021-10-06  258.733337  262.220001  257.739990  260.916656  260.916656   \n",
       "\n",
       "              Volume   Close_nxt  ema_short  ema_long  rsi         obv  \n",
       "Date                                                                    \n",
       "2021-09-30  53868000  258.406677        NaN       NaN  NaN  53868000.0  \n",
       "2021-10-01  51094200  260.510010        NaN       NaN  NaN   2773800.0  \n",
       "2021-10-04  91449900  260.196655        NaN       NaN  NaN  94223700.0  \n",
       "2021-10-05  55297800  260.916656        NaN       NaN  NaN  38925900.0  \n",
       "2021-10-06  43898400  264.536682        NaN       NaN  NaN  82824300.0  "
      ]
     },
     "execution_count": 37,
     "metadata": {},
     "output_type": "execute_result"
    }
   ],
   "source": [
    "tsla_data.head() "
   ]
  },
  {
   "cell_type": "code",
   "execution_count": 38,
   "metadata": {},
   "outputs": [
    {
     "data": {
      "text/plain": [
       "(251, 11)"
      ]
     },
     "execution_count": 38,
     "metadata": {},
     "output_type": "execute_result"
    }
   ],
   "source": [
    "tsla_data.shape "
   ]
  },
  {
   "cell_type": "code",
   "execution_count": 39,
   "metadata": {},
   "outputs": [
    {
     "data": {
      "text/html": [
       "<div>\n",
       "<style scoped>\n",
       "    .dataframe tbody tr th:only-of-type {\n",
       "        vertical-align: middle;\n",
       "    }\n",
       "\n",
       "    .dataframe tbody tr th {\n",
       "        vertical-align: top;\n",
       "    }\n",
       "\n",
       "    .dataframe thead th {\n",
       "        text-align: right;\n",
       "    }\n",
       "</style>\n",
       "<table border=\"1\" class=\"dataframe\">\n",
       "  <thead>\n",
       "    <tr style=\"text-align: right;\">\n",
       "      <th></th>\n",
       "      <th>Open</th>\n",
       "      <th>High</th>\n",
       "      <th>Low</th>\n",
       "      <th>Close</th>\n",
       "      <th>Adj Close</th>\n",
       "      <th>Volume</th>\n",
       "      <th>Close_nxt</th>\n",
       "      <th>ema_short</th>\n",
       "      <th>ema_long</th>\n",
       "      <th>rsi</th>\n",
       "      <th>obv</th>\n",
       "    </tr>\n",
       "    <tr>\n",
       "      <th>Date</th>\n",
       "      <th></th>\n",
       "      <th></th>\n",
       "      <th></th>\n",
       "      <th></th>\n",
       "      <th></th>\n",
       "      <th></th>\n",
       "      <th></th>\n",
       "      <th></th>\n",
       "      <th></th>\n",
       "      <th></th>\n",
       "      <th></th>\n",
       "    </tr>\n",
       "  </thead>\n",
       "  <tbody>\n",
       "    <tr>\n",
       "      <th>2021-11-10</th>\n",
       "      <td>336.803345</td>\n",
       "      <td>359.366669</td>\n",
       "      <td>329.103333</td>\n",
       "      <td>355.983337</td>\n",
       "      <td>355.983337</td>\n",
       "      <td>128408100</td>\n",
       "      <td>354.503326</td>\n",
       "      <td>368.989967</td>\n",
       "      <td>316.907224</td>\n",
       "      <td>57.032200</td>\n",
       "      <td>854557200.0</td>\n",
       "    </tr>\n",
       "    <tr>\n",
       "      <th>2021-11-11</th>\n",
       "      <td>367.589996</td>\n",
       "      <td>368.323334</td>\n",
       "      <td>351.559998</td>\n",
       "      <td>354.503326</td>\n",
       "      <td>354.503326</td>\n",
       "      <td>67189800</td>\n",
       "      <td>344.473328</td>\n",
       "      <td>366.356032</td>\n",
       "      <td>319.332779</td>\n",
       "      <td>56.499798</td>\n",
       "      <td>787367400.0</td>\n",
       "    </tr>\n",
       "    <tr>\n",
       "      <th>2021-11-12</th>\n",
       "      <td>349.166656</td>\n",
       "      <td>351.500000</td>\n",
       "      <td>339.733337</td>\n",
       "      <td>344.473328</td>\n",
       "      <td>344.473328</td>\n",
       "      <td>76719300</td>\n",
       "      <td>337.796661</td>\n",
       "      <td>362.377358</td>\n",
       "      <td>320.954749</td>\n",
       "      <td>52.895984</td>\n",
       "      <td>710648100.0</td>\n",
       "    </tr>\n",
       "    <tr>\n",
       "      <th>2021-11-15</th>\n",
       "      <td>339.209991</td>\n",
       "      <td>343.993347</td>\n",
       "      <td>326.200012</td>\n",
       "      <td>337.796661</td>\n",
       "      <td>337.796661</td>\n",
       "      <td>104326800</td>\n",
       "      <td>351.576660</td>\n",
       "      <td>357.908141</td>\n",
       "      <td>322.041324</td>\n",
       "      <td>50.583047</td>\n",
       "      <td>606321300.0</td>\n",
       "    </tr>\n",
       "    <tr>\n",
       "      <th>2021-11-16</th>\n",
       "      <td>334.436676</td>\n",
       "      <td>352.399994</td>\n",
       "      <td>334.059998</td>\n",
       "      <td>351.576660</td>\n",
       "      <td>351.576660</td>\n",
       "      <td>79627200</td>\n",
       "      <td>363.003326</td>\n",
       "      <td>356.756963</td>\n",
       "      <td>323.946830</td>\n",
       "      <td>54.960385</td>\n",
       "      <td>685948500.0</td>\n",
       "    </tr>\n",
       "  </tbody>\n",
       "</table>\n",
       "</div>"
      ],
      "text/plain": [
       "                  Open        High         Low       Close   Adj Close  \\\n",
       "Date                                                                     \n",
       "2021-11-10  336.803345  359.366669  329.103333  355.983337  355.983337   \n",
       "2021-11-11  367.589996  368.323334  351.559998  354.503326  354.503326   \n",
       "2021-11-12  349.166656  351.500000  339.733337  344.473328  344.473328   \n",
       "2021-11-15  339.209991  343.993347  326.200012  337.796661  337.796661   \n",
       "2021-11-16  334.436676  352.399994  334.059998  351.576660  351.576660   \n",
       "\n",
       "               Volume   Close_nxt   ema_short    ema_long        rsi  \\\n",
       "Date                                                                   \n",
       "2021-11-10  128408100  354.503326  368.989967  316.907224  57.032200   \n",
       "2021-11-11   67189800  344.473328  366.356032  319.332779  56.499798   \n",
       "2021-11-12   76719300  337.796661  362.377358  320.954749  52.895984   \n",
       "2021-11-15  104326800  351.576660  357.908141  322.041324  50.583047   \n",
       "2021-11-16   79627200  363.003326  356.756963  323.946830  54.960385   \n",
       "\n",
       "                    obv  \n",
       "Date                     \n",
       "2021-11-10  854557200.0  \n",
       "2021-11-11  787367400.0  \n",
       "2021-11-12  710648100.0  \n",
       "2021-11-15  606321300.0  \n",
       "2021-11-16  685948500.0  "
      ]
     },
     "execution_count": 39,
     "metadata": {},
     "output_type": "execute_result"
    }
   ],
   "source": [
    "tsla_data = tsla_data.dropna()\n",
    "tsla_data.head() "
   ]
  },
  {
   "cell_type": "code",
   "execution_count": 40,
   "metadata": {},
   "outputs": [
    {
     "data": {
      "text/plain": [
       "(222, 11)"
      ]
     },
     "execution_count": 40,
     "metadata": {},
     "output_type": "execute_result"
    }
   ],
   "source": [
    "tsla_data.shape"
   ]
  },
  {
   "cell_type": "code",
   "execution_count": 41,
   "metadata": {},
   "outputs": [
    {
     "name": "stdout",
     "output_type": "stream",
     "text": [
      "Index is not continuous.\n"
     ]
    }
   ],
   "source": [
    "# Check if index 0f tsla_data is continuous after dropna\n",
    "\n",
    "expected_index = pd.date_range(start=tsla_data.index.min(), end=tsla_data.index.max())\n",
    "is_continuous = tsla_data.index.equals(expected_index)\n",
    "\n",
    "if is_continuous:\n",
    "    print(\"Index is continuous.\")\n",
    "else:\n",
    "    print(\"Index is not continuous.\") "
   ]
  },
  {
   "cell_type": "code",
   "execution_count": 42,
   "metadata": {},
   "outputs": [],
   "source": [
    "new_df = tweets_indicator_df.reset_index()\n",
    "new_df.columns = ['Date', 'tweet_sentiment'] "
   ]
  },
  {
   "cell_type": "code",
   "execution_count": 43,
   "metadata": {},
   "outputs": [
    {
     "data": {
      "text/html": [
       "<div>\n",
       "<style scoped>\n",
       "    .dataframe tbody tr th:only-of-type {\n",
       "        vertical-align: middle;\n",
       "    }\n",
       "\n",
       "    .dataframe tbody tr th {\n",
       "        vertical-align: top;\n",
       "    }\n",
       "\n",
       "    .dataframe thead th {\n",
       "        text-align: right;\n",
       "    }\n",
       "</style>\n",
       "<table border=\"1\" class=\"dataframe\">\n",
       "  <thead>\n",
       "    <tr style=\"text-align: right;\">\n",
       "      <th></th>\n",
       "      <th>Date</th>\n",
       "      <th>tweet_sentiment</th>\n",
       "    </tr>\n",
       "  </thead>\n",
       "  <tbody>\n",
       "    <tr>\n",
       "      <th>0</th>\n",
       "      <td>2021-09-30</td>\n",
       "      <td>0.400000</td>\n",
       "    </tr>\n",
       "    <tr>\n",
       "      <th>1</th>\n",
       "      <td>2021-10-01</td>\n",
       "      <td>0.276596</td>\n",
       "    </tr>\n",
       "    <tr>\n",
       "      <th>2</th>\n",
       "      <td>2021-10-02</td>\n",
       "      <td>0.362069</td>\n",
       "    </tr>\n",
       "    <tr>\n",
       "      <th>3</th>\n",
       "      <td>2021-10-03</td>\n",
       "      <td>0.442623</td>\n",
       "    </tr>\n",
       "    <tr>\n",
       "      <th>4</th>\n",
       "      <td>2021-10-04</td>\n",
       "      <td>0.218487</td>\n",
       "    </tr>\n",
       "  </tbody>\n",
       "</table>\n",
       "</div>"
      ],
      "text/plain": [
       "        Date  tweet_sentiment\n",
       "0 2021-09-30         0.400000\n",
       "1 2021-10-01         0.276596\n",
       "2 2021-10-02         0.362069\n",
       "3 2021-10-03         0.442623\n",
       "4 2021-10-04         0.218487"
      ]
     },
     "execution_count": 43,
     "metadata": {},
     "output_type": "execute_result"
    }
   ],
   "source": [
    "new_df.head()  "
   ]
  },
  {
   "cell_type": "code",
   "execution_count": 44,
   "metadata": {},
   "outputs": [
    {
     "data": {
      "text/html": [
       "<div>\n",
       "<style scoped>\n",
       "    .dataframe tbody tr th:only-of-type {\n",
       "        vertical-align: middle;\n",
       "    }\n",
       "\n",
       "    .dataframe tbody tr th {\n",
       "        vertical-align: top;\n",
       "    }\n",
       "\n",
       "    .dataframe thead th {\n",
       "        text-align: right;\n",
       "    }\n",
       "</style>\n",
       "<table border=\"1\" class=\"dataframe\">\n",
       "  <thead>\n",
       "    <tr style=\"text-align: right;\">\n",
       "      <th></th>\n",
       "      <th>Open</th>\n",
       "      <th>High</th>\n",
       "      <th>Low</th>\n",
       "      <th>Close</th>\n",
       "      <th>Adj Close</th>\n",
       "      <th>Volume</th>\n",
       "      <th>Close_nxt</th>\n",
       "      <th>ema_short</th>\n",
       "      <th>ema_long</th>\n",
       "      <th>rsi</th>\n",
       "      <th>obv</th>\n",
       "    </tr>\n",
       "    <tr>\n",
       "      <th>Date</th>\n",
       "      <th></th>\n",
       "      <th></th>\n",
       "      <th></th>\n",
       "      <th></th>\n",
       "      <th></th>\n",
       "      <th></th>\n",
       "      <th></th>\n",
       "      <th></th>\n",
       "      <th></th>\n",
       "      <th></th>\n",
       "      <th></th>\n",
       "    </tr>\n",
       "  </thead>\n",
       "  <tbody>\n",
       "    <tr>\n",
       "      <th>2021-11-10</th>\n",
       "      <td>336.803345</td>\n",
       "      <td>359.366669</td>\n",
       "      <td>329.103333</td>\n",
       "      <td>355.983337</td>\n",
       "      <td>355.983337</td>\n",
       "      <td>128408100</td>\n",
       "      <td>354.503326</td>\n",
       "      <td>368.989967</td>\n",
       "      <td>316.907224</td>\n",
       "      <td>57.032200</td>\n",
       "      <td>854557200.0</td>\n",
       "    </tr>\n",
       "    <tr>\n",
       "      <th>2021-11-11</th>\n",
       "      <td>367.589996</td>\n",
       "      <td>368.323334</td>\n",
       "      <td>351.559998</td>\n",
       "      <td>354.503326</td>\n",
       "      <td>354.503326</td>\n",
       "      <td>67189800</td>\n",
       "      <td>344.473328</td>\n",
       "      <td>366.356032</td>\n",
       "      <td>319.332779</td>\n",
       "      <td>56.499798</td>\n",
       "      <td>787367400.0</td>\n",
       "    </tr>\n",
       "    <tr>\n",
       "      <th>2021-11-12</th>\n",
       "      <td>349.166656</td>\n",
       "      <td>351.500000</td>\n",
       "      <td>339.733337</td>\n",
       "      <td>344.473328</td>\n",
       "      <td>344.473328</td>\n",
       "      <td>76719300</td>\n",
       "      <td>337.796661</td>\n",
       "      <td>362.377358</td>\n",
       "      <td>320.954749</td>\n",
       "      <td>52.895984</td>\n",
       "      <td>710648100.0</td>\n",
       "    </tr>\n",
       "    <tr>\n",
       "      <th>2021-11-15</th>\n",
       "      <td>339.209991</td>\n",
       "      <td>343.993347</td>\n",
       "      <td>326.200012</td>\n",
       "      <td>337.796661</td>\n",
       "      <td>337.796661</td>\n",
       "      <td>104326800</td>\n",
       "      <td>351.576660</td>\n",
       "      <td>357.908141</td>\n",
       "      <td>322.041324</td>\n",
       "      <td>50.583047</td>\n",
       "      <td>606321300.0</td>\n",
       "    </tr>\n",
       "    <tr>\n",
       "      <th>2021-11-16</th>\n",
       "      <td>334.436676</td>\n",
       "      <td>352.399994</td>\n",
       "      <td>334.059998</td>\n",
       "      <td>351.576660</td>\n",
       "      <td>351.576660</td>\n",
       "      <td>79627200</td>\n",
       "      <td>363.003326</td>\n",
       "      <td>356.756963</td>\n",
       "      <td>323.946830</td>\n",
       "      <td>54.960385</td>\n",
       "      <td>685948500.0</td>\n",
       "    </tr>\n",
       "  </tbody>\n",
       "</table>\n",
       "</div>"
      ],
      "text/plain": [
       "                  Open        High         Low       Close   Adj Close  \\\n",
       "Date                                                                     \n",
       "2021-11-10  336.803345  359.366669  329.103333  355.983337  355.983337   \n",
       "2021-11-11  367.589996  368.323334  351.559998  354.503326  354.503326   \n",
       "2021-11-12  349.166656  351.500000  339.733337  344.473328  344.473328   \n",
       "2021-11-15  339.209991  343.993347  326.200012  337.796661  337.796661   \n",
       "2021-11-16  334.436676  352.399994  334.059998  351.576660  351.576660   \n",
       "\n",
       "               Volume   Close_nxt   ema_short    ema_long        rsi  \\\n",
       "Date                                                                   \n",
       "2021-11-10  128408100  354.503326  368.989967  316.907224  57.032200   \n",
       "2021-11-11   67189800  344.473328  366.356032  319.332779  56.499798   \n",
       "2021-11-12   76719300  337.796661  362.377358  320.954749  52.895984   \n",
       "2021-11-15  104326800  351.576660  357.908141  322.041324  50.583047   \n",
       "2021-11-16   79627200  363.003326  356.756963  323.946830  54.960385   \n",
       "\n",
       "                    obv  \n",
       "Date                     \n",
       "2021-11-10  854557200.0  \n",
       "2021-11-11  787367400.0  \n",
       "2021-11-12  710648100.0  \n",
       "2021-11-15  606321300.0  \n",
       "2021-11-16  685948500.0  "
      ]
     },
     "execution_count": 44,
     "metadata": {},
     "output_type": "execute_result"
    }
   ],
   "source": [
    "tsla_data.head() "
   ]
  },
  {
   "cell_type": "code",
   "execution_count": 45,
   "metadata": {},
   "outputs": [],
   "source": [
    "merge1_df = pd.merge(tsla_data, new_df, on='Date', how='inner') "
   ]
  },
  {
   "cell_type": "code",
   "execution_count": 46,
   "metadata": {},
   "outputs": [
    {
     "data": {
      "text/html": [
       "<div>\n",
       "<style scoped>\n",
       "    .dataframe tbody tr th:only-of-type {\n",
       "        vertical-align: middle;\n",
       "    }\n",
       "\n",
       "    .dataframe tbody tr th {\n",
       "        vertical-align: top;\n",
       "    }\n",
       "\n",
       "    .dataframe thead th {\n",
       "        text-align: right;\n",
       "    }\n",
       "</style>\n",
       "<table border=\"1\" class=\"dataframe\">\n",
       "  <thead>\n",
       "    <tr style=\"text-align: right;\">\n",
       "      <th></th>\n",
       "      <th>Date</th>\n",
       "      <th>Open</th>\n",
       "      <th>High</th>\n",
       "      <th>Low</th>\n",
       "      <th>Close</th>\n",
       "      <th>Adj Close</th>\n",
       "      <th>Volume</th>\n",
       "      <th>Close_nxt</th>\n",
       "      <th>ema_short</th>\n",
       "      <th>ema_long</th>\n",
       "      <th>rsi</th>\n",
       "      <th>obv</th>\n",
       "      <th>tweet_sentiment</th>\n",
       "    </tr>\n",
       "  </thead>\n",
       "  <tbody>\n",
       "    <tr>\n",
       "      <th>0</th>\n",
       "      <td>2021-11-10</td>\n",
       "      <td>336.803345</td>\n",
       "      <td>359.366669</td>\n",
       "      <td>329.103333</td>\n",
       "      <td>355.983337</td>\n",
       "      <td>355.983337</td>\n",
       "      <td>128408100</td>\n",
       "      <td>354.503326</td>\n",
       "      <td>368.989967</td>\n",
       "      <td>316.907224</td>\n",
       "      <td>57.032200</td>\n",
       "      <td>854557200.0</td>\n",
       "      <td>0.264550</td>\n",
       "    </tr>\n",
       "    <tr>\n",
       "      <th>1</th>\n",
       "      <td>2021-11-11</td>\n",
       "      <td>367.589996</td>\n",
       "      <td>368.323334</td>\n",
       "      <td>351.559998</td>\n",
       "      <td>354.503326</td>\n",
       "      <td>354.503326</td>\n",
       "      <td>67189800</td>\n",
       "      <td>344.473328</td>\n",
       "      <td>366.356032</td>\n",
       "      <td>319.332779</td>\n",
       "      <td>56.499798</td>\n",
       "      <td>787367400.0</td>\n",
       "      <td>0.324503</td>\n",
       "    </tr>\n",
       "    <tr>\n",
       "      <th>2</th>\n",
       "      <td>2021-11-12</td>\n",
       "      <td>349.166656</td>\n",
       "      <td>351.500000</td>\n",
       "      <td>339.733337</td>\n",
       "      <td>344.473328</td>\n",
       "      <td>344.473328</td>\n",
       "      <td>76719300</td>\n",
       "      <td>337.796661</td>\n",
       "      <td>362.377358</td>\n",
       "      <td>320.954749</td>\n",
       "      <td>52.895984</td>\n",
       "      <td>710648100.0</td>\n",
       "      <td>0.372093</td>\n",
       "    </tr>\n",
       "    <tr>\n",
       "      <th>3</th>\n",
       "      <td>2021-11-15</td>\n",
       "      <td>339.209991</td>\n",
       "      <td>343.993347</td>\n",
       "      <td>326.200012</td>\n",
       "      <td>337.796661</td>\n",
       "      <td>337.796661</td>\n",
       "      <td>104326800</td>\n",
       "      <td>351.576660</td>\n",
       "      <td>357.908141</td>\n",
       "      <td>322.041324</td>\n",
       "      <td>50.583047</td>\n",
       "      <td>606321300.0</td>\n",
       "      <td>0.231788</td>\n",
       "    </tr>\n",
       "    <tr>\n",
       "      <th>4</th>\n",
       "      <td>2021-11-16</td>\n",
       "      <td>334.436676</td>\n",
       "      <td>352.399994</td>\n",
       "      <td>334.059998</td>\n",
       "      <td>351.576660</td>\n",
       "      <td>351.576660</td>\n",
       "      <td>79627200</td>\n",
       "      <td>363.003326</td>\n",
       "      <td>356.756963</td>\n",
       "      <td>323.946830</td>\n",
       "      <td>54.960385</td>\n",
       "      <td>685948500.0</td>\n",
       "      <td>0.317829</td>\n",
       "    </tr>\n",
       "  </tbody>\n",
       "</table>\n",
       "</div>"
      ],
      "text/plain": [
       "        Date        Open        High         Low       Close   Adj Close  \\\n",
       "0 2021-11-10  336.803345  359.366669  329.103333  355.983337  355.983337   \n",
       "1 2021-11-11  367.589996  368.323334  351.559998  354.503326  354.503326   \n",
       "2 2021-11-12  349.166656  351.500000  339.733337  344.473328  344.473328   \n",
       "3 2021-11-15  339.209991  343.993347  326.200012  337.796661  337.796661   \n",
       "4 2021-11-16  334.436676  352.399994  334.059998  351.576660  351.576660   \n",
       "\n",
       "      Volume   Close_nxt   ema_short    ema_long        rsi          obv  \\\n",
       "0  128408100  354.503326  368.989967  316.907224  57.032200  854557200.0   \n",
       "1   67189800  344.473328  366.356032  319.332779  56.499798  787367400.0   \n",
       "2   76719300  337.796661  362.377358  320.954749  52.895984  710648100.0   \n",
       "3  104326800  351.576660  357.908141  322.041324  50.583047  606321300.0   \n",
       "4   79627200  363.003326  356.756963  323.946830  54.960385  685948500.0   \n",
       "\n",
       "   tweet_sentiment  \n",
       "0         0.264550  \n",
       "1         0.324503  \n",
       "2         0.372093  \n",
       "3         0.231788  \n",
       "4         0.317829  "
      ]
     },
     "execution_count": 46,
     "metadata": {},
     "output_type": "execute_result"
    }
   ],
   "source": [
    "merge1_df.head() "
   ]
  },
  {
   "cell_type": "markdown",
   "metadata": {},
   "source": [
    "#### Final Dataframe with Date as Column"
   ]
  },
  {
   "cell_type": "code",
   "execution_count": 47,
   "metadata": {},
   "outputs": [],
   "source": [
    "columns_order = ['Date', 'Open', 'High', 'Low', 'Close', 'Adj Close', 'Volume',\n",
    "       'ema_short', 'ema_long', 'rsi', 'obv', 'tweet_sentiment', 'Close_nxt']\n",
    "tsla_final = merge1_df[columns_order] "
   ]
  },
  {
   "cell_type": "code",
   "execution_count": 48,
   "metadata": {},
   "outputs": [
    {
     "data": {
      "text/html": [
       "<div>\n",
       "<style scoped>\n",
       "    .dataframe tbody tr th:only-of-type {\n",
       "        vertical-align: middle;\n",
       "    }\n",
       "\n",
       "    .dataframe tbody tr th {\n",
       "        vertical-align: top;\n",
       "    }\n",
       "\n",
       "    .dataframe thead th {\n",
       "        text-align: right;\n",
       "    }\n",
       "</style>\n",
       "<table border=\"1\" class=\"dataframe\">\n",
       "  <thead>\n",
       "    <tr style=\"text-align: right;\">\n",
       "      <th></th>\n",
       "      <th>Date</th>\n",
       "      <th>Open</th>\n",
       "      <th>High</th>\n",
       "      <th>Low</th>\n",
       "      <th>Close</th>\n",
       "      <th>Adj Close</th>\n",
       "      <th>Volume</th>\n",
       "      <th>ema_short</th>\n",
       "      <th>ema_long</th>\n",
       "      <th>rsi</th>\n",
       "      <th>obv</th>\n",
       "      <th>tweet_sentiment</th>\n",
       "      <th>Close_nxt</th>\n",
       "    </tr>\n",
       "  </thead>\n",
       "  <tbody>\n",
       "    <tr>\n",
       "      <th>0</th>\n",
       "      <td>2021-11-10</td>\n",
       "      <td>336.803345</td>\n",
       "      <td>359.366669</td>\n",
       "      <td>329.103333</td>\n",
       "      <td>355.983337</td>\n",
       "      <td>355.983337</td>\n",
       "      <td>128408100</td>\n",
       "      <td>368.989967</td>\n",
       "      <td>316.907224</td>\n",
       "      <td>57.032200</td>\n",
       "      <td>854557200.0</td>\n",
       "      <td>0.264550</td>\n",
       "      <td>354.503326</td>\n",
       "    </tr>\n",
       "    <tr>\n",
       "      <th>1</th>\n",
       "      <td>2021-11-11</td>\n",
       "      <td>367.589996</td>\n",
       "      <td>368.323334</td>\n",
       "      <td>351.559998</td>\n",
       "      <td>354.503326</td>\n",
       "      <td>354.503326</td>\n",
       "      <td>67189800</td>\n",
       "      <td>366.356032</td>\n",
       "      <td>319.332779</td>\n",
       "      <td>56.499798</td>\n",
       "      <td>787367400.0</td>\n",
       "      <td>0.324503</td>\n",
       "      <td>344.473328</td>\n",
       "    </tr>\n",
       "    <tr>\n",
       "      <th>2</th>\n",
       "      <td>2021-11-12</td>\n",
       "      <td>349.166656</td>\n",
       "      <td>351.500000</td>\n",
       "      <td>339.733337</td>\n",
       "      <td>344.473328</td>\n",
       "      <td>344.473328</td>\n",
       "      <td>76719300</td>\n",
       "      <td>362.377358</td>\n",
       "      <td>320.954749</td>\n",
       "      <td>52.895984</td>\n",
       "      <td>710648100.0</td>\n",
       "      <td>0.372093</td>\n",
       "      <td>337.796661</td>\n",
       "    </tr>\n",
       "    <tr>\n",
       "      <th>3</th>\n",
       "      <td>2021-11-15</td>\n",
       "      <td>339.209991</td>\n",
       "      <td>343.993347</td>\n",
       "      <td>326.200012</td>\n",
       "      <td>337.796661</td>\n",
       "      <td>337.796661</td>\n",
       "      <td>104326800</td>\n",
       "      <td>357.908141</td>\n",
       "      <td>322.041324</td>\n",
       "      <td>50.583047</td>\n",
       "      <td>606321300.0</td>\n",
       "      <td>0.231788</td>\n",
       "      <td>351.576660</td>\n",
       "    </tr>\n",
       "    <tr>\n",
       "      <th>4</th>\n",
       "      <td>2021-11-16</td>\n",
       "      <td>334.436676</td>\n",
       "      <td>352.399994</td>\n",
       "      <td>334.059998</td>\n",
       "      <td>351.576660</td>\n",
       "      <td>351.576660</td>\n",
       "      <td>79627200</td>\n",
       "      <td>356.756963</td>\n",
       "      <td>323.946830</td>\n",
       "      <td>54.960385</td>\n",
       "      <td>685948500.0</td>\n",
       "      <td>0.317829</td>\n",
       "      <td>363.003326</td>\n",
       "    </tr>\n",
       "  </tbody>\n",
       "</table>\n",
       "</div>"
      ],
      "text/plain": [
       "        Date        Open        High         Low       Close   Adj Close  \\\n",
       "0 2021-11-10  336.803345  359.366669  329.103333  355.983337  355.983337   \n",
       "1 2021-11-11  367.589996  368.323334  351.559998  354.503326  354.503326   \n",
       "2 2021-11-12  349.166656  351.500000  339.733337  344.473328  344.473328   \n",
       "3 2021-11-15  339.209991  343.993347  326.200012  337.796661  337.796661   \n",
       "4 2021-11-16  334.436676  352.399994  334.059998  351.576660  351.576660   \n",
       "\n",
       "      Volume   ema_short    ema_long        rsi          obv  tweet_sentiment  \\\n",
       "0  128408100  368.989967  316.907224  57.032200  854557200.0         0.264550   \n",
       "1   67189800  366.356032  319.332779  56.499798  787367400.0         0.324503   \n",
       "2   76719300  362.377358  320.954749  52.895984  710648100.0         0.372093   \n",
       "3  104326800  357.908141  322.041324  50.583047  606321300.0         0.231788   \n",
       "4   79627200  356.756963  323.946830  54.960385  685948500.0         0.317829   \n",
       "\n",
       "    Close_nxt  \n",
       "0  354.503326  \n",
       "1  344.473328  \n",
       "2  337.796661  \n",
       "3  351.576660  \n",
       "4  363.003326  "
      ]
     },
     "execution_count": 48,
     "metadata": {},
     "output_type": "execute_result"
    }
   ],
   "source": [
    "tsla_final.head() "
   ]
  },
  {
   "cell_type": "code",
   "execution_count": 49,
   "metadata": {},
   "outputs": [],
   "source": [
    "tsla_final['Date'] = pd.to_datetime(tsla_final['Date']) \n",
    "tsla_final.set_index('Date',inplace=True)  "
   ]
  },
  {
   "cell_type": "markdown",
   "metadata": {},
   "source": [
    "#### Final Dataframe with Date as Index"
   ]
  },
  {
   "cell_type": "code",
   "execution_count": 50,
   "metadata": {},
   "outputs": [
    {
     "data": {
      "text/html": [
       "<div>\n",
       "<style scoped>\n",
       "    .dataframe tbody tr th:only-of-type {\n",
       "        vertical-align: middle;\n",
       "    }\n",
       "\n",
       "    .dataframe tbody tr th {\n",
       "        vertical-align: top;\n",
       "    }\n",
       "\n",
       "    .dataframe thead th {\n",
       "        text-align: right;\n",
       "    }\n",
       "</style>\n",
       "<table border=\"1\" class=\"dataframe\">\n",
       "  <thead>\n",
       "    <tr style=\"text-align: right;\">\n",
       "      <th></th>\n",
       "      <th>Open</th>\n",
       "      <th>High</th>\n",
       "      <th>Low</th>\n",
       "      <th>Close</th>\n",
       "      <th>Adj Close</th>\n",
       "      <th>Volume</th>\n",
       "      <th>ema_short</th>\n",
       "      <th>ema_long</th>\n",
       "      <th>rsi</th>\n",
       "      <th>obv</th>\n",
       "      <th>tweet_sentiment</th>\n",
       "      <th>Close_nxt</th>\n",
       "    </tr>\n",
       "    <tr>\n",
       "      <th>Date</th>\n",
       "      <th></th>\n",
       "      <th></th>\n",
       "      <th></th>\n",
       "      <th></th>\n",
       "      <th></th>\n",
       "      <th></th>\n",
       "      <th></th>\n",
       "      <th></th>\n",
       "      <th></th>\n",
       "      <th></th>\n",
       "      <th></th>\n",
       "      <th></th>\n",
       "    </tr>\n",
       "  </thead>\n",
       "  <tbody>\n",
       "    <tr>\n",
       "      <th>2021-11-10</th>\n",
       "      <td>336.803345</td>\n",
       "      <td>359.366669</td>\n",
       "      <td>329.103333</td>\n",
       "      <td>355.983337</td>\n",
       "      <td>355.983337</td>\n",
       "      <td>128408100</td>\n",
       "      <td>368.989967</td>\n",
       "      <td>316.907224</td>\n",
       "      <td>57.032200</td>\n",
       "      <td>854557200.0</td>\n",
       "      <td>0.264550</td>\n",
       "      <td>354.503326</td>\n",
       "    </tr>\n",
       "    <tr>\n",
       "      <th>2021-11-11</th>\n",
       "      <td>367.589996</td>\n",
       "      <td>368.323334</td>\n",
       "      <td>351.559998</td>\n",
       "      <td>354.503326</td>\n",
       "      <td>354.503326</td>\n",
       "      <td>67189800</td>\n",
       "      <td>366.356032</td>\n",
       "      <td>319.332779</td>\n",
       "      <td>56.499798</td>\n",
       "      <td>787367400.0</td>\n",
       "      <td>0.324503</td>\n",
       "      <td>344.473328</td>\n",
       "    </tr>\n",
       "    <tr>\n",
       "      <th>2021-11-12</th>\n",
       "      <td>349.166656</td>\n",
       "      <td>351.500000</td>\n",
       "      <td>339.733337</td>\n",
       "      <td>344.473328</td>\n",
       "      <td>344.473328</td>\n",
       "      <td>76719300</td>\n",
       "      <td>362.377358</td>\n",
       "      <td>320.954749</td>\n",
       "      <td>52.895984</td>\n",
       "      <td>710648100.0</td>\n",
       "      <td>0.372093</td>\n",
       "      <td>337.796661</td>\n",
       "    </tr>\n",
       "    <tr>\n",
       "      <th>2021-11-15</th>\n",
       "      <td>339.209991</td>\n",
       "      <td>343.993347</td>\n",
       "      <td>326.200012</td>\n",
       "      <td>337.796661</td>\n",
       "      <td>337.796661</td>\n",
       "      <td>104326800</td>\n",
       "      <td>357.908141</td>\n",
       "      <td>322.041324</td>\n",
       "      <td>50.583047</td>\n",
       "      <td>606321300.0</td>\n",
       "      <td>0.231788</td>\n",
       "      <td>351.576660</td>\n",
       "    </tr>\n",
       "    <tr>\n",
       "      <th>2021-11-16</th>\n",
       "      <td>334.436676</td>\n",
       "      <td>352.399994</td>\n",
       "      <td>334.059998</td>\n",
       "      <td>351.576660</td>\n",
       "      <td>351.576660</td>\n",
       "      <td>79627200</td>\n",
       "      <td>356.756963</td>\n",
       "      <td>323.946830</td>\n",
       "      <td>54.960385</td>\n",
       "      <td>685948500.0</td>\n",
       "      <td>0.317829</td>\n",
       "      <td>363.003326</td>\n",
       "    </tr>\n",
       "  </tbody>\n",
       "</table>\n",
       "</div>"
      ],
      "text/plain": [
       "                  Open        High         Low       Close   Adj Close  \\\n",
       "Date                                                                     \n",
       "2021-11-10  336.803345  359.366669  329.103333  355.983337  355.983337   \n",
       "2021-11-11  367.589996  368.323334  351.559998  354.503326  354.503326   \n",
       "2021-11-12  349.166656  351.500000  339.733337  344.473328  344.473328   \n",
       "2021-11-15  339.209991  343.993347  326.200012  337.796661  337.796661   \n",
       "2021-11-16  334.436676  352.399994  334.059998  351.576660  351.576660   \n",
       "\n",
       "               Volume   ema_short    ema_long        rsi          obv  \\\n",
       "Date                                                                    \n",
       "2021-11-10  128408100  368.989967  316.907224  57.032200  854557200.0   \n",
       "2021-11-11   67189800  366.356032  319.332779  56.499798  787367400.0   \n",
       "2021-11-12   76719300  362.377358  320.954749  52.895984  710648100.0   \n",
       "2021-11-15  104326800  357.908141  322.041324  50.583047  606321300.0   \n",
       "2021-11-16   79627200  356.756963  323.946830  54.960385  685948500.0   \n",
       "\n",
       "            tweet_sentiment   Close_nxt  \n",
       "Date                                     \n",
       "2021-11-10         0.264550  354.503326  \n",
       "2021-11-11         0.324503  344.473328  \n",
       "2021-11-12         0.372093  337.796661  \n",
       "2021-11-15         0.231788  351.576660  \n",
       "2021-11-16         0.317829  363.003326  "
      ]
     },
     "execution_count": 50,
     "metadata": {},
     "output_type": "execute_result"
    }
   ],
   "source": [
    "tsla_final.head() "
   ]
  },
  {
   "cell_type": "markdown",
   "metadata": {},
   "source": [
    "### Choosing X and y values for model training"
   ]
  },
  {
   "cell_type": "code",
   "execution_count": 51,
   "metadata": {},
   "outputs": [],
   "source": [
    "X = tsla_final.drop(columns=['Close_nxt']) \n",
    "y = tsla_final['Close_nxt']"
   ]
  },
  {
   "cell_type": "code",
   "execution_count": 52,
   "metadata": {},
   "outputs": [
    {
     "data": {
      "text/plain": [
       "['Open',\n",
       " 'High',\n",
       " 'Low',\n",
       " 'Close',\n",
       " 'Adj Close',\n",
       " 'Volume',\n",
       " 'ema_short',\n",
       " 'ema_long',\n",
       " 'rsi',\n",
       " 'obv',\n",
       " 'tweet_sentiment']"
      ]
     },
     "execution_count": 52,
     "metadata": {},
     "output_type": "execute_result"
    }
   ],
   "source": [
    "X_cols = list(X.columns)\n",
    "X_cols"
   ]
  },
  {
   "cell_type": "code",
   "execution_count": 53,
   "metadata": {},
   "outputs": [
    {
     "name": "stdout",
     "output_type": "stream",
     "text": [
      "222 155\n"
     ]
    }
   ],
   "source": [
    "split_index = int(0.7 * tsla_final.shape[0]) \n",
    "print(tsla_final.shape[0], split_index) "
   ]
  },
  {
   "cell_type": "code",
   "execution_count": 54,
   "metadata": {},
   "outputs": [
    {
     "name": "stdout",
     "output_type": "stream",
     "text": [
      "x_train shape: (155, 11)\n",
      "x_test shape: (67, 11)\n",
      "y_train shape: (155,)\n",
      "y_test shape: (67,)\n"
     ]
    }
   ],
   "source": [
    "# Split the data\n",
    "x_train, x_test = X[:split_index], X[split_index:]\n",
    "y_train, y_test = y[:split_index], y[split_index:] \n",
    "print(f\"x_train shape: {x_train.shape}\")\n",
    "print(f\"x_test shape: {x_test.shape}\")\n",
    "print(f\"y_train shape: {y_train.shape}\")\n",
    "print(f\"y_test shape: {y_test.shape}\") "
   ]
  },
  {
   "cell_type": "code",
   "execution_count": 55,
   "metadata": {},
   "outputs": [
    {
     "data": {
      "text/plain": [
       "Date\n",
       "2022-06-24    244.919998\n",
       "2022-06-27    232.663330\n",
       "2022-06-28    228.490005\n",
       "2022-06-29    224.473328\n",
       "2022-06-30    227.263336\n",
       "Name: Close_nxt, dtype: float64"
      ]
     },
     "execution_count": 55,
     "metadata": {},
     "output_type": "execute_result"
    }
   ],
   "source": [
    "y_test.head() "
   ]
  },
  {
   "cell_type": "markdown",
   "metadata": {},
   "source": [
    "### x and y values from train set"
   ]
  },
  {
   "cell_type": "code",
   "execution_count": 56,
   "metadata": {},
   "outputs": [],
   "source": [
    "x_test_copy = x_test.copy()\n",
    "y_test_copy = y_test.copy() "
   ]
  },
  {
   "cell_type": "code",
   "execution_count": 57,
   "metadata": {},
   "outputs": [],
   "source": [
    "x_val = x_train.values \n",
    "y_val = y_train.values.ravel() "
   ]
  },
  {
   "cell_type": "code",
   "execution_count": 58,
   "metadata": {},
   "outputs": [],
   "source": [
    "y_val = np.round(y_val,4) "
   ]
  },
  {
   "cell_type": "code",
   "execution_count": 59,
   "metadata": {},
   "outputs": [],
   "source": [
    "sc = StandardScaler(copy=True, with_mean=True, with_std=True)"
   ]
  },
  {
   "cell_type": "code",
   "execution_count": 60,
   "metadata": {},
   "outputs": [],
   "source": [
    "x_normal = np.round(sc.fit_transform(x_val),4)"
   ]
  },
  {
   "cell_type": "code",
   "execution_count": 61,
   "metadata": {},
   "outputs": [
    {
     "data": {
      "text/plain": [
       "array([[ 5.9990e-01,  9.0960e-01,  6.5270e-01, ...,  1.0017e+00,\n",
       "         6.8420e-01, -3.8660e-01],\n",
       "       [ 1.2484e+00,  1.0990e+00,  1.1366e+00, ...,  9.4680e-01,\n",
       "         3.9900e-01,  3.6650e-01],\n",
       "       [ 8.6030e-01,  7.4320e-01,  8.8170e-01, ...,  5.7450e-01,\n",
       "         7.3300e-02,  9.6430e-01],\n",
       "       ...,\n",
       "       [-1.7633e+00, -1.5389e+00, -1.6047e+00, ...,  8.7800e-02,\n",
       "        -2.2940e-01,  1.6000e-03],\n",
       "       [-1.5548e+00, -1.4700e+00, -1.4002e+00, ...,  5.3600e-02,\n",
       "        -6.5860e-01,  1.3560e-01],\n",
       "       [-1.4831e+00, -1.6290e+00, -1.5120e+00, ...,  1.4800e-02,\n",
       "        -1.1009e+00, -2.0992e+00]])"
      ]
     },
     "execution_count": 61,
     "metadata": {},
     "output_type": "execute_result"
    }
   ],
   "source": [
    "x_normal"
   ]
  },
  {
   "cell_type": "markdown",
   "metadata": {},
   "source": [
    "#### Cross Validation"
   ]
  },
  {
   "cell_type": "code",
   "execution_count": 62,
   "metadata": {},
   "outputs": [
    {
     "name": "stdout",
     "output_type": "stream",
     "text": [
      "TimeSeriesSplit(gap=0, max_train_size=None, n_splits=5, test_size=None)\n"
     ]
    }
   ],
   "source": [
    "tss = TimeSeriesSplit(n_splits=5) \n",
    "print(tss) "
   ]
  },
  {
   "cell_type": "markdown",
   "metadata": {},
   "source": [
    "### Defining Random Forest Model"
   ]
  },
  {
   "cell_type": "code",
   "execution_count": 63,
   "metadata": {},
   "outputs": [],
   "source": [
    "model = RandomForestRegressor(n_estimators=20, max_features='sqrt',\n",
    "                              max_depth=10, random_state=42)"
   ]
  },
  {
   "cell_type": "markdown",
   "metadata": {},
   "source": [
    "### Cross-validation and Metrics"
   ]
  },
  {
   "cell_type": "code",
   "execution_count": 64,
   "metadata": {},
   "outputs": [],
   "source": [
    "model_score=[]\n",
    "imp_of_predictors = []\n",
    "mae = []\n",
    "mse = []\n",
    "rmse = [] "
   ]
  },
  {
   "cell_type": "code",
   "execution_count": 65,
   "metadata": {},
   "outputs": [
    {
     "name": "stdout",
     "output_type": "stream",
     "text": [
      "Model Score :  [0.6150558262686643, -2.6307143021699795, 0.8658247626627701, 0.5175935296795802, -3.9179868074327517]\n",
      "Importance of predictors :  [array([0.08933969, 0.07682129, 0.07368651, 0.21609628, 0.13160572,\n",
      "       0.02744398, 0.16361694, 0.04146583, 0.16278299, 0.01166921,\n",
      "       0.00547156]), array([0.04246447, 0.05063886, 0.05899623, 0.31650042, 0.15552207,\n",
      "       0.0497629 , 0.0279295 , 0.03776393, 0.17140695, 0.07005001,\n",
      "       0.01896467]), array([0.08468881, 0.06896934, 0.05189103, 0.33693369, 0.1785037 ,\n",
      "       0.02174137, 0.06386511, 0.03167851, 0.12898705, 0.02273625,\n",
      "       0.01000514]), array([0.08019902, 0.07027598, 0.10082117, 0.3509857 , 0.18907328,\n",
      "       0.01428751, 0.01321892, 0.018079  , 0.08819837, 0.06436827,\n",
      "       0.01049278]), array([0.08308633, 0.07290898, 0.10139044, 0.34664134, 0.19137196,\n",
      "       0.01693145, 0.09704169, 0.02250314, 0.04696425, 0.00995782,\n",
      "       0.0112026 ])]\n",
      "Mean Absolute Error :  [12.68949319999999, 25.35916559999997, 11.048183450000009, 20.05850044, 25.77623619999993]\n",
      "Mean squared error :  [327.6895637111474, 868.3752791674908, 179.574877618717, 578.935816820258, 800.3228306339274]\n",
      "Root mean squared error :  [18.102197759143706, 29.468207939531897, 13.400555123528168, 24.061085113108636, 28.289977565101168]\n"
     ]
    }
   ],
   "source": [
    "for train_index, test_index in tss.split(x_val):\n",
    "    x_train, x_test = x_val[train_index], x_val[test_index]\n",
    "    y_train, y_test = y_val[train_index], y_val[test_index]\n",
    "    model = model.fit(x_train, y_train)\n",
    "    y_pred = model.predict(x_test) \n",
    "    model_score.append(metrics.r2_score(y_test, y_pred, sample_weight=None, multioutput='uniform_average'))\n",
    "    imp_of_predictors.append(model.feature_importances_)\n",
    "    mae.append(metrics.mean_absolute_error(y_test, y_pred))\n",
    "    mse.append(metrics.mean_squared_error(y_test,y_pred))\n",
    "    rmse.append(np.sqrt(metrics.mean_squared_error(y_test,y_pred)))\n",
    "print('Model Score : ',model_score) \n",
    "print('Importance of predictors : ',imp_of_predictors)\n",
    "print('Mean Absolute Error : ',mae)\n",
    "print('Mean squared error : ',mse)\n",
    "print('Root mean squared error : ',rmse) "
   ]
  },
  {
   "cell_type": "markdown",
   "metadata": {},
   "source": [
    "#### Checking for invalid values"
   ]
  },
  {
   "cell_type": "code",
   "execution_count": 66,
   "metadata": {},
   "outputs": [
    {
     "data": {
      "text/plain": [
       "(0, 0)"
      ]
     },
     "execution_count": 66,
     "metadata": {},
     "output_type": "execute_result"
    }
   ],
   "source": [
    "np.isinf(y_test).sum(), np.isnan(y_test).sum() "
   ]
  },
  {
   "cell_type": "code",
   "execution_count": 67,
   "metadata": {},
   "outputs": [
    {
     "data": {
      "text/plain": [
       "Series([], dtype: float64)"
      ]
     },
     "execution_count": 67,
     "metadata": {},
     "output_type": "execute_result"
    }
   ],
   "source": [
    "y_test=pd.Series(y_test)\n",
    "(y_test[np.isnan(y_test)]) "
   ]
  },
  {
   "cell_type": "markdown",
   "metadata": {},
   "source": [
    "### Comparing real and predicted values"
   ]
  },
  {
   "cell_type": "code",
   "execution_count": 68,
   "metadata": {},
   "outputs": [
    {
     "data": {
      "text/plain": [
       "25"
      ]
     },
     "execution_count": 68,
     "metadata": {},
     "output_type": "execute_result"
    }
   ],
   "source": [
    "len(y_test) "
   ]
  },
  {
   "cell_type": "code",
   "execution_count": 69,
   "metadata": {},
   "outputs": [
    {
     "data": {
      "text/plain": [
       "range(0, 25)"
      ]
     },
     "execution_count": 69,
     "metadata": {},
     "output_type": "execute_result"
    }
   ],
   "source": [
    "points = range(y_test.shape[0])\n",
    "points "
   ]
  },
  {
   "cell_type": "code",
   "execution_count": 70,
   "metadata": {},
   "outputs": [
    {
     "data": {
      "text/plain": [
       "<matplotlib.legend.Legend at 0x23b9ad53a00>"
      ]
     },
     "execution_count": 70,
     "metadata": {},
     "output_type": "execute_result"
    },
    {
     "data": {
      "image/png": "[encoded data removed]",
      "text/plain": [
       "<Figure size 640x480 with 1 Axes>"
      ]
     },
     "metadata": {},
     "output_type": "display_data"
    }
   ],
   "source": [
    "plt.plot(points, y_test, color='olive', label='y_test')\n",
    "plt.plot(points, y_pred, color='red', label='y_pred')\n",
    "plt.ylabel('close prices')\n",
    "plt.xlabel('days') \n",
    "plt.title('Predicted values vs Actual prices on test set')\n",
    "plt.legend(loc='upper left') \n"
   ]
  },
  {
   "cell_type": "markdown",
   "metadata": {},
   "source": [
    "#### Predicting values using x_test and creating signal"
   ]
  },
  {
   "cell_type": "code",
   "execution_count": 71,
   "metadata": {},
   "outputs": [
    {
     "name": "stdout",
     "output_type": "stream",
     "text": [
      "(67, 11)\n"
     ]
    }
   ],
   "source": [
    "print(x_test_copy.shape) \n",
    "x_test_copy['price_prediction'] = model.predict(x_test_copy.loc[:,X_cols]) "
   ]
  },
  {
   "cell_type": "code",
   "execution_count": 72,
   "metadata": {},
   "outputs": [],
   "source": [
    "x_test_copy['model_signal'] = np.where(x_test_copy['price_prediction']>x_test_copy['Close'],1,-1) "
   ]
  },
  {
   "cell_type": "markdown",
   "metadata": {},
   "source": [
    "### Defining Strategy and Compute the return"
   ]
  },
  {
   "cell_type": "code",
   "execution_count": 73,
   "metadata": {},
   "outputs": [],
   "source": [
    "def compute_ret(df):\n",
    "    df['ret'] = df.Close.shift(-1).pct_change()\n",
    "    df['cum_ret'] = np.cumsum(df.ret)\n",
    "    df['strategy_ret'] = df.ret * df.model_signal.shift(1)\n",
    "    df['cum_strategy_ret'] = np.cumsum(df.strategy_ret)\n",
    "    return df "
   ]
  },
  {
   "cell_type": "code",
   "execution_count": 74,
   "metadata": {},
   "outputs": [],
   "source": [
    "df2 = compute_ret(x_test_copy)"
   ]
  },
  {
   "cell_type": "code",
   "execution_count": 75,
   "metadata": {},
   "outputs": [
    {
     "data": {
      "text/html": [
       "<div>\n",
       "<style scoped>\n",
       "    .dataframe tbody tr th:only-of-type {\n",
       "        vertical-align: middle;\n",
       "    }\n",
       "\n",
       "    .dataframe tbody tr th {\n",
       "        vertical-align: top;\n",
       "    }\n",
       "\n",
       "    .dataframe thead th {\n",
       "        text-align: right;\n",
       "    }\n",
       "</style>\n",
       "<table border=\"1\" class=\"dataframe\">\n",
       "  <thead>\n",
       "    <tr style=\"text-align: right;\">\n",
       "      <th></th>\n",
       "      <th>Open</th>\n",
       "      <th>High</th>\n",
       "      <th>Low</th>\n",
       "      <th>Close</th>\n",
       "      <th>Adj Close</th>\n",
       "      <th>Volume</th>\n",
       "      <th>ema_short</th>\n",
       "      <th>ema_long</th>\n",
       "      <th>rsi</th>\n",
       "      <th>obv</th>\n",
       "      <th>tweet_sentiment</th>\n",
       "      <th>price_prediction</th>\n",
       "      <th>model_signal</th>\n",
       "      <th>ret</th>\n",
       "      <th>cum_ret</th>\n",
       "      <th>strategy_ret</th>\n",
       "      <th>cum_strategy_ret</th>\n",
       "    </tr>\n",
       "    <tr>\n",
       "      <th>Date</th>\n",
       "      <th></th>\n",
       "      <th></th>\n",
       "      <th></th>\n",
       "      <th></th>\n",
       "      <th></th>\n",
       "      <th></th>\n",
       "      <th></th>\n",
       "      <th></th>\n",
       "      <th></th>\n",
       "      <th></th>\n",
       "      <th></th>\n",
       "      <th></th>\n",
       "      <th></th>\n",
       "      <th></th>\n",
       "      <th></th>\n",
       "      <th></th>\n",
       "      <th></th>\n",
       "    </tr>\n",
       "  </thead>\n",
       "  <tbody>\n",
       "    <tr>\n",
       "      <th>2022-06-24</th>\n",
       "      <td>237.470001</td>\n",
       "      <td>246.066666</td>\n",
       "      <td>236.086670</td>\n",
       "      <td>245.706665</td>\n",
       "      <td>245.706665</td>\n",
       "      <td>95770800</td>\n",
       "      <td>233.665788</td>\n",
       "      <td>243.650488</td>\n",
       "      <td>51.749064</td>\n",
       "      <td>529807500.0</td>\n",
       "      <td>0.240741</td>\n",
       "      <td>263.233840</td>\n",
       "      <td>1</td>\n",
       "      <td>NaN</td>\n",
       "      <td>NaN</td>\n",
       "      <td>NaN</td>\n",
       "      <td>NaN</td>\n",
       "    </tr>\n",
       "    <tr>\n",
       "      <th>2022-06-27</th>\n",
       "      <td>249.366669</td>\n",
       "      <td>252.070007</td>\n",
       "      <td>242.566666</td>\n",
       "      <td>244.919998</td>\n",
       "      <td>244.919998</td>\n",
       "      <td>89178300</td>\n",
       "      <td>235.712008</td>\n",
       "      <td>243.732392</td>\n",
       "      <td>51.415963</td>\n",
       "      <td>440629200.0</td>\n",
       "      <td>0.391304</td>\n",
       "      <td>261.859510</td>\n",
       "      <td>1</td>\n",
       "      <td>-0.050044</td>\n",
       "      <td>-0.050044</td>\n",
       "      <td>-0.050044</td>\n",
       "      <td>-0.050044</td>\n",
       "    </tr>\n",
       "    <tr>\n",
       "      <th>2022-06-28</th>\n",
       "      <td>244.483337</td>\n",
       "      <td>249.970001</td>\n",
       "      <td>232.343338</td>\n",
       "      <td>232.663330</td>\n",
       "      <td>232.663330</td>\n",
       "      <td>90391200</td>\n",
       "      <td>235.157703</td>\n",
       "      <td>243.018259</td>\n",
       "      <td>46.404126</td>\n",
       "      <td>350238000.0</td>\n",
       "      <td>0.250000</td>\n",
       "      <td>261.191005</td>\n",
       "      <td>1</td>\n",
       "      <td>-0.017937</td>\n",
       "      <td>-0.067981</td>\n",
       "      <td>-0.017937</td>\n",
       "      <td>-0.067981</td>\n",
       "    </tr>\n",
       "    <tr>\n",
       "      <th>2022-06-29</th>\n",
       "      <td>230.500000</td>\n",
       "      <td>231.173340</td>\n",
       "      <td>222.273331</td>\n",
       "      <td>228.490005</td>\n",
       "      <td>228.490005</td>\n",
       "      <td>82897200</td>\n",
       "      <td>233.945394</td>\n",
       "      <td>242.080952</td>\n",
       "      <td>44.802734</td>\n",
       "      <td>267340800.0</td>\n",
       "      <td>0.350000</td>\n",
       "      <td>260.633835</td>\n",
       "      <td>1</td>\n",
       "      <td>-0.017579</td>\n",
       "      <td>-0.085560</td>\n",
       "      <td>-0.017579</td>\n",
       "      <td>-0.085560</td>\n",
       "    </tr>\n",
       "    <tr>\n",
       "      <th>2022-06-30</th>\n",
       "      <td>224.509995</td>\n",
       "      <td>229.456665</td>\n",
       "      <td>218.863327</td>\n",
       "      <td>224.473328</td>\n",
       "      <td>224.473328</td>\n",
       "      <td>94600500</td>\n",
       "      <td>232.223200</td>\n",
       "      <td>240.944976</td>\n",
       "      <td>43.255513</td>\n",
       "      <td>172740300.0</td>\n",
       "      <td>0.220779</td>\n",
       "      <td>261.843670</td>\n",
       "      <td>1</td>\n",
       "      <td>0.012429</td>\n",
       "      <td>-0.073131</td>\n",
       "      <td>0.012429</td>\n",
       "      <td>-0.073131</td>\n",
       "    </tr>\n",
       "  </tbody>\n",
       "</table>\n",
       "</div>"
      ],
      "text/plain": [
       "                  Open        High         Low       Close   Adj Close  \\\n",
       "Date                                                                     \n",
       "2022-06-24  237.470001  246.066666  236.086670  245.706665  245.706665   \n",
       "2022-06-27  249.366669  252.070007  242.566666  244.919998  244.919998   \n",
       "2022-06-28  244.483337  249.970001  232.343338  232.663330  232.663330   \n",
       "2022-06-29  230.500000  231.173340  222.273331  228.490005  228.490005   \n",
       "2022-06-30  224.509995  229.456665  218.863327  224.473328  224.473328   \n",
       "\n",
       "              Volume   ema_short    ema_long        rsi          obv  \\\n",
       "Date                                                                   \n",
       "2022-06-24  95770800  233.665788  243.650488  51.749064  529807500.0   \n",
       "2022-06-27  89178300  235.712008  243.732392  51.415963  440629200.0   \n",
       "2022-06-28  90391200  235.157703  243.018259  46.404126  350238000.0   \n",
       "2022-06-29  82897200  233.945394  242.080952  44.802734  267340800.0   \n",
       "2022-06-30  94600500  232.223200  240.944976  43.255513  172740300.0   \n",
       "\n",
       "            tweet_sentiment  price_prediction  model_signal       ret  \\\n",
       "Date                                                                    \n",
       "2022-06-24         0.240741        263.233840             1       NaN   \n",
       "2022-06-27         0.391304        261.859510             1 -0.050044   \n",
       "2022-06-28         0.250000        261.191005             1 -0.017937   \n",
       "2022-06-29         0.350000        260.633835             1 -0.017579   \n",
       "2022-06-30         0.220779        261.843670             1  0.012429   \n",
       "\n",
       "             cum_ret  strategy_ret  cum_strategy_ret  \n",
       "Date                                                  \n",
       "2022-06-24       NaN           NaN               NaN  \n",
       "2022-06-27 -0.050044     -0.050044         -0.050044  \n",
       "2022-06-28 -0.067981     -0.017937         -0.067981  \n",
       "2022-06-29 -0.085560     -0.017579         -0.085560  \n",
       "2022-06-30 -0.073131      0.012429         -0.073131  "
      ]
     },
     "execution_count": 75,
     "metadata": {},
     "output_type": "execute_result"
    }
   ],
   "source": [
    "df2.head()"
   ]
  },
  {
   "cell_type": "markdown",
   "metadata": {},
   "source": [
    "### Plot return of benchmark and strategy"
   ]
  },
  {
   "cell_type": "code",
   "execution_count": 76,
   "metadata": {},
   "outputs": [
    {
     "data": {
      "image/png": "[encoded data removed]",
      "text/plain": [
       "<Figure size 800x400 with 1 Axes>"
      ]
     },
     "metadata": {},
     "output_type": "display_data"
    }
   ],
   "source": [
    "df2['cum_ret'].plot(figsize=(8,4))\n",
    "df2['cum_strategy_ret'].plot(figsize=(8,4)) \n",
    "plt.legend(loc='upper right')\n",
    "plt.show() "
   ]
  },
  {
   "cell_type": "markdown",
   "metadata": {},
   "source": [
    "#### Calculating Sharpe Ratio"
   ]
  },
  {
   "cell_type": "code",
   "execution_count": 77,
   "metadata": {},
   "outputs": [],
   "source": [
    "def sharpe(df):\n",
    "    sharpe_ratio = df.strategy_ret.mean()/df.strategy_ret.std()*np.sqrt(252)\n",
    "    return sharpe_ratio"
   ]
  },
  {
   "cell_type": "code",
   "execution_count": 78,
   "metadata": {},
   "outputs": [
    {
     "data": {
      "text/plain": [
       "1.5454226455455782"
      ]
     },
     "execution_count": 78,
     "metadata": {},
     "output_type": "execute_result"
    }
   ],
   "source": [
    "sharpe(df2) "
   ]
  },
  {
   "cell_type": "code",
   "execution_count": 79,
   "metadata": {},
   "outputs": [
    {
     "name": "stdout",
     "output_type": "stream",
     "text": [
      "Average cumulative return :  0.13741628076801457\n",
      "Average strategic cumulative return :  0.1465263961435433\n"
     ]
    }
   ],
   "source": [
    "print('Average cumulative return : ',df2['cum_ret'].mean())\n",
    "print('Average strategic cumulative return : ',df2['cum_strategy_ret'].mean())"
   ]
  }
 ],
 "metadata": {
  "kernelspec": {
   "display_name": "pyten",
   "language": "python",
   "name": "python3"
  },
  "language_info": {
   "codemirror_mode": {
    "name": "ipython",
    "version": 3
   },
   "file_extension": ".py",
   "mimetype": "text/x-python",
   "name": "python",
   "nbconvert_exporter": "python",
   "pygments_lexer": "ipython3",
   "version": "3.10.14"
  }
 },
 "nbformat": 4,
 "nbformat_minor": 2
}
