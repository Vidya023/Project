{
 "cells": [
  {
   "cell_type": "markdown",
   "metadata": {},
   "source": [
    "# A Monte Carlo simulation technique to determine the optimal portfolio - <br> `Hassan Ghodrati and Zahra Zahiri`"
   ]
  },
  {
   "cell_type": "markdown",
   "metadata": {},
   "source": [
    "Objective : Determine asset allocation using Monte Carlo simulation and the weight of optimal investment is determined using a hybrid model called Markowitz and Winker model. "
   ]
  },
  {
   "cell_type": "markdown",
   "metadata": {},
   "source": [
    "### Calculating VaR using Monte Carlo Simulations"
   ]
  },
  {
   "cell_type": "code",
   "execution_count": 1,
   "metadata": {},
   "outputs": [],
   "source": [
    "import pandas as pd \n",
    "import numpy as np \n",
    "import matplotlib.pyplot as plt \n",
    "import seaborn as sns \n",
    "import yfinance as yf \n",
    "from datetime import datetime, timedelta\n",
    "import statsmodels.api as sm \n",
    "from scipy.stats import skew, kurtosis \n",
    "from scipy.optimize import minimize  \n",
    "\n",
    "plt.style.use('seaborn-v0_8-dark-palette') \n",
    "import warnings\n",
    "warnings.filterwarnings('ignore') "
   ]
  },
  {
   "cell_type": "markdown",
   "metadata": {},
   "source": [
    "#### 1. Fetch Data"
   ]
  },
  {
   "cell_type": "code",
   "execution_count": 2,
   "metadata": {},
   "outputs": [],
   "source": [
    "start_date = '2011-01-01' \n",
    "end_date = '2019-12-30' \n",
    "\n",
    "tickers = ['AAPL','AMD','NVDA','MSFT','TSLA','AMZN']  "
   ]
  },
  {
   "cell_type": "code",
   "execution_count": 3,
   "metadata": {},
   "outputs": [
    {
     "name": "stderr",
     "output_type": "stream",
     "text": [
      "[*********************100%%**********************]  6 of 6 completed\n"
     ]
    },
    {
     "data": {
      "text/html": [
       "<div>\n",
       "<style scoped>\n",
       "    .dataframe tbody tr th:only-of-type {\n",
       "        vertical-align: middle;\n",
       "    }\n",
       "\n",
       "    .dataframe tbody tr th {\n",
       "        vertical-align: top;\n",
       "    }\n",
       "\n",
       "    .dataframe thead th {\n",
       "        text-align: right;\n",
       "    }\n",
       "</style>\n",
       "<table border=\"1\" class=\"dataframe\">\n",
       "  <thead>\n",
       "    <tr style=\"text-align: right;\">\n",
       "      <th>Ticker</th>\n",
       "      <th>AAPL</th>\n",
       "      <th>AMD</th>\n",
       "      <th>AMZN</th>\n",
       "      <th>MSFT</th>\n",
       "      <th>NVDA</th>\n",
       "      <th>TSLA</th>\n",
       "    </tr>\n",
       "    <tr>\n",
       "      <th>Date</th>\n",
       "      <th></th>\n",
       "      <th></th>\n",
       "      <th></th>\n",
       "      <th></th>\n",
       "      <th></th>\n",
       "      <th></th>\n",
       "    </tr>\n",
       "  </thead>\n",
       "  <tbody>\n",
       "    <tr>\n",
       "      <th>2011-01-03</th>\n",
       "      <td>9.951282</td>\n",
       "      <td>8.47</td>\n",
       "      <td>9.2110</td>\n",
       "      <td>21.585318</td>\n",
       "      <td>0.362763</td>\n",
       "      <td>1.774667</td>\n",
       "    </tr>\n",
       "    <tr>\n",
       "      <th>2011-01-04</th>\n",
       "      <td>10.003216</td>\n",
       "      <td>8.77</td>\n",
       "      <td>9.2505</td>\n",
       "      <td>21.670177</td>\n",
       "      <td>0.361617</td>\n",
       "      <td>1.778000</td>\n",
       "    </tr>\n",
       "    <tr>\n",
       "      <th>2011-01-05</th>\n",
       "      <td>10.085043</td>\n",
       "      <td>8.91</td>\n",
       "      <td>9.3710</td>\n",
       "      <td>21.600742</td>\n",
       "      <td>0.389363</td>\n",
       "      <td>1.788667</td>\n",
       "    </tr>\n",
       "  </tbody>\n",
       "</table>\n",
       "</div>"
      ],
      "text/plain": [
       "Ticker           AAPL   AMD    AMZN       MSFT      NVDA      TSLA\n",
       "Date                                                              \n",
       "2011-01-03   9.951282  8.47  9.2110  21.585318  0.362763  1.774667\n",
       "2011-01-04  10.003216  8.77  9.2505  21.670177  0.361617  1.778000\n",
       "2011-01-05  10.085043  8.91  9.3710  21.600742  0.389363  1.788667"
      ]
     },
     "execution_count": 3,
     "metadata": {},
     "output_type": "execute_result"
    }
   ],
   "source": [
    "data = pd.DataFrame() \n",
    "data = yf.download(tickers,start=start_date,end=end_date)['Adj Close'] \n",
    "data.head(3) "
   ]
  },
  {
   "cell_type": "markdown",
   "metadata": {},
   "source": [
    "#### 2. Calculate Daily Log Returns"
   ]
  },
  {
   "cell_type": "code",
   "execution_count": 4,
   "metadata": {},
   "outputs": [
    {
     "data": {
      "text/html": [
       "<div>\n",
       "<style scoped>\n",
       "    .dataframe tbody tr th:only-of-type {\n",
       "        vertical-align: middle;\n",
       "    }\n",
       "\n",
       "    .dataframe tbody tr th {\n",
       "        vertical-align: top;\n",
       "    }\n",
       "\n",
       "    .dataframe thead th {\n",
       "        text-align: right;\n",
       "    }\n",
       "</style>\n",
       "<table border=\"1\" class=\"dataframe\">\n",
       "  <thead>\n",
       "    <tr style=\"text-align: right;\">\n",
       "      <th>Ticker</th>\n",
       "      <th>AAPL</th>\n",
       "      <th>AMD</th>\n",
       "      <th>AMZN</th>\n",
       "      <th>MSFT</th>\n",
       "      <th>NVDA</th>\n",
       "      <th>TSLA</th>\n",
       "    </tr>\n",
       "    <tr>\n",
       "      <th>Date</th>\n",
       "      <th></th>\n",
       "      <th></th>\n",
       "      <th></th>\n",
       "      <th></th>\n",
       "      <th></th>\n",
       "      <th></th>\n",
       "    </tr>\n",
       "  </thead>\n",
       "  <tbody>\n",
       "    <tr>\n",
       "      <th>2011-01-04</th>\n",
       "      <td>0.005205</td>\n",
       "      <td>0.034806</td>\n",
       "      <td>0.004279</td>\n",
       "      <td>0.003924</td>\n",
       "      <td>-0.003166</td>\n",
       "      <td>0.001876</td>\n",
       "    </tr>\n",
       "    <tr>\n",
       "      <th>2011-01-05</th>\n",
       "      <td>0.008147</td>\n",
       "      <td>0.015837</td>\n",
       "      <td>0.012942</td>\n",
       "      <td>-0.003209</td>\n",
       "      <td>0.073927</td>\n",
       "      <td>0.005981</td>\n",
       "    </tr>\n",
       "    <tr>\n",
       "      <th>2011-01-06</th>\n",
       "      <td>-0.000809</td>\n",
       "      <td>-0.025001</td>\n",
       "      <td>-0.008358</td>\n",
       "      <td>0.028865</td>\n",
       "      <td>0.129622</td>\n",
       "      <td>0.038389</td>\n",
       "    </tr>\n",
       "  </tbody>\n",
       "</table>\n",
       "</div>"
      ],
      "text/plain": [
       "Ticker          AAPL       AMD      AMZN      MSFT      NVDA      TSLA\n",
       "Date                                                                  \n",
       "2011-01-04  0.005205  0.034806  0.004279  0.003924 -0.003166  0.001876\n",
       "2011-01-05  0.008147  0.015837  0.012942 -0.003209  0.073927  0.005981\n",
       "2011-01-06 -0.000809 -0.025001 -0.008358  0.028865  0.129622  0.038389"
      ]
     },
     "execution_count": 4,
     "metadata": {},
     "output_type": "execute_result"
    }
   ],
   "source": [
    "log_returns = np.log(data/data.shift(1)).dropna() \n",
    "log_returns.head(3) "
   ]
  },
  {
   "cell_type": "markdown",
   "metadata": {},
   "source": [
    "#### 3. Defining number of simulations and Time Horizon"
   ]
  },
  {
   "cell_type": "code",
   "execution_count": 5,
   "metadata": {},
   "outputs": [],
   "source": [
    "num_sims = 1000\n",
    "time_horizon = 10    # One day\n",
    "\n",
    "confidence_level = 0.95 "
   ]
  },
  {
   "cell_type": "markdown",
   "metadata": {},
   "source": [
    "#### 4. Calculating VaR for each stock using Monte Carlo Simulation"
   ]
  },
  {
   "cell_type": "code",
   "execution_count": 6,
   "metadata": {},
   "outputs": [
    {
     "name": "stdout",
     "output_type": "stream",
     "text": [
      "Value at Risk for AAPL at 95.0% confidence level : $0.03\n",
      "Value at Risk for AMD at 95.0% confidence level : $0.06\n",
      "Value at Risk for NVDA at 95.0% confidence level : $0.04\n",
      "Value at Risk for MSFT at 95.0% confidence level : $0.02\n",
      "Value at Risk for TSLA at 95.0% confidence level : $0.05\n",
      "Value at Risk for AMZN at 95.0% confidence level : $0.03\n"
     ]
    }
   ],
   "source": [
    "np.random.seed(42) \n",
    "VaRs={} \n",
    "data_sim = pd.DataFrame() \n",
    "for tick in tickers: \n",
    "    data_tick = pd.DataFrame() \n",
    "    mean_return = log_returns[tick].mean() \n",
    "    std_return = log_returns[tick].std() \n",
    "    \n",
    "    # Simulate Future Returns using Monte Carlo\n",
    "    simulated_returns = np.random.normal(mean_return,std_return,num_sims*10).reshape(num_sims,10) \n",
    "\n",
    "    data_tick = pd.DataFrame(simulated_returns)\n",
    "    data_sim[tick] = data_tick.iloc[:,-1] \n",
    "\n",
    "    # Calculate VaR\n",
    "    VaR = np.percentile(simulated_returns, (1 - confidence_level) * 100)\n",
    "    VaRs[tick] = -VaR.round(2) \n",
    "\n",
    "# Output VaRs for each stock\n",
    "for tick in tickers:  \n",
    "    print(f'Value at Risk for {tick} at {confidence_level*100}% confidence level : ${VaRs[tick]}') "
   ]
  },
  {
   "cell_type": "markdown",
   "metadata": {},
   "source": [
    "Interpretation : Value at Risk for AAPL at 95.0% confidence level : $0.03 "
   ]
  },
  {
   "cell_type": "markdown",
   "metadata": {},
   "source": [
    "There is a 95% probability that the loss will be less than or equal to $0.03.\n",
    "Conversely, there is a 5% chance that the loss will exceed $0.03."
   ]
  },
  {
   "cell_type": "code",
   "execution_count": 7,
   "metadata": {},
   "outputs": [
    {
     "data": {
      "text/html": [
       "<div>\n",
       "<style scoped>\n",
       "    .dataframe tbody tr th:only-of-type {\n",
       "        vertical-align: middle;\n",
       "    }\n",
       "\n",
       "    .dataframe tbody tr th {\n",
       "        vertical-align: top;\n",
       "    }\n",
       "\n",
       "    .dataframe thead th {\n",
       "        text-align: right;\n",
       "    }\n",
       "</style>\n",
       "<table border=\"1\" class=\"dataframe\">\n",
       "  <thead>\n",
       "    <tr style=\"text-align: right;\">\n",
       "      <th></th>\n",
       "      <th>VaR (per $)</th>\n",
       "    </tr>\n",
       "    <tr>\n",
       "      <th>Ticker</th>\n",
       "      <th></th>\n",
       "    </tr>\n",
       "  </thead>\n",
       "  <tbody>\n",
       "    <tr>\n",
       "      <th>AAPL</th>\n",
       "      <td>0.03</td>\n",
       "    </tr>\n",
       "    <tr>\n",
       "      <th>AMD</th>\n",
       "      <td>0.06</td>\n",
       "    </tr>\n",
       "    <tr>\n",
       "      <th>NVDA</th>\n",
       "      <td>0.04</td>\n",
       "    </tr>\n",
       "    <tr>\n",
       "      <th>MSFT</th>\n",
       "      <td>0.02</td>\n",
       "    </tr>\n",
       "    <tr>\n",
       "      <th>TSLA</th>\n",
       "      <td>0.05</td>\n",
       "    </tr>\n",
       "    <tr>\n",
       "      <th>AMZN</th>\n",
       "      <td>0.03</td>\n",
       "    </tr>\n",
       "  </tbody>\n",
       "</table>\n",
       "</div>"
      ],
      "text/plain": [
       "        VaR (per $)\n",
       "Ticker             \n",
       "AAPL           0.03\n",
       "AMD            0.06\n",
       "NVDA           0.04\n",
       "MSFT           0.02\n",
       "TSLA           0.05\n",
       "AMZN           0.03"
      ]
     },
     "execution_count": 7,
     "metadata": {},
     "output_type": "execute_result"
    }
   ],
   "source": [
    "VaR_df= pd.DataFrame()\n",
    "VaR_df = pd.DataFrame(list(VaRs.items()), columns=['Ticker', 'VaR (per $)']) \n",
    "VaR_df.set_index('Ticker',inplace=True) \n",
    "VaR_df   "
   ]
  },
  {
   "cell_type": "markdown",
   "metadata": {},
   "source": [
    "#### 5. Analyzing Predictions"
   ]
  },
  {
   "cell_type": "code",
   "execution_count": 8,
   "metadata": {},
   "outputs": [
    {
     "data": {
      "text/html": [
       "<div>\n",
       "<style scoped>\n",
       "    .dataframe tbody tr th:only-of-type {\n",
       "        vertical-align: middle;\n",
       "    }\n",
       "\n",
       "    .dataframe tbody tr th {\n",
       "        vertical-align: top;\n",
       "    }\n",
       "\n",
       "    .dataframe thead th {\n",
       "        text-align: right;\n",
       "    }\n",
       "</style>\n",
       "<table border=\"1\" class=\"dataframe\">\n",
       "  <thead>\n",
       "    <tr style=\"text-align: right;\">\n",
       "      <th></th>\n",
       "      <th>Mean predctd price($)</th>\n",
       "      <th>Median predctd price($)</th>\n",
       "      <th>2.5th percentile($)</th>\n",
       "      <th>97.5th percentile($)</th>\n",
       "      <th>95% Confidence interval($)</th>\n",
       "    </tr>\n",
       "  </thead>\n",
       "  <tbody>\n",
       "    <tr>\n",
       "      <th>AAPL</th>\n",
       "      <td>0.0015</td>\n",
       "      <td>0.0012</td>\n",
       "      <td>-0.0285</td>\n",
       "      <td>0.0316</td>\n",
       "      <td>(-0.0285, 0.0316)</td>\n",
       "    </tr>\n",
       "    <tr>\n",
       "      <th>AMD</th>\n",
       "      <td>0.0011</td>\n",
       "      <td>0.0017</td>\n",
       "      <td>-0.0650</td>\n",
       "      <td>0.0712</td>\n",
       "      <td>(-0.065, 0.0712)</td>\n",
       "    </tr>\n",
       "    <tr>\n",
       "      <th>NVDA</th>\n",
       "      <td>0.0001</td>\n",
       "      <td>-0.0002</td>\n",
       "      <td>-0.0457</td>\n",
       "      <td>0.0469</td>\n",
       "      <td>(-0.0457, 0.0469)</td>\n",
       "    </tr>\n",
       "    <tr>\n",
       "      <th>MSFT</th>\n",
       "      <td>0.0008</td>\n",
       "      <td>0.0004</td>\n",
       "      <td>-0.0254</td>\n",
       "      <td>0.0276</td>\n",
       "      <td>(-0.0254, 0.0276)</td>\n",
       "    </tr>\n",
       "    <tr>\n",
       "      <th>TSLA</th>\n",
       "      <td>0.0012</td>\n",
       "      <td>0.0021</td>\n",
       "      <td>-0.0617</td>\n",
       "      <td>0.0614</td>\n",
       "      <td>(-0.0617, 0.0614)</td>\n",
       "    </tr>\n",
       "  </tbody>\n",
       "</table>\n",
       "</div>"
      ],
      "text/plain": [
       "      Mean predctd price($)  Median predctd price($)  2.5th percentile($)  \\\n",
       "AAPL                 0.0015                   0.0012              -0.0285   \n",
       "AMD                  0.0011                   0.0017              -0.0650   \n",
       "NVDA                 0.0001                  -0.0002              -0.0457   \n",
       "MSFT                 0.0008                   0.0004              -0.0254   \n",
       "TSLA                 0.0012                   0.0021              -0.0617   \n",
       "\n",
       "      97.5th percentile($) 95% Confidence interval($)  \n",
       "AAPL                0.0316          (-0.0285, 0.0316)  \n",
       "AMD                 0.0712           (-0.065, 0.0712)  \n",
       "NVDA                0.0469          (-0.0457, 0.0469)  \n",
       "MSFT                0.0276          (-0.0254, 0.0276)  \n",
       "TSLA                0.0614          (-0.0617, 0.0614)  "
      ]
     },
     "execution_count": 8,
     "metadata": {},
     "output_type": "execute_result"
    }
   ],
   "source": [
    "mean_prices = []\n",
    "median_prices = []\n",
    "lower_percentiles = []\n",
    "upper_percentiles = [] \n",
    "\n",
    "for tick in tickers:\n",
    "    predicted_prices = data_sim[tick] \n",
    "    mean_price = np.mean(predicted_prices)\n",
    "    median_price = np.median(predicted_prices) \n",
    "    lower_percentile = np.percentile(predicted_prices,2.5) \n",
    "    upper_percentile = np.percentile(predicted_prices,97.5)\n",
    "\n",
    "    mean_prices.append((mean_price).round(4))\n",
    "    median_prices.append((median_price).round(4))\n",
    "    lower_percentiles.append((lower_percentile.round(4)))\n",
    "    upper_percentiles.append((upper_percentile.round(4))) \n",
    "\n",
    "data_preds = pd.DataFrame({'Mean predctd price($)':mean_prices,'Median predctd price($)':median_prices,\n",
    "                           '2.5th percentile($)':lower_percentiles,'97.5th percentile($)':upper_percentiles}\n",
    "                           ,index=tickers) \n",
    "data_preds['95% Confidence interval($)'] = list(zip(data_preds['2.5th percentile($)'],\n",
    "                                                 data_preds['97.5th percentile($)']))\n",
    "data_preds.head() "
   ]
  },
  {
   "cell_type": "markdown",
   "metadata": {},
   "source": [
    "# Optimization using Hybrid Model"
   ]
  },
  {
   "cell_type": "code",
   "execution_count": 9,
   "metadata": {},
   "outputs": [
    {
     "data": {
      "text/html": [
       "<div>\n",
       "<style scoped>\n",
       "    .dataframe tbody tr th:only-of-type {\n",
       "        vertical-align: middle;\n",
       "    }\n",
       "\n",
       "    .dataframe tbody tr th {\n",
       "        vertical-align: top;\n",
       "    }\n",
       "\n",
       "    .dataframe thead th {\n",
       "        text-align: right;\n",
       "    }\n",
       "</style>\n",
       "<table border=\"1\" class=\"dataframe\">\n",
       "  <thead>\n",
       "    <tr style=\"text-align: right;\">\n",
       "      <th></th>\n",
       "      <th>AAPL</th>\n",
       "      <th>AMD</th>\n",
       "      <th>NVDA</th>\n",
       "      <th>MSFT</th>\n",
       "      <th>TSLA</th>\n",
       "      <th>AMZN</th>\n",
       "    </tr>\n",
       "  </thead>\n",
       "  <tbody>\n",
       "    <tr>\n",
       "      <th>1</th>\n",
       "      <td>-3.279767</td>\n",
       "      <td>1.162901</td>\n",
       "      <td>-0.156103</td>\n",
       "      <td>1.393669</td>\n",
       "      <td>-1.362551</td>\n",
       "      <td>-1.318244</td>\n",
       "    </tr>\n",
       "    <tr>\n",
       "      <th>2</th>\n",
       "      <td>-0.824690</td>\n",
       "      <td>-1.034437</td>\n",
       "      <td>-1.214329</td>\n",
       "      <td>2.138159</td>\n",
       "      <td>-1.156718</td>\n",
       "      <td>9.335678</td>\n",
       "    </tr>\n",
       "    <tr>\n",
       "      <th>3</th>\n",
       "      <td>-2.050887</td>\n",
       "      <td>-33.096920</td>\n",
       "      <td>2.675478</td>\n",
       "      <td>-1.120084</td>\n",
       "      <td>-5.909279</td>\n",
       "      <td>-1.454933</td>\n",
       "    </tr>\n",
       "  </tbody>\n",
       "</table>\n",
       "</div>"
      ],
      "text/plain": [
       "       AAPL        AMD      NVDA      MSFT      TSLA      AMZN\n",
       "1 -3.279767   1.162901 -0.156103  1.393669 -1.362551 -1.318244\n",
       "2 -0.824690  -1.034437 -1.214329  2.138159 -1.156718  9.335678\n",
       "3 -2.050887 -33.096920  2.675478 -1.120084 -5.909279 -1.454933"
      ]
     },
     "execution_count": 9,
     "metadata": {},
     "output_type": "execute_result"
    }
   ],
   "source": [
    "predicted_returns = pd.DataFrame(data_sim).pct_change().dropna() \n",
    "predicted_returns.head(3)  "
   ]
  },
  {
   "cell_type": "code",
   "execution_count": 10,
   "metadata": {},
   "outputs": [
    {
     "data": {
      "text/plain": [
       "(999, 6)"
      ]
     },
     "execution_count": 10,
     "metadata": {},
     "output_type": "execute_result"
    }
   ],
   "source": [
    "predicted_returns.shape "
   ]
  },
  {
   "cell_type": "markdown",
   "metadata": {},
   "source": [
    "#### 6. Computing Expected Returns and Statistics for each stock"
   ]
  },
  {
   "cell_type": "code",
   "execution_count": 11,
   "metadata": {},
   "outputs": [],
   "source": [
    "def rets_stats(predicted_returns):\n",
    "    expected_returns = predicted_returns.mean() \n",
    "    cov_matrix = predicted_returns.cov() \n",
    "    skewness = predicted_returns.apply(lambda x:skew(x)) \n",
    "    kurtoses = predicted_returns.apply(lambda x:kurtosis(x))\n",
    "    return expected_returns, cov_matrix, skewness, kurtoses "
   ]
  },
  {
   "cell_type": "code",
   "execution_count": 12,
   "metadata": {},
   "outputs": [
    {
     "name": "stdout",
     "output_type": "stream",
     "text": [
      "\n",
      "==========Covariance Matrix==========\n",
      "Ticker      AAPL       AMD      AMZN      MSFT      NVDA      TSLA\n",
      "Ticker                                                            \n",
      "AAPL    0.000262  0.000167  0.000120  0.000104  0.000156  0.000133\n",
      "AMD     0.000167  0.001323  0.000195  0.000164  0.000414  0.000272\n",
      "AMZN    0.000120  0.000195  0.000373  0.000135  0.000182  0.000180\n",
      "MSFT    0.000104  0.000164  0.000135  0.000206  0.000165  0.000123\n",
      "NVDA    0.000156  0.000414  0.000182  0.000165  0.000632  0.000220\n",
      "TSLA    0.000133  0.000272  0.000180  0.000123  0.000220  0.000979\n",
      "\n"
     ]
    },
    {
     "data": {
      "text/html": [
       "<div>\n",
       "<style scoped>\n",
       "    .dataframe tbody tr th:only-of-type {\n",
       "        vertical-align: middle;\n",
       "    }\n",
       "\n",
       "    .dataframe tbody tr th {\n",
       "        vertical-align: top;\n",
       "    }\n",
       "\n",
       "    .dataframe thead th {\n",
       "        text-align: right;\n",
       "    }\n",
       "</style>\n",
       "<table border=\"1\" class=\"dataframe\">\n",
       "  <thead>\n",
       "    <tr style=\"text-align: right;\">\n",
       "      <th></th>\n",
       "      <th>Expected Returns</th>\n",
       "      <th>Skewness</th>\n",
       "      <th>Kurtosis</th>\n",
       "    </tr>\n",
       "  </thead>\n",
       "  <tbody>\n",
       "    <tr>\n",
       "      <th>AAPL</th>\n",
       "      <td>0.000865</td>\n",
       "      <td>-0.394448</td>\n",
       "      <td>5.183650</td>\n",
       "    </tr>\n",
       "    <tr>\n",
       "      <th>AMD</th>\n",
       "      <td>0.000750</td>\n",
       "      <td>0.393306</td>\n",
       "      <td>12.291694</td>\n",
       "    </tr>\n",
       "    <tr>\n",
       "      <th>NVDA</th>\n",
       "      <td>0.001233</td>\n",
       "      <td>0.417636</td>\n",
       "      <td>11.181019</td>\n",
       "    </tr>\n",
       "    <tr>\n",
       "      <th>MSFT</th>\n",
       "      <td>0.000865</td>\n",
       "      <td>-0.115901</td>\n",
       "      <td>6.929841</td>\n",
       "    </tr>\n",
       "    <tr>\n",
       "      <th>TSLA</th>\n",
       "      <td>0.001231</td>\n",
       "      <td>0.211351</td>\n",
       "      <td>5.770842</td>\n",
       "    </tr>\n",
       "    <tr>\n",
       "      <th>AMZN</th>\n",
       "      <td>0.001025</td>\n",
       "      <td>0.164580</td>\n",
       "      <td>8.215108</td>\n",
       "    </tr>\n",
       "  </tbody>\n",
       "</table>\n",
       "</div>"
      ],
      "text/plain": [
       "      Expected Returns  Skewness   Kurtosis\n",
       "AAPL          0.000865 -0.394448   5.183650\n",
       "AMD           0.000750  0.393306  12.291694\n",
       "NVDA          0.001233  0.417636  11.181019\n",
       "MSFT          0.000865 -0.115901   6.929841\n",
       "TSLA          0.001231  0.211351   5.770842\n",
       "AMZN          0.001025  0.164580   8.215108"
      ]
     },
     "execution_count": 12,
     "metadata": {},
     "output_type": "execute_result"
    }
   ],
   "source": [
    "expected_returns, cov_matrix, skewness, kurtoses = rets_stats(log_returns) \n",
    "\n",
    "df_stats = pd.DataFrame(index=tickers) \n",
    "df_stats['Expected Returns'] = expected_returns\n",
    "df_stats['Skewness'] = skewness\n",
    "df_stats['Kurtosis'] = kurtoses\n",
    "\n",
    "print() \n",
    "print('==========Covariance Matrix==========')\n",
    "print(cov_matrix) \n",
    "print() \n",
    "df_stats "
   ]
  },
  {
   "cell_type": "markdown",
   "metadata": {},
   "source": [
    "#### 7. Optimization Functions for hybrid Model"
   ]
  },
  {
   "cell_type": "code",
   "execution_count": 13,
   "metadata": {},
   "outputs": [],
   "source": [
    "def portfolio_variance(weights,cov_matrix):\n",
    "    return np.dot(weights.T,np.dot(cov_matrix,weights)) \n",
    "\n",
    "def portfolio_skewness(weights,skewness,returns):\n",
    "    port_returns = np.dot(returns,weights)\n",
    "    return skew(port_returns) \n",
    "\n",
    "def portfolio_kurtosis(weights,kurtoses,returns):\n",
    "    port_returns = np.dot(returns,weights) \n",
    "    return kurtosis(port_returns) \n",
    "\n",
    "def constraint_sum_weights(weights):\n",
    "    return np.sum(weights)-1\n",
    "\n",
    "def constraint_nonnegative(weights):\n",
    "    return weights \n",
    "\n",
    "def utility_function_hybrid(weights,expected_returns,cov_matrix,skewness,kurtoses,lambd=0.5,gamm=0.5,delt=0.5):\n",
    "    exp_return = np.dot(weights,expected_returns)\n",
    "    var = portfolio_variance(weights,cov_matrix) \n",
    "    skewness_val = portfolio_skewness(weights,skewness,log_returns)\n",
    "    kurtosis_val = portfolio_kurtosis(weights,kurtoses,log_returns)\n",
    "\n",
    "    # Utility Function\n",
    "    utility = exp_return - lambd*var + gamm*skewness_val - delt*kurtosis_val\n",
    "    return -utility # Negative sign is for minimization  "
   ]
  },
  {
   "cell_type": "code",
   "execution_count": 14,
   "metadata": {},
   "outputs": [
    {
     "name": "stdout",
     "output_type": "stream",
     "text": [
      "Optimal Weights: [0.2        0.16737457 0.2        0.2        0.03262543 0.2       ]\n",
      "Optimal Utility Value: -0.8894823035117588\n"
     ]
    }
   ],
   "source": [
    "# Initial Weights\n",
    "\n",
    "num_assets = len(tickers)\n",
    "initial_weights = np.ones(num_assets)/num_assets  # Here, initial_weights for all 6 assets = 1/6\n",
    "\n",
    "# Bounds and Constraints\n",
    "bounds = [(0.02,0.20) for _ in range(num_assets)] \n",
    "constraints = [{'type':'eq','fun':constraint_sum_weights},\n",
    "               {'type':'ineq','fun':constraint_nonnegative}] \n",
    "\n",
    "# Optimization\n",
    "result_hybrid = minimize(\n",
    "    utility_function_hybrid,\n",
    "    initial_weights,\n",
    "    args=(expected_returns, cov_matrix, skewness, kurtoses),\n",
    "    method='SLSQP',\n",
    "    bounds=bounds,\n",
    "    constraints=constraints\n",
    ")\n",
    "\n",
    "# Results\n",
    "optimal_weights_hybrid = result_hybrid.x\n",
    "print(f\"Optimal Weights: {optimal_weights_hybrid}\")\n",
    "print(f\"Optimal Utility Value: {-result_hybrid.fun}\") "
   ]
  },
  {
   "cell_type": "code",
   "execution_count": 15,
   "metadata": {},
   "outputs": [
    {
     "name": "stdout",
     "output_type": "stream",
     "text": [
      "Optimal weight for AAPL : 0.2000%\n",
      "Optimal weight for AMD : 0.1674%\n",
      "Optimal weight for NVDA : 0.2000%\n",
      "Optimal weight for MSFT : 0.2000%\n",
      "Optimal weight for TSLA : 0.0326%\n",
      "Optimal weight for AMZN : 0.2000%\n",
      "\n",
      "Sum of optimal weights of Hybrid Model :  1.0\n"
     ]
    }
   ],
   "source": [
    "for ticker,weight in zip(tickers,optimal_weights_hybrid):\n",
    "    print(f'Optimal weight for {ticker} : {weight:.4f}%') \n",
    "print() \n",
    "print('Sum of optimal weights of Hybrid Model : ',(optimal_weights_hybrid.sum()).round(2)) "
   ]
  },
  {
   "cell_type": "markdown",
   "metadata": {},
   "source": [
    "#### 8. Optimization functions for Markowitz Model"
   ]
  },
  {
   "cell_type": "code",
   "execution_count": 16,
   "metadata": {},
   "outputs": [
    {
     "name": "stdout",
     "output_type": "stream",
     "text": [
      "Optimal weight for AAPL : 0.20%\n",
      "Optimal weight for AMD : 0.02%\n",
      "Optimal weight for NVDA : 0.20%\n",
      "Optimal weight for MSFT : 0.20%\n",
      "Optimal weight for TSLA : 0.20%\n",
      "Optimal weight for AMZN : 0.18%\n",
      "\n",
      "Sum of optimal weights of Markov Model :  1.0\n"
     ]
    }
   ],
   "source": [
    "def portfolio_performance(weights,mean_returns,cov_matrix):\n",
    "    returns = np.sum(mean_returns*weights)*time_horizon\n",
    "    std_dev = np.sqrt(np.dot(weights.T,np.dot(cov_matrix,weights)))\n",
    "    return returns,std_dev \n",
    "\n",
    "def negative_sharpe_ratio(weights,mean_returns,cov_matrix,risk_free_rate=0):\n",
    "    p_returns, p_std_dev = portfolio_performance(weights,mean_returns,cov_matrix) \n",
    "    return -(p_returns-risk_free_rate)/p_std_dev  \n",
    "\n",
    "try:\n",
    "    optimized_result = minimize(negative_sharpe_ratio,initial_weights,args=(expected_returns,cov_matrix),\n",
    "                            method='SLSQP',bounds=bounds,constraints=constraints) \n",
    "except Exception as e:\n",
    "    print(\"An error occurred:\", e)     \n",
    "\n",
    "optimal_weights_markov = optimized_result.x \n",
    "for ticker,weight in zip(tickers,optimal_weights_markov):\n",
    "    print(f'Optimal weight for {ticker} : {weight:.2f}%')\n",
    "print() \n",
    "print('Sum of optimal weights of Markov Model : ',(optimal_weights_markov.sum()).round(2))          "
   ]
  },
  {
   "cell_type": "markdown",
   "metadata": {},
   "source": [
    "#### 9. Plotting pie chart of optimal weights for both models"
   ]
  },
  {
   "cell_type": "code",
   "execution_count": 18,
   "metadata": {},
   "outputs": [
    {
     "data": {
      "image/png": "[encoded data removed]",
      "text/plain": [
       "<Figure size 2000x700 with 2 Axes>"
      ]
     },
     "metadata": {},
     "output_type": "display_data"
    }
   ],
   "source": [
    "# Create subplots\n",
    "fig, axes = plt.subplots(1, 2, figsize=(20, 7))\n",
    "\n",
    "# Plot the first pie chart\n",
    "axes[0].pie(optimal_weights_hybrid, labels=tickers, autopct='%1.1f%%', startangle=140)\n",
    "axes[0].set_title('Optimal Portfolio Allocation (Hybrid)')\n",
    "\n",
    "# Plot the second pie chart\n",
    "axes[1].pie(optimal_weights_markov, labels=tickers, autopct='%1.1f%%', startangle=140)\n",
    "axes[1].set_title('Optimal Portfolio Allocation (Markov)')\n",
    "\n",
    "# Set the figure and axes background color to white\n",
    "fig.patch.set_facecolor('white')\n",
    "for ax in axes:\n",
    "    ax.set_facecolor('white')\n",
    "\n",
    "plt.show() "
   ]
  },
  {
   "cell_type": "markdown",
   "metadata": {},
   "source": [
    "#### 10. Comparing returns after 10 days for both portfolios"
   ]
  },
  {
   "cell_type": "code",
   "execution_count": 19,
   "metadata": {},
   "outputs": [
    {
     "name": "stdout",
     "output_type": "stream",
     "text": [
      "End date :  2019-12-30\n",
      "Next day :  2020-01-09 00:00:00\n"
     ]
    }
   ],
   "source": [
    "print('End date : ',end_date)\n",
    "end_date_str = datetime.strptime(end_date, '%Y-%m-%d')\n",
    "next_day = end_date_str + timedelta(days=10)\n",
    "next_day_str = next_day.strftime('%Y-%m-%d')\n",
    "print('Next day : ',next_day) "
   ]
  },
  {
   "cell_type": "code",
   "execution_count": 20,
   "metadata": {},
   "outputs": [
    {
     "name": "stderr",
     "output_type": "stream",
     "text": [
      "[*********************100%%**********************]  6 of 6 completed\n"
     ]
    },
    {
     "data": {
      "text/html": [
       "<div>\n",
       "<style scoped>\n",
       "    .dataframe tbody tr th:only-of-type {\n",
       "        vertical-align: middle;\n",
       "    }\n",
       "\n",
       "    .dataframe tbody tr th {\n",
       "        vertical-align: top;\n",
       "    }\n",
       "\n",
       "    .dataframe thead th {\n",
       "        text-align: right;\n",
       "    }\n",
       "</style>\n",
       "<table border=\"1\" class=\"dataframe\">\n",
       "  <thead>\n",
       "    <tr style=\"text-align: right;\">\n",
       "      <th>Ticker</th>\n",
       "      <th>AAPL</th>\n",
       "      <th>AMD</th>\n",
       "      <th>AMZN</th>\n",
       "      <th>MSFT</th>\n",
       "      <th>NVDA</th>\n",
       "      <th>TSLA</th>\n",
       "    </tr>\n",
       "    <tr>\n",
       "      <th>Date</th>\n",
       "      <th></th>\n",
       "      <th></th>\n",
       "      <th></th>\n",
       "      <th></th>\n",
       "      <th></th>\n",
       "      <th></th>\n",
       "    </tr>\n",
       "  </thead>\n",
       "  <tbody>\n",
       "    <tr>\n",
       "      <th>2019-12-30</th>\n",
       "      <td>70.815498</td>\n",
       "      <td>45.520000</td>\n",
       "      <td>92.344498</td>\n",
       "      <td>151.306442</td>\n",
       "      <td>5.784647</td>\n",
       "      <td>27.646667</td>\n",
       "    </tr>\n",
       "    <tr>\n",
       "      <th>2019-12-31</th>\n",
       "      <td>71.332916</td>\n",
       "      <td>45.860001</td>\n",
       "      <td>92.391998</td>\n",
       "      <td>151.412109</td>\n",
       "      <td>5.858847</td>\n",
       "      <td>27.888666</td>\n",
       "    </tr>\n",
       "    <tr>\n",
       "      <th>2020-01-02</th>\n",
       "      <td>72.960457</td>\n",
       "      <td>49.099998</td>\n",
       "      <td>94.900497</td>\n",
       "      <td>154.215683</td>\n",
       "      <td>5.973634</td>\n",
       "      <td>28.684000</td>\n",
       "    </tr>\n",
       "  </tbody>\n",
       "</table>\n",
       "</div>"
      ],
      "text/plain": [
       "Ticker           AAPL        AMD       AMZN        MSFT      NVDA       TSLA\n",
       "Date                                                                        \n",
       "2019-12-30  70.815498  45.520000  92.344498  151.306442  5.784647  27.646667\n",
       "2019-12-31  71.332916  45.860001  92.391998  151.412109  5.858847  27.888666\n",
       "2020-01-02  72.960457  49.099998  94.900497  154.215683  5.973634  28.684000"
      ]
     },
     "execution_count": 20,
     "metadata": {},
     "output_type": "execute_result"
    }
   ],
   "source": [
    "data_next = pd.DataFrame()\n",
    "data_next = yf.download(tickers,start='2019-12-30', end='2020-01-09')['Adj Close'] \n",
    "data_next.head(3)     "
   ]
  },
  {
   "cell_type": "markdown",
   "metadata": {},
   "source": [
    "#### 11. Hybrid Model"
   ]
  },
  {
   "cell_type": "code",
   "execution_count": 21,
   "metadata": {},
   "outputs": [
    {
     "data": {
      "text/html": [
       "<div>\n",
       "<style scoped>\n",
       "    .dataframe tbody tr th:only-of-type {\n",
       "        vertical-align: middle;\n",
       "    }\n",
       "\n",
       "    .dataframe tbody tr th {\n",
       "        vertical-align: top;\n",
       "    }\n",
       "\n",
       "    .dataframe thead th {\n",
       "        text-align: right;\n",
       "    }\n",
       "</style>\n",
       "<table border=\"1\" class=\"dataframe\">\n",
       "  <thead>\n",
       "    <tr style=\"text-align: right;\">\n",
       "      <th></th>\n",
       "      <th>Day1</th>\n",
       "      <th>Day10</th>\n",
       "      <th>Optimal Weights Hybrid (%)</th>\n",
       "      <th>Day1_values</th>\n",
       "      <th>Day10_values</th>\n",
       "      <th>VaR (per $)</th>\n",
       "      <th>VaR</th>\n",
       "    </tr>\n",
       "  </thead>\n",
       "  <tbody>\n",
       "    <tr>\n",
       "      <th>AAPL</th>\n",
       "      <td>70.815498</td>\n",
       "      <td>73.650352</td>\n",
       "      <td>0.200000</td>\n",
       "      <td>14.163100</td>\n",
       "      <td>14.730070</td>\n",
       "      <td>0.03</td>\n",
       "      <td>0.441902</td>\n",
       "    </tr>\n",
       "    <tr>\n",
       "      <th>AMD</th>\n",
       "      <td>45.520000</td>\n",
       "      <td>47.830002</td>\n",
       "      <td>0.167375</td>\n",
       "      <td>7.618910</td>\n",
       "      <td>8.005547</td>\n",
       "      <td>0.06</td>\n",
       "      <td>0.480333</td>\n",
       "    </tr>\n",
       "    <tr>\n",
       "      <th>NVDA</th>\n",
       "      <td>92.344498</td>\n",
       "      <td>94.598503</td>\n",
       "      <td>0.200000</td>\n",
       "      <td>18.468900</td>\n",
       "      <td>18.919701</td>\n",
       "      <td>0.04</td>\n",
       "      <td>0.756788</td>\n",
       "    </tr>\n",
       "    <tr>\n",
       "      <th>MSFT</th>\n",
       "      <td>151.306442</td>\n",
       "      <td>153.706802</td>\n",
       "      <td>0.200000</td>\n",
       "      <td>30.261288</td>\n",
       "      <td>30.741360</td>\n",
       "      <td>0.02</td>\n",
       "      <td>0.614827</td>\n",
       "    </tr>\n",
       "    <tr>\n",
       "      <th>TSLA</th>\n",
       "      <td>5.784647</td>\n",
       "      <td>5.985336</td>\n",
       "      <td>0.032625</td>\n",
       "      <td>0.188724</td>\n",
       "      <td>0.195272</td>\n",
       "      <td>0.05</td>\n",
       "      <td>0.009764</td>\n",
       "    </tr>\n",
       "    <tr>\n",
       "      <th>AMZN</th>\n",
       "      <td>27.646667</td>\n",
       "      <td>32.809334</td>\n",
       "      <td>0.200000</td>\n",
       "      <td>5.529333</td>\n",
       "      <td>6.561867</td>\n",
       "      <td>0.03</td>\n",
       "      <td>0.196856</td>\n",
       "    </tr>\n",
       "  </tbody>\n",
       "</table>\n",
       "</div>"
      ],
      "text/plain": [
       "            Day1       Day10  Optimal Weights Hybrid (%)  Day1_values  \\\n",
       "AAPL   70.815498   73.650352                    0.200000    14.163100   \n",
       "AMD    45.520000   47.830002                    0.167375     7.618910   \n",
       "NVDA   92.344498   94.598503                    0.200000    18.468900   \n",
       "MSFT  151.306442  153.706802                    0.200000    30.261288   \n",
       "TSLA    5.784647    5.985336                    0.032625     0.188724   \n",
       "AMZN   27.646667   32.809334                    0.200000     5.529333   \n",
       "\n",
       "      Day10_values  VaR (per $)       VaR  \n",
       "AAPL     14.730070         0.03  0.441902  \n",
       "AMD       8.005547         0.06  0.480333  \n",
       "NVDA     18.919701         0.04  0.756788  \n",
       "MSFT     30.741360         0.02  0.614827  \n",
       "TSLA      0.195272         0.05  0.009764  \n",
       "AMZN      6.561867         0.03  0.196856  "
      ]
     },
     "execution_count": 21,
     "metadata": {},
     "output_type": "execute_result"
    }
   ],
   "source": [
    "df_hybrid = pd.DataFrame(index=tickers) \n",
    "\n",
    "df_hybrid['Day1'] = data_next.iloc[0].values\n",
    "df_hybrid['Day10'] = data_next.iloc[-1].values\n",
    "\n",
    "optimal_weights_hybrid_dict = dict(zip(tickers, optimal_weights_hybrid)) \n",
    "df_hybrid['Optimal Weights Hybrid (%)'] = (df_hybrid.index.map(optimal_weights_hybrid_dict)).round(6)\n",
    "\n",
    "df_hybrid['Day1_values'] = df_hybrid['Day1']*df_hybrid['Optimal Weights Hybrid (%)']\n",
    "df_hybrid['Day10_values'] = df_hybrid['Day10']*df_hybrid['Optimal Weights Hybrid (%)']\n",
    "\n",
    "df_hybrid['VaR (per $)'] = df_hybrid.index.map(VaR_df['VaR (per $)']) \n",
    "df_hybrid['VaR'] = df_hybrid['Day10_values']*df_hybrid['VaR (per $)'] \n",
    "\n",
    "df_hybrid  "
   ]
  },
  {
   "cell_type": "markdown",
   "metadata": {},
   "source": [
    "Calculating Total Portfolio value "
   ]
  },
  {
   "cell_type": "code",
   "execution_count": 22,
   "metadata": {},
   "outputs": [
    {
     "name": "stdout",
     "output_type": "stream",
     "text": [
      "Total Portfolio Value Day1: $76.23\n",
      "Total Portfolio Value Day10: $79.15\n",
      "Total VaR : $2.50\n",
      "Portfolio Return: 0.0384 or 3.84%\n"
     ]
    }
   ],
   "source": [
    "total_value_yesterday_hybrid = np.sum(df_hybrid['Day1_values'])\n",
    "total_value_today_hybrid = np.sum(df_hybrid['Day10_values']) \n",
    "total_var_hybrid = np.sum(df_hybrid['VaR']) \n",
    "\n",
    "portfolio_return_hybrid = (total_value_today_hybrid - total_value_yesterday_hybrid) / total_value_yesterday_hybrid\n",
    "\n",
    "print(f\"Total Portfolio Value Day1: ${total_value_yesterday_hybrid:.2f}\")\n",
    "print(f\"Total Portfolio Value Day10: ${total_value_today_hybrid:.2f}\")\n",
    "print(f'Total VaR : ${total_var_hybrid:.2f}')\n",
    "print(f\"Portfolio Return: {portfolio_return_hybrid:.4f} or {portfolio_return_hybrid * 100:.2f}%\") "
   ]
  },
  {
   "cell_type": "markdown",
   "metadata": {},
   "source": [
    "#### 12. Markov Model"
   ]
  },
  {
   "cell_type": "code",
   "execution_count": 23,
   "metadata": {},
   "outputs": [
    {
     "data": {
      "text/html": [
       "<div>\n",
       "<style scoped>\n",
       "    .dataframe tbody tr th:only-of-type {\n",
       "        vertical-align: middle;\n",
       "    }\n",
       "\n",
       "    .dataframe tbody tr th {\n",
       "        vertical-align: top;\n",
       "    }\n",
       "\n",
       "    .dataframe thead th {\n",
       "        text-align: right;\n",
       "    }\n",
       "</style>\n",
       "<table border=\"1\" class=\"dataframe\">\n",
       "  <thead>\n",
       "    <tr style=\"text-align: right;\">\n",
       "      <th></th>\n",
       "      <th>Day1</th>\n",
       "      <th>Day10</th>\n",
       "      <th>Optimal Weights Markov (%)</th>\n",
       "      <th>Day1_values</th>\n",
       "      <th>Day10_values</th>\n",
       "      <th>VaR (per $)</th>\n",
       "      <th>VaR</th>\n",
       "    </tr>\n",
       "  </thead>\n",
       "  <tbody>\n",
       "    <tr>\n",
       "      <th>AAPL</th>\n",
       "      <td>70.815498</td>\n",
       "      <td>73.650352</td>\n",
       "      <td>0.20</td>\n",
       "      <td>14.163100</td>\n",
       "      <td>14.730070</td>\n",
       "      <td>0.03</td>\n",
       "      <td>0.441902</td>\n",
       "    </tr>\n",
       "    <tr>\n",
       "      <th>AMD</th>\n",
       "      <td>45.520000</td>\n",
       "      <td>47.830002</td>\n",
       "      <td>0.02</td>\n",
       "      <td>0.910400</td>\n",
       "      <td>0.956600</td>\n",
       "      <td>0.06</td>\n",
       "      <td>0.057396</td>\n",
       "    </tr>\n",
       "    <tr>\n",
       "      <th>NVDA</th>\n",
       "      <td>92.344498</td>\n",
       "      <td>94.598503</td>\n",
       "      <td>0.20</td>\n",
       "      <td>18.468900</td>\n",
       "      <td>18.919701</td>\n",
       "      <td>0.04</td>\n",
       "      <td>0.756788</td>\n",
       "    </tr>\n",
       "    <tr>\n",
       "      <th>MSFT</th>\n",
       "      <td>151.306442</td>\n",
       "      <td>153.706802</td>\n",
       "      <td>0.20</td>\n",
       "      <td>30.261288</td>\n",
       "      <td>30.741360</td>\n",
       "      <td>0.02</td>\n",
       "      <td>0.614827</td>\n",
       "    </tr>\n",
       "    <tr>\n",
       "      <th>TSLA</th>\n",
       "      <td>5.784647</td>\n",
       "      <td>5.985336</td>\n",
       "      <td>0.20</td>\n",
       "      <td>1.156929</td>\n",
       "      <td>1.197067</td>\n",
       "      <td>0.05</td>\n",
       "      <td>0.059853</td>\n",
       "    </tr>\n",
       "    <tr>\n",
       "      <th>AMZN</th>\n",
       "      <td>27.646667</td>\n",
       "      <td>32.809334</td>\n",
       "      <td>0.18</td>\n",
       "      <td>4.976400</td>\n",
       "      <td>5.905680</td>\n",
       "      <td>0.03</td>\n",
       "      <td>0.177170</td>\n",
       "    </tr>\n",
       "  </tbody>\n",
       "</table>\n",
       "</div>"
      ],
      "text/plain": [
       "            Day1       Day10  Optimal Weights Markov (%)  Day1_values  \\\n",
       "AAPL   70.815498   73.650352                        0.20    14.163100   \n",
       "AMD    45.520000   47.830002                        0.02     0.910400   \n",
       "NVDA   92.344498   94.598503                        0.20    18.468900   \n",
       "MSFT  151.306442  153.706802                        0.20    30.261288   \n",
       "TSLA    5.784647    5.985336                        0.20     1.156929   \n",
       "AMZN   27.646667   32.809334                        0.18     4.976400   \n",
       "\n",
       "      Day10_values  VaR (per $)       VaR  \n",
       "AAPL     14.730070         0.03  0.441902  \n",
       "AMD       0.956600         0.06  0.057396  \n",
       "NVDA     18.919701         0.04  0.756788  \n",
       "MSFT     30.741360         0.02  0.614827  \n",
       "TSLA      1.197067         0.05  0.059853  \n",
       "AMZN      5.905680         0.03  0.177170  "
      ]
     },
     "execution_count": 23,
     "metadata": {},
     "output_type": "execute_result"
    }
   ],
   "source": [
    "df_markov = pd.DataFrame(index=tickers) \n",
    "\n",
    "df_markov['Day1'] = data_next.iloc[0].values\n",
    "df_markov['Day10'] = data_next.iloc[-1].values\n",
    "\n",
    "optimal_weights_markov_dict = dict(zip(tickers, optimal_weights_markov))\n",
    "df_markov['Optimal Weights Markov (%)'] = df_markov.index.map(optimal_weights_markov_dict)\n",
    "\n",
    "df_markov['Day1_values'] = df_markov['Day1']*df_markov['Optimal Weights Markov (%)']\n",
    "df_markov['Day10_values'] = df_markov['Day10']*df_markov['Optimal Weights Markov (%)']\n",
    "\n",
    "df_markov['VaR (per $)'] = df_markov.index.map(VaR_df['VaR (per $)']) \n",
    "df_markov['VaR'] = df_markov['Day10_values']*df_markov['VaR (per $)'] \n",
    "\n",
    "df_markov  "
   ]
  },
  {
   "cell_type": "code",
   "execution_count": 24,
   "metadata": {},
   "outputs": [
    {
     "name": "stdout",
     "output_type": "stream",
     "text": [
      "Total Portfolio Value Day1: $69.94\n",
      "Total Portfolio Value Day10: $72.45\n",
      "Total VaR : $2.11\n",
      "Portfolio Return: 0.0359 or 3.59%\n"
     ]
    }
   ],
   "source": [
    "total_value_yesterday_mark = np.sum(df_markov['Day1_values'])\n",
    "total_value_today_mark = np.sum(df_markov['Day10_values']) \n",
    "total_var_mark = np.sum(df_markov['VaR']) \n",
    "\n",
    "portfolio_return_markov = (total_value_today_mark - total_value_yesterday_mark) / total_value_yesterday_mark\n",
    "\n",
    "print(f\"Total Portfolio Value Day1: ${total_value_yesterday_mark:.2f}\")\n",
    "print(f\"Total Portfolio Value Day10: ${total_value_today_mark:.2f}\")\n",
    "print(f'Total VaR : ${total_var_mark:.2f}')\n",
    "print(f\"Portfolio Return: {portfolio_return_markov:.4f} or {portfolio_return_markov * 100:.2f}%\")  "
   ]
  },
  {
   "cell_type": "markdown",
   "metadata": {},
   "source": [
    "#### Calculate the value of portfolio after 10 days"
   ]
  },
  {
   "cell_type": "code",
   "execution_count": 25,
   "metadata": {},
   "outputs": [
    {
     "name": "stdout",
     "output_type": "stream",
     "text": [
      "==================== Comparing Returns and VaR after 10 days ====================\n",
      "\n",
      "Returns from Markov Model : 3.59%\n",
      "VaR for Markov Model : $2.11\n",
      "\n",
      "Returns from Hybrid Model : 3.84%\n",
      "VaR for Hybrid Model : $2.50\n"
     ]
    }
   ],
   "source": [
    "print('='*20,'Comparing Returns and VaR after 10 days','='*20)\n",
    "print() \n",
    "print(f'Returns from Markov Model : {portfolio_return_markov*100:.2f}%')\n",
    "print(f'VaR for Markov Model : ${total_var_mark:.2f}')\n",
    "print()\n",
    "print(f'Returns from Hybrid Model : {portfolio_return_hybrid*100:.2f}%')  \n",
    "print(f'VaR for Hybrid Model : ${total_var_hybrid:.2f}') "
   ]
  }
 ],
 "metadata": {
  "kernelspec": {
   "display_name": "base",
   "language": "python",
   "name": "python3"
  },
  "language_info": {
   "codemirror_mode": {
    "name": "ipython",
    "version": 3
   },
   "file_extension": ".py",
   "mimetype": "text/x-python",
   "name": "python",
   "nbconvert_exporter": "python",
   "pygments_lexer": "ipython3",
   "version": "3.12.4"
  }
 },
 "nbformat": 4,
 "nbformat_minor": 2
}
