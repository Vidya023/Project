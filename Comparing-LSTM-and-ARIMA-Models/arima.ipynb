{
 "cells": [
  {
   "cell_type": "markdown",
   "metadata": {},
   "source": [
    "### ARIMA Model"
   ]
  },
  {
   "cell_type": "code",
   "execution_count": null,
   "metadata": {},
   "outputs": [],
   "source": [
    "import pandas as pd \n",
    "import numpy as np\n",
    "import yfinance as yf \n",
    "import matplotlib.pyplot as  plt \n",
    "import matplotlib.dates as mdates\n",
    "%matplotlib inline  \n",
    "from statsmodels.tsa.arima.model import ARIMA \n",
    "\n",
    "import warnings \n",
    "warnings.filterwarnings('ignore') \n",
    "warnings.filterwarnings('ignore', 'statsmodels.tsa.aima.model.ARIMA',\n",
    "                        FutureWarning) "
   ]
  },
  {
   "cell_type": "code",
   "execution_count": null,
   "metadata": {},
   "outputs": [],
   "source": [
    "data = yf.download('SPY',period='10y')  "
   ]
  },
  {
   "cell_type": "code",
   "execution_count": null,
   "metadata": {},
   "outputs": [],
   "source": [
    "data_arima = data.copy() \n",
    "data_lstm = data.copy() "
   ]
  },
  {
   "cell_type": "code",
   "execution_count": null,
   "metadata": {},
   "outputs": [],
   "source": [
    "data.columns"
   ]
  },
  {
   "cell_type": "code",
   "execution_count": null,
   "metadata": {},
   "outputs": [],
   "source": [
    "data.isna().sum() "
   ]
  },
  {
   "cell_type": "code",
   "execution_count": null,
   "metadata": {},
   "outputs": [],
   "source": [
    "data.head() "
   ]
  },
  {
   "cell_type": "code",
   "execution_count": null,
   "metadata": {},
   "outputs": [],
   "source": [
    "# Setting rolling window \n",
    "rolling_window = int(len(data_arima)*0.70)\n",
    "\n",
    "# Defining function to select the best model and forecast the price\n",
    "def select_model_forecast(price_df):\n",
    "    # The p, d and q values\n",
    "    aic = []\n",
    "    p = range(1,3)\n",
    "    d = range(0,2)\n",
    "    q = range(1,3)\n",
    "    # Empty list to store p, q, d\n",
    "    p_q_d = []\n",
    "    # Get the aic score for different values of p, d and q\n",
    "    for i in p:\n",
    "        for j in d:\n",
    "            for k in q:\n",
    "                # Try to fit the model\n",
    "                try:\n",
    "                    model = ARIMA(price_df, order=(i, j, k)) \n",
    "                    model_fit = model.fit()\n",
    "                    # Calculate AIC score\n",
    "                    aic_temp = model_fit.aic \n",
    "                    keys_temp = (i, j, k) \n",
    "                    # Save AIC score and p, d, and q values\n",
    "                    p_q_d.append(keys_temp)\n",
    "                    aic.append(aic_temp) \n",
    "                except Exception as e:\n",
    "                    print('Model not fitting, error : ', e) \n",
    "                    pass   \n",
    "\n",
    "    # Store values in dictionary\n",
    "    aic_dict = {'p_q_d':p_q_d, 'aic':aic}\n",
    "\n",
    "    # Create DataFrame for dictionary\n",
    "    df = pd.DataFrame(aic_dict) \n",
    "\n",
    "    # Get minimum AIC value with p, d, and q values\n",
    "    df = df[df['aic'] == df['aic'].min()].reset_index()\n",
    "\n",
    "    if len(df)>0:\n",
    "        # Fitting optimized model\n",
    "        model_o = ARIMA(price_df, order=df.p_q_d[0]) \n",
    "        model_oFit = model_o.fit()\n",
    "\n",
    "        # making the forecast \n",
    "        predicted_price = model_oFit.forecast() \n",
    "        print(predicted_price) \n",
    "        return predicted_price \n",
    "    else:\n",
    "        return -1 "
   ]
  },
  {
   "cell_type": "code",
   "execution_count": null,
   "metadata": {},
   "outputs": [],
   "source": [
    "def select_model(price_df):\n",
    "    aic = [] \n",
    "    p = range(0,16)\n",
    "    d = range(0,2) \n",
    "    q = range(0,16) \n",
    "\n",
    "    p_q_d = []\n",
    "\n",
    "    # Get aic score for different values of p, q, d\n",
    "    for i in p:\n",
    "        for j in d:\n",
    "            for k in q:\n",
    "                try:\n",
    "                    model = ARIMA(price_df, order=(i, j, k)) \n",
    "                    model_fit = model.fit() \n",
    "\n",
    "                    # Calculate AIC score\n",
    "                    aic_temp = model_fit.aic\n",
    "                    keys_temp = (i, j, k) \n",
    "                    print(keys_temp, aic_temp)\n",
    "                    p_q_d.append(keys_temp)\n",
    "                    aic.append(aic_temp) \n",
    "                except:\n",
    "                    pass \n",
    "\n",
    "    # Store values in dictionary\n",
    "    aic_dict = {'p_q_d':p_q_d, 'aic':aic} \n",
    "    print(aic_dict) \n",
    "\n",
    "    df = pd.DataFrame(aic_dict)\n",
    "    df = df[df['aic']==df['aic'].min()].reset_index()\n",
    "    return df                "
   ]
  },
  {
   "cell_type": "code",
   "execution_count": null,
   "metadata": {},
   "outputs": [],
   "source": [
    "data_arima['Returns'] = data_arima['Adj Close'].pct_change()\n",
    "data_arima.dropna(inplace=True)\n",
    "data_df = pd.DataFrame(data_arima['Returns'])  "
   ]
  },
  {
   "cell_type": "markdown",
   "metadata": {},
   "source": [
    "Time of execution : 30 minutes"
   ]
  },
  {
   "cell_type": "code",
   "execution_count": null,
   "metadata": {},
   "outputs": [],
   "source": [
    "df = select_model(data_df['Returns']) \n",
    "df "
   ]
  },
  {
   "cell_type": "markdown",
   "metadata": {},
   "source": [
    "### Forecasting the Closing price"
   ]
  },
  {
   "cell_type": "markdown",
   "metadata": {},
   "source": [
    "Execution time : 5 mins"
   ]
  },
  {
   "cell_type": "code",
   "execution_count": null,
   "metadata": {},
   "outputs": [],
   "source": [
    "data_arima['predicted'] = data_arima['Close'].rolling(rolling_window).apply(select_model_forecast, raw=False) "
   ]
  },
  {
   "cell_type": "markdown",
   "metadata": {},
   "source": [
    "### Generating signals for strategy"
   ]
  },
  {
   "cell_type": "markdown",
   "metadata": {},
   "source": [
    "When predicted_price>close, asset is bought "
   ]
  },
  {
   "cell_type": "code",
   "execution_count": null,
   "metadata": {},
   "outputs": [],
   "source": [
    "# Defining signal\n",
    "data_arima['signal'] = np.where(data_arima['predicted_new']>data_arima['Close'],1 ,-1)\n",
    "\n",
    "# Calculate strategy returns \n",
    "data_arima['strategy_returs'] = data_arima['Close'].pct_change()*data_arima['signal'].shift(1) \n",
    "data_arima.dropna(inplace=True) "
   ]
  },
  {
   "cell_type": "code",
   "execution_count": null,
   "metadata": {},
   "outputs": [],
   "source": [
    "data_arima.head() "
   ]
  },
  {
   "cell_type": "code",
   "execution_count": null,
   "metadata": {},
   "outputs": [],
   "source": [
    "def analyse_strategy(strategy_returns, returns):\n",
    "    sharpe_ratio = strategy_returns.mean()/strategy_returns.std()*np.sqrt(252)\n",
    "\n",
    "    # Cumulative Returns\n",
    "    cumulative_returns = (returns+1).cumprod()\n",
    "    cumulative_strategy_returns = (strategy_returns+1).cumprod()\n",
    "\n",
    "    # Calculate running maximum \n",
    "    running_max = np.maximum.accumulate(cumulative_strategy_returns.dropna()) \n",
    "    # Ensuring that value never drops below 1\n",
    "    running_max[running_max<1] = 1\n",
    "    # Calculate percentage drawdown \n",
    "    drawdown = 100*((cumulative_strategy_returns)/running_max-1)\n",
    "    # Calculate maximum drawdown\n",
    "    max_dd = drawdown.min()\n",
    "\n",
    "    # Print statistics\n",
    "    print('Sharpe Ratio %.2f' % sharpe_ratio)\n",
    "    print('Cumulative Return %.2f' % (((cumulative_strategy_returns[-1])-1)*100)+'%') \n",
    "    print('Maximum drawdown %.2f' % max_dd+'%') \n",
    "\n",
    "    # Plot\n",
    "    labels = strategy_returns.index\n",
    "    fig, (ax1, ax2) = plt.subplots(2,1,figsize=(10,7)) \n",
    "\n",
    "    # Plot returns and strategy returns\n",
    "    ax1.plot(cumulative_returns, label='Cumulative Returns', color='olive')\n",
    "    ax1.plot(cumulative_strategy_returns, label = 'Cumulative Strategy Returns', color='b')\n",
    "    ax1.set_title('Cumulative Returns vs Cumulative Strategy Returns')\n",
    "    ax1.set_xlabel('Date') \n",
    "    ax1.set_ylabel('Cumulative Returns')\n",
    "    ax1.set_xticklabels(labels, rotation=45, ha='right') \n",
    "    ax1.xaxis.set_major_formatter(mdates.DateFormatter('%d-%m-%Y')) \n",
    "    ax1.xaxis.set_minor_formatter(mdates.DateFormatter('%d-%m-%Y')) \n",
    "    ax1.legend() \n",
    "    # Plot max DD\n",
    "    ax2.plot(drawdown, color='red') \n",
    "    ax2.fill_between(drawdown.index, drawdown.values, color='red')\n",
    "    ax2.set_title('Strategy Drawdown')\n",
    "    ax2.set_xlabel('Date') \n",
    "    ax2.set_ylabel('Drawdown (%)') \n",
    "    ax2.set_xticklabels(labels, rotation=45, ha='right') \n",
    "    ax2.xaxis.set_major_formatter(mdates.DateFormatter('%d-%m-%Y')) \n",
    "    ax2.xaxis.set_minor_formatter(mdates.DateFormatter('%d-%m-%Y')) \n",
    "    \n",
    "    plt.tight_layout()\n",
    "    plt.show() "
   ]
  },
  {
   "cell_type": "code",
   "execution_count": null,
   "metadata": {},
   "outputs": [],
   "source": [
    "analyse_strategy(data_arima['strategy_returs'], data_arima['Returns'])"
   ]
  },
  {
   "cell_type": "markdown",
   "metadata": {},
   "source": [
    "# LSTM"
   ]
  },
  {
   "cell_type": "code",
   "execution_count": 1,
   "metadata": {},
   "outputs": [],
   "source": [
    "import pandas as pd \n",
    "import numpy as  np \n",
    "import matplotlib.pyplot as plt \n",
    "%matplotlib inline \n",
    "import talib as ta \n",
    "import yfinance as yf\n",
    "import datetime, random, pickle \n",
    "from sklearn.preprocessing import MinMaxScaler, StandardScaler\n",
    "from sklearn.metrics import mean_squared_error, recall_score, precision_score, f1_score \n",
    "from keras.callbacks import EarlyStopping\n",
    "from collections import deque\n",
    "import tensorflow as tf\n",
    "from tensorflow.keras.models import Sequential\n",
    "from tensorflow.keras.layers import Dense, Dropout, LSTM, BatchNormalization\n",
    "import keras.backend as K\n",
    "from statistics import mean "
   ]
  },
  {
   "cell_type": "code",
   "execution_count": 2,
   "metadata": {},
   "outputs": [],
   "source": [
    "def classify_return(future):\n",
    "    if float(future)>0:\n",
    "        return 1.0\n",
    "    else:\n",
    "        return 0.0 "
   ]
  },
  {
   "cell_type": "code",
   "execution_count": 3,
   "metadata": {},
   "outputs": [],
   "source": [
    "def threshold_longshort(predict):\n",
    "    if float(predict)>0.5:\n",
    "        return 1.0\n",
    "    else:\n",
    "        return -1.0"
   ]
  },
  {
   "cell_type": "code",
   "execution_count": 4,
   "metadata": {},
   "outputs": [],
   "source": [
    "def recall(y_true, y_pred): #Sensitivity\n",
    "    true_positives = tf.keras.backend.sum(tf.keras.backend.round(tf.keras.backend.clip(y_true * y_pred, 0, 1)))\n",
    "    all_positives = tf.keras.backend.sum(tf.keras.backend.round(tf.keras.backend.clip(y_true, 0, 1)))\n",
    "    recall = true_positives / (all_positives + tf.keras.backend.epsilon())\n",
    "    return recall "
   ]
  },
  {
   "cell_type": "code",
   "execution_count": 5,
   "metadata": {},
   "outputs": [],
   "source": [
    "def precision(y_true, y_pred): #ppv\n",
    "    true_positives = tf.keras.backend.sum(tf.keras.backend.round(tf.keras.backend.clip(y_true * y_pred, 0, 1)))\n",
    "    predicted_positives = tf.keras.backend.sum(tf.keras.backend.round(tf.keras.backend.clip(y_pred, 0, 1)))\n",
    "    precision = true_positives / (predicted_positives + tf.keras.backend.epsilon())\n",
    "    return precision  "
   ]
  },
  {
   "cell_type": "code",
   "execution_count": 6,
   "metadata": {},
   "outputs": [],
   "source": [
    "def f1score(y_true,y_pred):\n",
    "    return 2*recall(y_true, y_pred)*precision(y_true, y_pred)/(precision(y_true, y_pred)+recall(y_true, y_pred))"
   ]
  },
  {
   "cell_type": "code",
   "execution_count": 7,
   "metadata": {},
   "outputs": [],
   "source": [
    "future_period = 3\n",
    "tickers = ['SPY','TLT'] \n",
    "train_df = pd.DataFrame()  "
   ]
  },
  {
   "cell_type": "code",
   "execution_count": 8,
   "metadata": {},
   "outputs": [
    {
     "name": "stderr",
     "output_type": "stream",
     "text": [
      "[*********************100%%**********************]  1 of 1 completed\n",
      "[*********************100%%**********************]  1 of 1 completed\n"
     ]
    }
   ],
   "source": [
    "for ticker in tickers:    \n",
    "    df = yf.download(ticker,period='5y')\n",
    "    df.rename(columns={'Adj Close':f'{ticker}_close','Volume':f'{ticker}_volume'}, inplace=True)\n",
    "    # df.set_index('Date', inplace=True)\n",
    "    df = df[[f'{ticker}_close',f'{ticker}_volume']] \n",
    "\n",
    "    if len(train_df)==0:\n",
    "        train_df = df\n",
    "    else:\n",
    "        train_df = train_df.join(df)    "
   ]
  },
  {
   "cell_type": "code",
   "execution_count": 9,
   "metadata": {},
   "outputs": [
    {
     "data": {
      "text/plain": [
       "(1258, 4)"
      ]
     },
     "execution_count": 9,
     "metadata": {},
     "output_type": "execute_result"
    }
   ],
   "source": [
    "train_df.shape "
   ]
  },
  {
   "cell_type": "code",
   "execution_count": 10,
   "metadata": {},
   "outputs": [
    {
     "data": {
      "text/html": [
       "<div>\n",
       "<style scoped>\n",
       "    .dataframe tbody tr th:only-of-type {\n",
       "        vertical-align: middle;\n",
       "    }\n",
       "\n",
       "    .dataframe tbody tr th {\n",
       "        vertical-align: top;\n",
       "    }\n",
       "\n",
       "    .dataframe thead th {\n",
       "        text-align: right;\n",
       "    }\n",
       "</style>\n",
       "<table border=\"1\" class=\"dataframe\">\n",
       "  <thead>\n",
       "    <tr style=\"text-align: right;\">\n",
       "      <th></th>\n",
       "      <th>SPY_close</th>\n",
       "      <th>SPY_volume</th>\n",
       "      <th>TLT_close</th>\n",
       "      <th>TLT_volume</th>\n",
       "    </tr>\n",
       "    <tr>\n",
       "      <th>Date</th>\n",
       "      <th></th>\n",
       "      <th></th>\n",
       "      <th></th>\n",
       "      <th></th>\n",
       "    </tr>\n",
       "  </thead>\n",
       "  <tbody>\n",
       "    <tr>\n",
       "      <th>2019-06-26</th>\n",
       "      <td>268.471191</td>\n",
       "      <td>51584900</td>\n",
       "      <td>117.450500</td>\n",
       "      <td>12766800</td>\n",
       "    </tr>\n",
       "    <tr>\n",
       "      <th>2019-06-27</th>\n",
       "      <td>269.423187</td>\n",
       "      <td>40355200</td>\n",
       "      <td>118.278198</td>\n",
       "      <td>9724200</td>\n",
       "    </tr>\n",
       "    <tr>\n",
       "      <th>2019-06-28</th>\n",
       "      <td>270.809479</td>\n",
       "      <td>59350900</td>\n",
       "      <td>118.198143</td>\n",
       "      <td>8149200</td>\n",
       "    </tr>\n",
       "    <tr>\n",
       "      <th>2019-07-01</th>\n",
       "      <td>273.268097</td>\n",
       "      <td>78705600</td>\n",
       "      <td>117.921677</td>\n",
       "      <td>14131200</td>\n",
       "    </tr>\n",
       "    <tr>\n",
       "      <th>2019-07-02</th>\n",
       "      <td>273.979736</td>\n",
       "      <td>61504500</td>\n",
       "      <td>118.831161</td>\n",
       "      <td>10494300</td>\n",
       "    </tr>\n",
       "  </tbody>\n",
       "</table>\n",
       "</div>"
      ],
      "text/plain": [
       "             SPY_close  SPY_volume   TLT_close  TLT_volume\n",
       "Date                                                      \n",
       "2019-06-26  268.471191    51584900  117.450500    12766800\n",
       "2019-06-27  269.423187    40355200  118.278198     9724200\n",
       "2019-06-28  270.809479    59350900  118.198143     8149200\n",
       "2019-07-01  273.268097    78705600  117.921677    14131200\n",
       "2019-07-02  273.979736    61504500  118.831161    10494300"
      ]
     },
     "execution_count": 10,
     "metadata": {},
     "output_type": "execute_result"
    }
   ],
   "source": [
    "train_df.head() "
   ]
  },
  {
   "cell_type": "code",
   "execution_count": 11,
   "metadata": {},
   "outputs": [],
   "source": [
    "train_df['future'] = train_df['SPY_close'].pct_change()"
   ]
  },
  {
   "cell_type": "code",
   "execution_count": 12,
   "metadata": {},
   "outputs": [],
   "source": [
    "for k in range(future_period):\n",
    "    if k==0:\n",
    "        temp_series = train_df['future'].shift(-1)\n",
    "    else:\n",
    "        temp_series+=train_df['future'].shift(-k-1) \n",
    "\n",
    "train_df['future'] = temp_series/future_period "
   ]
  },
  {
   "cell_type": "code",
   "execution_count": 13,
   "metadata": {},
   "outputs": [],
   "source": [
    "train_df['target'] = list(map(classify_return, train_df['future'])) \n",
    "train_df['SPY_true_return'] = train_df['SPY_close'].pct_change().shift(-1)  "
   ]
  },
  {
   "cell_type": "code",
   "execution_count": 14,
   "metadata": {},
   "outputs": [
    {
     "data": {
      "text/html": [
       "<div>\n",
       "<style scoped>\n",
       "    .dataframe tbody tr th:only-of-type {\n",
       "        vertical-align: middle;\n",
       "    }\n",
       "\n",
       "    .dataframe tbody tr th {\n",
       "        vertical-align: top;\n",
       "    }\n",
       "\n",
       "    .dataframe thead th {\n",
       "        text-align: right;\n",
       "    }\n",
       "</style>\n",
       "<table border=\"1\" class=\"dataframe\">\n",
       "  <thead>\n",
       "    <tr style=\"text-align: right;\">\n",
       "      <th></th>\n",
       "      <th>SPY_close</th>\n",
       "      <th>SPY_volume</th>\n",
       "      <th>TLT_close</th>\n",
       "      <th>TLT_volume</th>\n",
       "      <th>target</th>\n",
       "      <th>SPY_true_return</th>\n",
       "    </tr>\n",
       "    <tr>\n",
       "      <th>Date</th>\n",
       "      <th></th>\n",
       "      <th></th>\n",
       "      <th></th>\n",
       "      <th></th>\n",
       "      <th></th>\n",
       "      <th></th>\n",
       "    </tr>\n",
       "  </thead>\n",
       "  <tbody>\n",
       "    <tr>\n",
       "      <th>2019-06-26</th>\n",
       "      <td>268.471191</td>\n",
       "      <td>51584900</td>\n",
       "      <td>117.450500</td>\n",
       "      <td>12766800</td>\n",
       "      <td>1.0</td>\n",
       "      <td>0.003546</td>\n",
       "    </tr>\n",
       "    <tr>\n",
       "      <th>2019-06-27</th>\n",
       "      <td>269.423187</td>\n",
       "      <td>40355200</td>\n",
       "      <td>118.278198</td>\n",
       "      <td>9724200</td>\n",
       "      <td>1.0</td>\n",
       "      <td>0.005145</td>\n",
       "    </tr>\n",
       "    <tr>\n",
       "      <th>2019-06-28</th>\n",
       "      <td>270.809479</td>\n",
       "      <td>59350900</td>\n",
       "      <td>118.198143</td>\n",
       "      <td>8149200</td>\n",
       "      <td>1.0</td>\n",
       "      <td>0.009079</td>\n",
       "    </tr>\n",
       "    <tr>\n",
       "      <th>2019-07-01</th>\n",
       "      <td>273.268097</td>\n",
       "      <td>78705600</td>\n",
       "      <td>117.921677</td>\n",
       "      <td>14131200</td>\n",
       "      <td>1.0</td>\n",
       "      <td>0.002604</td>\n",
       "    </tr>\n",
       "    <tr>\n",
       "      <th>2019-07-02</th>\n",
       "      <td>273.979736</td>\n",
       "      <td>61504500</td>\n",
       "      <td>118.831161</td>\n",
       "      <td>10494300</td>\n",
       "      <td>1.0</td>\n",
       "      <td>0.007995</td>\n",
       "    </tr>\n",
       "  </tbody>\n",
       "</table>\n",
       "</div>"
      ],
      "text/plain": [
       "             SPY_close  SPY_volume   TLT_close  TLT_volume  target  \\\n",
       "Date                                                                 \n",
       "2019-06-26  268.471191    51584900  117.450500    12766800     1.0   \n",
       "2019-06-27  269.423187    40355200  118.278198     9724200     1.0   \n",
       "2019-06-28  270.809479    59350900  118.198143     8149200     1.0   \n",
       "2019-07-01  273.268097    78705600  117.921677    14131200     1.0   \n",
       "2019-07-02  273.979736    61504500  118.831161    10494300     1.0   \n",
       "\n",
       "            SPY_true_return  \n",
       "Date                         \n",
       "2019-06-26         0.003546  \n",
       "2019-06-27         0.005145  \n",
       "2019-06-28         0.009079  \n",
       "2019-07-01         0.002604  \n",
       "2019-07-02         0.007995  "
      ]
     },
     "execution_count": 14,
     "metadata": {},
     "output_type": "execute_result"
    }
   ],
   "source": [
    "train_df = train_df.drop(['future'],axis=1) \n",
    "train_df.head()"
   ]
  },
  {
   "cell_type": "code",
   "execution_count": 15,
   "metadata": {},
   "outputs": [
    {
     "name": "stdout",
     "output_type": "stream",
     "text": [
      "Before dropping NaN values :  (1258, 6)\n",
      "After dropping NaN values :  (1257, 6)\n"
     ]
    }
   ],
   "source": [
    "print('Before dropping NaN values : ',train_df.shape) \n",
    "train_df = train_df.dropna()\n",
    "print('After dropping NaN values : ',train_df.shape)  "
   ]
  },
  {
   "cell_type": "markdown",
   "metadata": {},
   "source": [
    "#### Selecting last 10% as validation dataset\n",
    "Here, last_valdata is the index of boundary that seperates 90% and 10% data"
   ]
  },
  {
   "cell_type": "code",
   "execution_count": 16,
   "metadata": {},
   "outputs": [],
   "source": [
    "last_valdata = sorted(train_df.index.values)[-int(0.10*len(train_df.index.values))]\n",
    "\n",
    "validation_df = train_df[(train_df.index >= last_valdata)]\n",
    "train_df =  train_df[(train_df.index < last_valdata)] "
   ]
  },
  {
   "cell_type": "code",
   "execution_count": 17,
   "metadata": {},
   "outputs": [],
   "source": [
    "for ticker in tickers:\n",
    "    train_df[f'{ticker}_close'] = train_df[f'{ticker}_close'].pct_change()\n",
    "    validation_df[f'{ticker}_close'] = validation_df[f'{ticker}_close'].pct_change()\n",
    "    train_df[f'{ticker}_volume'] = train_df[f\"{ticker}_volume\"].pct_change()\n",
    "    validation_df[f\"{ticker}_volume\"]=validation_df[f\"{ticker}_volume\"].pct_change() "
   ]
  },
  {
   "cell_type": "code",
   "execution_count": 18,
   "metadata": {},
   "outputs": [],
   "source": [
    "train_df.dropna(inplace=True)\n",
    "validation_df.dropna(inplace=True) "
   ]
  },
  {
   "cell_type": "code",
   "execution_count": 19,
   "metadata": {},
   "outputs": [
    {
     "name": "stdout",
     "output_type": "stream",
     "text": [
      "Shape and Null values in train_df :  (1131, 6) 0\n",
      "Shape and Null values in validation_df :  (124, 6) 0\n"
     ]
    }
   ],
   "source": [
    "print('Shape and Null values in train_df : ',train_df.shape, train_df.isna().sum().sum()) \n",
    "print('Shape and Null values in validation_df : ',validation_df.shape, validation_df.isna().sum().sum())  "
   ]
  },
  {
   "cell_type": "code",
   "execution_count": 20,
   "metadata": {},
   "outputs": [
    {
     "data": {
      "text/plain": [
       "['SPY_close', 'SPY_volume', 'TLT_close', 'TLT_volume']"
      ]
     },
     "execution_count": 20,
     "metadata": {},
     "output_type": "execute_result"
    }
   ],
   "source": [
    "col_names = []\n",
    "for ticker in tickers:\n",
    "    col_names.append(f'{ticker}_close')\n",
    "    col_names.append(f'{ticker}_volume') \n",
    "col_names     "
   ]
  },
  {
   "cell_type": "code",
   "execution_count": 21,
   "metadata": {},
   "outputs": [],
   "source": [
    "scaler = StandardScaler()\n",
    "train_df[col_names] = scaler.fit_transform(train_df[col_names])\n",
    "validation_df[col_names] = scaler.fit_transform(validation_df[col_names]) "
   ]
  },
  {
   "cell_type": "code",
   "execution_count": 22,
   "metadata": {},
   "outputs": [],
   "source": [
    "train_x = []\n",
    "hist_days = deque(maxlen=len(train_df)) \n",
    "for i in train_df.values:  \n",
    "    hist_days.append([n for n in i[:-2]])\n",
    "    if len(hist_days) == len(train_df):  \n",
    "        train_x.append(np.array(hist_days))        "
   ]
  },
  {
   "cell_type": "code",
   "execution_count": 23,
   "metadata": {},
   "outputs": [
    {
     "name": "stdout",
     "output_type": "stream",
     "text": [
      "<class 'list'>\n"
     ]
    }
   ],
   "source": [
    "train_y = []\n",
    "hist_days = deque(maxlen=len(train_df)) \n",
    "for i in train_df.values:  \n",
    "    hist_days.append([n for n in i[-2:-1]]) \n",
    "    if len(hist_days) == len(train_df):  \n",
    "        train_y.append(np.array(hist_days))   \n",
    "print(type(train_y))         "
   ]
  },
  {
   "cell_type": "code",
   "execution_count": 24,
   "metadata": {},
   "outputs": [
    {
     "name": "stdout",
     "output_type": "stream",
     "text": [
      "<class 'list'>\n"
     ]
    }
   ],
   "source": [
    "validation_x = []\n",
    "hist_days = deque(maxlen=len(validation_df)) \n",
    "for i in validation_df.values:  \n",
    "    hist_days.append([n for n in i[:-2]]) \n",
    "    if len(hist_days) == len(validation_df):  \n",
    "        validation_x.append(np.array(hist_days))\n",
    "print(type(validation_x))            "
   ]
  },
  {
   "cell_type": "code",
   "execution_count": 25,
   "metadata": {},
   "outputs": [
    {
     "name": "stdout",
     "output_type": "stream",
     "text": [
      "<class 'list'>\n"
     ]
    }
   ],
   "source": [
    "validation_y = []\n",
    "hist_days = deque(maxlen=len(validation_df)) \n",
    "for i in validation_df.values:  \n",
    "    hist_days.append([n for n in i[-2:-1]]) \n",
    "    if len(hist_days) == len(validation_df):  \n",
    "        validation_y.append(np.array(hist_days))\n",
    "print(type(validation_y))            "
   ]
  },
  {
   "cell_type": "code",
   "execution_count": 26,
   "metadata": {},
   "outputs": [],
   "source": [
    "val_y_true=[] \n",
    "hist_days = deque(maxlen=len(validation_df)) \n",
    "for i in validation_df.values:  \n",
    "    hist_days.append([n for n in i[-1:]]) \n",
    "    if len(hist_days) == len(validation_df):  \n",
    "        val_y_true.append(np.array(hist_days))             "
   ]
  },
  {
   "cell_type": "code",
   "execution_count": 27,
   "metadata": {},
   "outputs": [],
   "source": [
    "val_y_true_data = np.array(val_y_true) # Only to get the size for for loop "
   ]
  },
  {
   "cell_type": "code",
   "execution_count": 28,
   "metadata": {},
   "outputs": [
    {
     "name": "stderr",
     "output_type": "stream",
     "text": [
      "c:\\Users\\vidya\\.conda\\envs\\pyten\\lib\\site-packages\\keras\\src\\layers\\rnn\\rnn.py:204: UserWarning: Do not pass an `input_shape`/`input_dim` argument to a layer. When using Sequential models, prefer using an `Input(shape)` object as the first layer in the model instead.\n",
      "  super().__init__(**kwargs)\n"
     ]
    },
    {
     "name": "stdout",
     "output_type": "stream",
     "text": [
      "Epoch 1/50\n",
      "\u001b[1m9/9\u001b[0m \u001b[32m━━━━━━━━━━━━━━━━━━━━\u001b[0m\u001b[37m\u001b[0m \u001b[1m6s\u001b[0m 87ms/step - f1score: 0.5561 - loss: 0.7800 - precision: 0.5920 - recall: 0.5283 - val_f1score: 0.7600 - val_loss: 0.6866 - val_precision: 0.6129 - val_recall: 1.0000\n",
      "Epoch 2/50\n",
      "\u001b[1m9/9\u001b[0m \u001b[32m━━━━━━━━━━━━━━━━━━━━\u001b[0m\u001b[37m\u001b[0m \u001b[1m0s\u001b[0m 35ms/step - f1score: 0.6360 - loss: 0.7423 - precision: 0.5759 - recall: 0.7161 - val_f1score: 0.7600 - val_loss: 0.6853 - val_precision: 0.6129 - val_recall: 1.0000\n",
      "Epoch 3/50\n",
      "\u001b[1m9/9\u001b[0m \u001b[32m━━━━━━━━━━━━━━━━━━━━\u001b[0m\u001b[37m\u001b[0m \u001b[1m0s\u001b[0m 12ms/step - f1score: 0.6975 - loss: 0.6921 - precision: 0.6114 - recall: 0.8158 - val_f1score: 0.7600 - val_loss: 0.6848 - val_precision: 0.6129 - val_recall: 1.0000\n",
      "Epoch 4/50\n",
      "\u001b[1m9/9\u001b[0m \u001b[32m━━━━━━━━━━━━━━━━━━━━\u001b[0m\u001b[37m\u001b[0m \u001b[1m0s\u001b[0m 12ms/step - f1score: 0.6688 - loss: 0.7226 - precision: 0.5708 - recall: 0.8104 - val_f1score: 0.7600 - val_loss: 0.6849 - val_precision: 0.6129 - val_recall: 1.0000\n",
      "Epoch 5/50\n",
      "\u001b[1m9/9\u001b[0m \u001b[32m━━━━━━━━━━━━━━━━━━━━\u001b[0m\u001b[37m\u001b[0m \u001b[1m0s\u001b[0m 12ms/step - f1score: 0.7008 - loss: 0.6806 - precision: 0.6086 - recall: 0.8281 - val_f1score: 0.7600 - val_loss: 0.6848 - val_precision: 0.6129 - val_recall: 1.0000\n",
      "Epoch 6/50\n",
      "\u001b[1m9/9\u001b[0m \u001b[32m━━━━━━━━━━━━━━━━━━━━\u001b[0m\u001b[37m\u001b[0m \u001b[1m0s\u001b[0m 12ms/step - f1score: 0.6960 - loss: 0.6976 - precision: 0.6049 - recall: 0.8215 - val_f1score: 0.7600 - val_loss: 0.6848 - val_precision: 0.6129 - val_recall: 1.0000\n",
      "Epoch 7/50\n",
      "\u001b[1m9/9\u001b[0m \u001b[32m━━━━━━━━━━━━━━━━━━━━\u001b[0m\u001b[37m\u001b[0m \u001b[1m0s\u001b[0m 12ms/step - f1score: 0.7040 - loss: 0.6987 - precision: 0.5992 - recall: 0.8587 - val_f1score: 0.7600 - val_loss: 0.6855 - val_precision: 0.6129 - val_recall: 1.0000\n",
      "Epoch 8/50\n",
      "\u001b[1m9/9\u001b[0m \u001b[32m━━━━━━━━━━━━━━━━━━━━\u001b[0m\u001b[37m\u001b[0m \u001b[1m0s\u001b[0m 12ms/step - f1score: 0.6913 - loss: 0.6927 - precision: 0.5976 - recall: 0.8211 - val_f1score: 0.7600 - val_loss: 0.6855 - val_precision: 0.6129 - val_recall: 1.0000\n",
      "Epoch 9/50\n",
      "\u001b[1m9/9\u001b[0m \u001b[32m━━━━━━━━━━━━━━━━━━━━\u001b[0m\u001b[37m\u001b[0m \u001b[1m0s\u001b[0m 12ms/step - f1score: 0.6846 - loss: 0.6926 - precision: 0.6026 - recall: 0.7939 - val_f1score: 0.7600 - val_loss: 0.6846 - val_precision: 0.6129 - val_recall: 1.0000\n",
      "Epoch 10/50\n",
      "\u001b[1m9/9\u001b[0m \u001b[32m━━━━━━━━━━━━━━━━━━━━\u001b[0m\u001b[37m\u001b[0m \u001b[1m0s\u001b[0m 12ms/step - f1score: 0.6815 - loss: 0.6975 - precision: 0.5923 - recall: 0.8045 - val_f1score: 0.7600 - val_loss: 0.6835 - val_precision: 0.6129 - val_recall: 1.0000\n",
      "Epoch 11/50\n",
      "\u001b[1m9/9\u001b[0m \u001b[32m━━━━━━━━━━━━━━━━━━━━\u001b[0m\u001b[37m\u001b[0m \u001b[1m0s\u001b[0m 12ms/step - f1score: 0.6665 - loss: 0.7113 - precision: 0.5832 - recall: 0.7797 - val_f1score: 0.7600 - val_loss: 0.6825 - val_precision: 0.6129 - val_recall: 1.0000\n",
      "Epoch 12/50\n",
      "\u001b[1m9/9\u001b[0m \u001b[32m━━━━━━━━━━━━━━━━━━━━\u001b[0m\u001b[37m\u001b[0m \u001b[1m0s\u001b[0m 13ms/step - f1score: 0.6941 - loss: 0.6882 - precision: 0.5994 - recall: 0.8252 - val_f1score: 0.7600 - val_loss: 0.6813 - val_precision: 0.6129 - val_recall: 1.0000\n",
      "Epoch 13/50\n",
      "\u001b[1m9/9\u001b[0m \u001b[32m━━━━━━━━━━━━━━━━━━━━\u001b[0m\u001b[37m\u001b[0m \u001b[1m0s\u001b[0m 12ms/step - f1score: 0.7095 - loss: 0.6756 - precision: 0.6140 - recall: 0.8432 - val_f1score: 0.7600 - val_loss: 0.6802 - val_precision: 0.6129 - val_recall: 1.0000\n",
      "Epoch 14/50\n",
      "\u001b[1m9/9\u001b[0m \u001b[32m━━━━━━━━━━━━━━━━━━━━\u001b[0m\u001b[37m\u001b[0m \u001b[1m0s\u001b[0m 12ms/step - f1score: 0.6840 - loss: 0.6961 - precision: 0.5930 - recall: 0.8109 - val_f1score: 0.7600 - val_loss: 0.6790 - val_precision: 0.6129 - val_recall: 1.0000\n",
      "Epoch 15/50\n",
      "\u001b[1m9/9\u001b[0m \u001b[32m━━━━━━━━━━━━━━━━━━━━\u001b[0m\u001b[37m\u001b[0m \u001b[1m0s\u001b[0m 12ms/step - f1score: 0.6852 - loss: 0.6862 - precision: 0.5934 - recall: 0.8128 - val_f1score: 0.7600 - val_loss: 0.6783 - val_precision: 0.6129 - val_recall: 1.0000\n",
      "Epoch 16/50\n",
      "\u001b[1m9/9\u001b[0m \u001b[32m━━━━━━━━━━━━━━━━━━━━\u001b[0m\u001b[37m\u001b[0m \u001b[1m0s\u001b[0m 13ms/step - f1score: 0.6614 - loss: 0.7075 - precision: 0.5647 - recall: 0.8036 - val_f1score: 0.7600 - val_loss: 0.6776 - val_precision: 0.6129 - val_recall: 1.0000\n",
      "Epoch 17/50\n",
      "\u001b[1m9/9\u001b[0m \u001b[32m━━━━━━━━━━━━━━━━━━━━\u001b[0m\u001b[37m\u001b[0m \u001b[1m0s\u001b[0m 12ms/step - f1score: 0.6845 - loss: 0.6900 - precision: 0.5926 - recall: 0.8112 - val_f1score: 0.7600 - val_loss: 0.6761 - val_precision: 0.6129 - val_recall: 1.0000\n",
      "Epoch 18/50\n",
      "\u001b[1m9/9\u001b[0m \u001b[32m━━━━━━━━━━━━━━━━━━━━\u001b[0m\u001b[37m\u001b[0m \u001b[1m0s\u001b[0m 12ms/step - f1score: 0.6658 - loss: 0.6989 - precision: 0.5724 - recall: 0.8019 - val_f1score: 0.7600 - val_loss: 0.6760 - val_precision: 0.6129 - val_recall: 1.0000\n",
      "Epoch 19/50\n",
      "\u001b[1m9/9\u001b[0m \u001b[32m━━━━━━━━━━━━━━━━━━━━\u001b[0m\u001b[37m\u001b[0m \u001b[1m0s\u001b[0m 12ms/step - f1score: 0.6774 - loss: 0.6950 - precision: 0.5796 - recall: 0.8170 - val_f1score: 0.7600 - val_loss: 0.6754 - val_precision: 0.6129 - val_recall: 1.0000\n",
      "Epoch 20/50\n",
      "\u001b[1m9/9\u001b[0m \u001b[32m━━━━━━━━━━━━━━━━━━━━\u001b[0m\u001b[37m\u001b[0m \u001b[1m0s\u001b[0m 12ms/step - f1score: 0.6874 - loss: 0.6825 - precision: 0.5857 - recall: 0.8347 - val_f1score: 0.7600 - val_loss: 0.6752 - val_precision: 0.6129 - val_recall: 1.0000\n",
      "Epoch 21/50\n",
      "\u001b[1m9/9\u001b[0m \u001b[32m━━━━━━━━━━━━━━━━━━━━\u001b[0m\u001b[37m\u001b[0m \u001b[1m0s\u001b[0m 12ms/step - f1score: 0.7071 - loss: 0.6748 - precision: 0.6011 - recall: 0.8610 - val_f1score: 0.7600 - val_loss: 0.6753 - val_precision: 0.6129 - val_recall: 1.0000\n",
      "Epoch 22/50\n",
      "\u001b[1m9/9\u001b[0m \u001b[32m━━━━━━━━━━━━━━━━━━━━\u001b[0m\u001b[37m\u001b[0m \u001b[1m0s\u001b[0m 12ms/step - f1score: 0.6945 - loss: 0.6900 - precision: 0.5832 - recall: 0.8633 - val_f1score: 0.7600 - val_loss: 0.6756 - val_precision: 0.6129 - val_recall: 1.0000\n",
      "Epoch 23/50\n",
      "\u001b[1m9/9\u001b[0m \u001b[32m━━━━━━━━━━━━━━━━━━━━\u001b[0m\u001b[37m\u001b[0m \u001b[1m0s\u001b[0m 12ms/step - f1score: 0.7050 - loss: 0.6838 - precision: 0.6032 - recall: 0.8500 - val_f1score: 0.7600 - val_loss: 0.6751 - val_precision: 0.6129 - val_recall: 1.0000\n",
      "Epoch 24/50\n",
      "\u001b[1m9/9\u001b[0m \u001b[32m━━━━━━━━━━━━━━━━━━━━\u001b[0m\u001b[37m\u001b[0m \u001b[1m0s\u001b[0m 12ms/step - f1score: 0.6723 - loss: 0.7020 - precision: 0.5683 - recall: 0.8249 - val_f1score: 0.7600 - val_loss: 0.6751 - val_precision: 0.6129 - val_recall: 1.0000\n",
      "Epoch 25/50\n",
      "\u001b[1m9/9\u001b[0m \u001b[32m━━━━━━━━━━━━━━━━━━━━\u001b[0m\u001b[37m\u001b[0m \u001b[1m0s\u001b[0m 11ms/step - f1score: 0.7111 - loss: 0.6814 - precision: 0.6192 - recall: 0.8376 - val_f1score: 0.7600 - val_loss: 0.6740 - val_precision: 0.6129 - val_recall: 1.0000\n",
      "Epoch 26/50\n",
      "\u001b[1m9/9\u001b[0m \u001b[32m━━━━━━━━━━━━━━━━━━━━\u001b[0m\u001b[37m\u001b[0m \u001b[1m0s\u001b[0m 12ms/step - f1score: 0.7030 - loss: 0.6803 - precision: 0.6055 - recall: 0.8398 - val_f1score: 0.7600 - val_loss: 0.6736 - val_precision: 0.6129 - val_recall: 1.0000\n",
      "Epoch 27/50\n",
      "\u001b[1m9/9\u001b[0m \u001b[32m━━━━━━━━━━━━━━━━━━━━\u001b[0m\u001b[37m\u001b[0m \u001b[1m0s\u001b[0m 12ms/step - f1score: 0.6968 - loss: 0.6870 - precision: 0.5931 - recall: 0.8514 - val_f1score: 0.7600 - val_loss: 0.6732 - val_precision: 0.6129 - val_recall: 1.0000\n",
      "Epoch 28/50\n",
      "\u001b[1m9/9\u001b[0m \u001b[32m━━━━━━━━━━━━━━━━━━━━\u001b[0m\u001b[37m\u001b[0m \u001b[1m0s\u001b[0m 12ms/step - f1score: 0.7067 - loss: 0.6818 - precision: 0.5940 - recall: 0.8749 - val_f1score: 0.7600 - val_loss: 0.6730 - val_precision: 0.6129 - val_recall: 1.0000\n",
      "Epoch 29/50\n",
      "\u001b[1m9/9\u001b[0m \u001b[32m━━━━━━━━━━━━━━━━━━━━\u001b[0m\u001b[37m\u001b[0m \u001b[1m0s\u001b[0m 12ms/step - f1score: 0.6953 - loss: 0.6946 - precision: 0.5967 - recall: 0.8349 - val_f1score: 0.7600 - val_loss: 0.6721 - val_precision: 0.6129 - val_recall: 1.0000\n",
      "Epoch 30/50\n",
      "\u001b[1m9/9\u001b[0m \u001b[32m━━━━━━━━━━━━━━━━━━━━\u001b[0m\u001b[37m\u001b[0m \u001b[1m0s\u001b[0m 12ms/step - f1score: 0.7104 - loss: 0.6814 - precision: 0.5979 - recall: 0.8771 - val_f1score: 0.7600 - val_loss: 0.6719 - val_precision: 0.6129 - val_recall: 1.0000\n",
      "Epoch 31/50\n",
      "\u001b[1m9/9\u001b[0m \u001b[32m━━━━━━━━━━━━━━━━━━━━\u001b[0m\u001b[37m\u001b[0m \u001b[1m0s\u001b[0m 12ms/step - f1score: 0.7055 - loss: 0.6795 - precision: 0.6068 - recall: 0.8455 - val_f1score: 0.7600 - val_loss: 0.6717 - val_precision: 0.6129 - val_recall: 1.0000\n",
      "Epoch 32/50\n",
      "\u001b[1m9/9\u001b[0m \u001b[32m━━━━━━━━━━━━━━━━━━━━\u001b[0m\u001b[37m\u001b[0m \u001b[1m0s\u001b[0m 12ms/step - f1score: 0.7051 - loss: 0.6886 - precision: 0.5969 - recall: 0.8624 - val_f1score: 0.7600 - val_loss: 0.6718 - val_precision: 0.6129 - val_recall: 1.0000\n",
      "Epoch 33/50\n",
      "\u001b[1m9/9\u001b[0m \u001b[32m━━━━━━━━━━━━━━━━━━━━\u001b[0m\u001b[37m\u001b[0m \u001b[1m0s\u001b[0m 12ms/step - f1score: 0.7158 - loss: 0.6708 - precision: 0.6060 - recall: 0.8750 - val_f1score: 0.7600 - val_loss: 0.6716 - val_precision: 0.6129 - val_recall: 1.0000\n",
      "Epoch 34/50\n",
      "\u001b[1m9/9\u001b[0m \u001b[32m━━━━━━━━━━━━━━━━━━━━\u001b[0m\u001b[37m\u001b[0m \u001b[1m0s\u001b[0m 12ms/step - f1score: 0.7207 - loss: 0.6757 - precision: 0.6165 - recall: 0.8713 - val_f1score: 0.7600 - val_loss: 0.6714 - val_precision: 0.6129 - val_recall: 1.0000\n",
      "Epoch 35/50\n",
      "\u001b[1m9/9\u001b[0m \u001b[32m━━━━━━━━━━━━━━━━━━━━\u001b[0m\u001b[37m\u001b[0m \u001b[1m0s\u001b[0m 12ms/step - f1score: 0.7254 - loss: 0.6689 - precision: 0.6176 - recall: 0.8804 - val_f1score: 0.7600 - val_loss: 0.6716 - val_precision: 0.6129 - val_recall: 1.0000\n",
      "Epoch 36/50\n",
      "\u001b[1m9/9\u001b[0m \u001b[32m━━━━━━━━━━━━━━━━━━━━\u001b[0m\u001b[37m\u001b[0m \u001b[1m0s\u001b[0m 11ms/step - f1score: 0.7142 - loss: 0.6690 - precision: 0.6174 - recall: 0.8528 - val_f1score: 0.7600 - val_loss: 0.6714 - val_precision: 0.6129 - val_recall: 1.0000\n",
      "Epoch 37/50\n",
      "\u001b[1m9/9\u001b[0m \u001b[32m━━━━━━━━━━━━━━━━━━━━\u001b[0m\u001b[37m\u001b[0m \u001b[1m0s\u001b[0m 12ms/step - f1score: 0.7009 - loss: 0.6926 - precision: 0.5823 - recall: 0.8838 - val_f1score: 0.7600 - val_loss: 0.6716 - val_precision: 0.6129 - val_recall: 1.0000\n",
      "Epoch 38/50\n",
      "\u001b[1m9/9\u001b[0m \u001b[32m━━━━━━━━━━━━━━━━━━━━\u001b[0m\u001b[37m\u001b[0m \u001b[1m0s\u001b[0m 12ms/step - f1score: 0.7127 - loss: 0.6741 - precision: 0.5955 - recall: 0.8898 - val_f1score: 0.7600 - val_loss: 0.6720 - val_precision: 0.6129 - val_recall: 1.0000\n",
      "Epoch 39/50\n",
      "\u001b[1m9/9\u001b[0m \u001b[32m━━━━━━━━━━━━━━━━━━━━\u001b[0m\u001b[37m\u001b[0m \u001b[1m0s\u001b[0m 16ms/step - f1score: 0.7108 - loss: 0.6795 - precision: 0.6021 - recall: 0.8692 - val_f1score: 0.7600 - val_loss: 0.6716 - val_precision: 0.6129 - val_recall: 1.0000\n",
      "Epoch 40/50\n",
      "\u001b[1m9/9\u001b[0m \u001b[32m━━━━━━━━━━━━━━━━━━━━\u001b[0m\u001b[37m\u001b[0m \u001b[1m0s\u001b[0m 12ms/step - f1score: 0.7072 - loss: 0.6828 - precision: 0.5899 - recall: 0.8853 - val_f1score: 0.7600 - val_loss: 0.6715 - val_precision: 0.6129 - val_recall: 1.0000\n",
      "Epoch 41/50\n",
      "\u001b[1m9/9\u001b[0m \u001b[32m━━━━━━━━━━━━━━━━━━━━\u001b[0m\u001b[37m\u001b[0m \u001b[1m0s\u001b[0m 12ms/step - f1score: 0.7078 - loss: 0.6770 - precision: 0.5877 - recall: 0.8942 - val_f1score: 0.7600 - val_loss: 0.6706 - val_precision: 0.6129 - val_recall: 1.0000\n",
      "Epoch 42/50\n",
      "\u001b[1m9/9\u001b[0m \u001b[32m━━━━━━━━━━━━━━━━━━━━\u001b[0m\u001b[37m\u001b[0m \u001b[1m0s\u001b[0m 12ms/step - f1score: 0.7171 - loss: 0.6746 - precision: 0.5947 - recall: 0.9049 - val_f1score: 0.7600 - val_loss: 0.6705 - val_precision: 0.6129 - val_recall: 1.0000\n",
      "Epoch 43/50\n",
      "\u001b[1m9/9\u001b[0m \u001b[32m━━━━━━━━━━━━━━━━━━━━\u001b[0m\u001b[37m\u001b[0m \u001b[1m0s\u001b[0m 12ms/step - f1score: 0.7193 - loss: 0.6705 - precision: 0.6005 - recall: 0.9013 - val_f1score: 0.7600 - val_loss: 0.6707 - val_precision: 0.6129 - val_recall: 1.0000\n",
      "Epoch 44/50\n",
      "\u001b[1m9/9\u001b[0m \u001b[32m━━━━━━━━━━━━━━━━━━━━\u001b[0m\u001b[37m\u001b[0m \u001b[1m0s\u001b[0m 12ms/step - f1score: 0.7282 - loss: 0.6687 - precision: 0.6130 - recall: 0.8981 - val_f1score: 0.7600 - val_loss: 0.6707 - val_precision: 0.6129 - val_recall: 1.0000\n",
      "Epoch 45/50\n",
      "\u001b[1m9/9\u001b[0m \u001b[32m━━━━━━━━━━━━━━━━━━━━\u001b[0m\u001b[37m\u001b[0m \u001b[1m0s\u001b[0m 12ms/step - f1score: 0.7269 - loss: 0.6709 - precision: 0.6051 - recall: 0.9140 - val_f1score: 0.7600 - val_loss: 0.6713 - val_precision: 0.6129 - val_recall: 1.0000\n",
      "Epoch 46/50\n",
      "\u001b[1m9/9\u001b[0m \u001b[32m━━━━━━━━━━━━━━━━━━━━\u001b[0m\u001b[37m\u001b[0m \u001b[1m0s\u001b[0m 12ms/step - f1score: 0.7026 - loss: 0.6875 - precision: 0.5784 - recall: 0.8967 - val_f1score: 0.7600 - val_loss: 0.6729 - val_precision: 0.6129 - val_recall: 1.0000\n",
      "Epoch 47/50\n",
      "\u001b[1m9/9\u001b[0m \u001b[32m━━━━━━━━━━━━━━━━━━━━\u001b[0m\u001b[37m\u001b[0m \u001b[1m0s\u001b[0m 12ms/step - f1score: 0.7191 - loss: 0.6699 - precision: 0.6153 - recall: 0.8680 - val_f1score: 0.7638 - val_loss: 0.6734 - val_precision: 0.6179 - val_recall: 1.0000\n",
      "Epoch 48/50\n",
      "\u001b[1m9/9\u001b[0m \u001b[32m━━━━━━━━━━━━━━━━━━━━\u001b[0m\u001b[37m\u001b[0m \u001b[1m0s\u001b[0m 12ms/step - f1score: 0.7100 - loss: 0.6724 - precision: 0.5964 - recall: 0.8790 - val_f1score: 0.7638 - val_loss: 0.6747 - val_precision: 0.6179 - val_recall: 1.0000\n",
      "Epoch 49/50\n",
      "\u001b[1m9/9\u001b[0m \u001b[32m━━━━━━━━━━━━━━━━━━━━\u001b[0m\u001b[37m\u001b[0m \u001b[1m0s\u001b[0m 11ms/step - f1score: 0.6972 - loss: 0.6895 - precision: 0.5798 - recall: 0.8777 - val_f1score: 0.7576 - val_loss: 0.6749 - val_precision: 0.6148 - val_recall: 0.9868\n",
      "Epoch 50/50\n",
      "\u001b[1m9/9\u001b[0m \u001b[32m━━━━━━━━━━━━━━━━━━━━\u001b[0m\u001b[37m\u001b[0m \u001b[1m0s\u001b[0m 11ms/step - f1score: 0.7164 - loss: 0.6766 - precision: 0.5988 - recall: 0.8929 - val_f1score: 0.7600 - val_loss: 0.6743 - val_precision: 0.6129 - val_recall: 1.0000\n"
     ]
    },
    {
     "data": {
      "text/plain": [
       "<keras.src.callbacks.history.History at 0x2110fcffca0>"
      ]
     },
     "execution_count": 28,
     "metadata": {},
     "output_type": "execute_result"
    }
   ],
   "source": [
    "# Build base model\n",
    "model = Sequential()\n",
    "model.add(LSTM(32, input_shape=(4,1), return_sequences=True))\n",
    "model.add(Dropout(0.2)) \n",
    "model.add(BatchNormalization())                                                    \n",
    "\n",
    "model.add(LSTM(32))\n",
    "model.add(Dropout(0.2))\n",
    "model.add(BatchNormalization())                                                                                 \n",
    "\n",
    "model.add(Dense(32, activation='relu'))\n",
    "model.add(Dropout(0.2))\n",
    "model.add(Dense(1, activation='sigmoid'))        \n",
    "\n",
    "model.compile(loss='binary_crossentropy', optimizer=tf.keras.optimizers.Adam(),metrics=[precision, recall,f1score]) \n",
    "model.fit(train_x, train_y, batch_size=128, epochs=50, validation_data=(validation_x, validation_y))  "
   ]
  },
  {
   "cell_type": "code",
   "execution_count": 29,
   "metadata": {},
   "outputs": [
    {
     "name": "stdout",
     "output_type": "stream",
     "text": [
      "\u001b[1m4/4\u001b[0m \u001b[32m━━━━━━━━━━━━━━━━━━━━\u001b[0m\u001b[37m\u001b[0m \u001b[1m1s\u001b[0m 129ms/step\n"
     ]
    },
    {
     "name": "stderr",
     "output_type": "stream",
     "text": [
      "C:\\Users\\vidya\\AppData\\Local\\Temp\\ipykernel_10128\\2120555642.py:2: DeprecationWarning: Conversion of an array with ndim > 0 to a scalar is deprecated, and will error in future. Ensure you extract a single element from your array before performing this operation. (Deprecated NumPy 1.25.)\n",
      "  if float(predict)>0.5:\n"
     ]
    }
   ],
   "source": [
    "y_pred_val=list(map(threshold_longshort, model.predict(validation_x)))    "
   ]
  },
  {
   "cell_type": "code",
   "execution_count": 32,
   "metadata": {},
   "outputs": [
    {
     "name": "stdout",
     "output_type": "stream",
     "text": [
      "Shape before flatten:  (1, 124, 1)\n",
      "Shape after flatten:  (124,)\n"
     ]
    }
   ],
   "source": [
    "print('Shape before flatten: ',val_y_true_data.shape )\n",
    "val_y_true_flat = val_y_true_data.flatten()\n",
    "print('Shape after flatten: ',val_y_true_flat.shape) "
   ]
  },
  {
   "cell_type": "code",
   "execution_count": 33,
   "metadata": {},
   "outputs": [
    {
     "name": "stdout",
     "output_type": "stream",
     "text": [
      "0.0003776780418438541\n",
      "-0.002894975370321351\n",
      "-0.005596381574313969\n",
      "-0.008166640372830103\n",
      "-0.0032211369580344984\n",
      "0.0013697381395338937\n",
      "0.014275908664113324\n",
      "-0.001517050838674705\n",
      "0.005655394244438616\n",
      "-0.0004405996640692855\n",
      "0.0006926853037954039\n",
      "-0.0036712550643804853\n",
      "-0.0055586335904656\n",
      "0.00889283322488077\n",
      "0.012466154983796773\n",
      "0.00211431631440151\n",
      "0.00291649570504382\n",
      "0.001093126138066003\n",
      "0.005438909672036862\n",
      "-0.0012704071897948754\n",
      "0.007919333517319327\n",
      "-0.0007734208293256328\n",
      "-0.016317346482071504\n",
      "0.013088239371998656\n",
      "0.010527359231231825\n",
      "-0.0036411682179211535\n",
      "0.002903265751540207\n",
      "0.0083404057853953\n",
      "0.0004417079324061657\n",
      "0.00577941881764521\n",
      "-0.00043897588714769675\n",
      "-0.013773062715358275\n",
      "0.009087663299097493\n",
      "0.0068997692890413465\n",
      "-0.004980002053079358\n",
      "-0.0055053946645677865\n",
      "0.0009057676459622854\n",
      "0.020695519627352388\n",
      "0.0006896848454327476\n",
      "-0.0036625404805514794\n",
      "0.0018577582803256387\n",
      "-0.0013216102695812193\n",
      "0.0035949388773643953\n",
      "0.009388215844884806\n",
      "-0.0010723904258075345\n",
      "-0.00999410475268192\n",
      "0.005067237800432611\n",
      "0.009926375764894635\n",
      "-0.006002160835169801\n",
      "-0.000859842750863038\n",
      "0.010757434126408505\n",
      "-0.0015675892571463956\n",
      "-0.0019767588725587704\n",
      "-0.006866607548413728\n",
      "0.005943111939447521\n",
      "0.005557162722487963\n",
      "0.009249340613439072\n",
      "0.0033046584507845367\n",
      "-0.0018958252913975349\n",
      "-0.002762791169782508\n",
      "-0.0018469635544541285\n",
      "0.008403784842619055\n",
      "-0.00019112709155710839\n",
      "-0.0017397880225977769\n",
      "-0.006358092199431509\n",
      "0.0010985043794424776\n",
      "-0.012206095573704778\n",
      "0.010446936648499605\n",
      "0.0005592535317717751\n",
      "0.0011568365854999207\n",
      "-0.010013113744340663\n",
      "0.007546817003533102\n",
      "-0.013803043162695205\n",
      "-0.012528090665403835\n",
      "-0.0018237916257679565\n",
      "-0.005918239822387705\n",
      "-0.002057766709942843\n",
      "-0.008728376186400322\n",
      "0.009209170761603103\n",
      "0.011866622130099369\n",
      "-0.0004746347706934273\n",
      "-0.0037988812466765998\n",
      "0.009473888780178408\n",
      "0.003541450579169103\n",
      "-0.01584121248274073\n",
      "-0.003247136219803992\n",
      "0.009353385287882432\n",
      "0.012395361528397375\n",
      "0.01032683984952154\n",
      "0.0011034501397360064\n",
      "9.661863205057131e-05\n",
      "0.005761868499591261\n",
      "0.0012881605648649153\n",
      "0.00013425813913525708\n",
      "0.0045881438000814345\n",
      "0.012383082211272045\n",
      "-0.002057557994656456\n",
      "0.0014375387557530317\n",
      "0.0011521272951469097\n",
      "0.0024524708152506847\n",
      "-0.002879299214571085\n",
      "-0.007304208339015461\n",
      "0.006616475843279623\n",
      "0.000698783813150694\n",
      "-0.007002490496091696\n",
      "-0.006633803170985164\n",
      "0.009108242187056081\n",
      "0.0008153128336301219\n",
      "0.0011179086152632856\n",
      "0.011885085041051457\n",
      "-1.866726493537918e-05\n",
      "-0.0012156853762727016\n",
      "0.00308975316718052\n",
      "0.0024083133678880486\n",
      "0.008213044464431274\n",
      "0.002013432687261396\n",
      "0.0006084262406222951\n",
      "0.007958881406575191\n",
      "0.002540722233955295\n",
      "-0.002716587392864289\n",
      "-0.0013406128221511437\n",
      "-0.003250664817000981\n",
      "0.0038508805193555595\n"
     ]
    }
   ],
   "source": [
    "returns = []\n",
    "for i in range(val_y_true_flat.shape[0]): \n",
    "    if i==0:\n",
    "        returns.append(0)\n",
    "    else: \n",
    "        # print(val_y_true_flat[i]*y_pred_val[i-1])\n",
    "        returns.append(val_y_true_flat[i]*y_pred_val[i-1])     "
   ]
  },
  {
   "cell_type": "code",
   "execution_count": 35,
   "metadata": {},
   "outputs": [
    {
     "data": {
      "text/plain": [
       "array([ 0.00000000e+00,  3.77678042e-04, -2.89497537e-03, -5.59638157e-03,\n",
       "       -8.16664037e-03, -3.22113696e-03,  1.36973814e-03,  1.42759087e-02,\n",
       "       -1.51705084e-03,  5.65539424e-03, -4.40599664e-04,  6.92685304e-04,\n",
       "       -3.67125506e-03, -5.55863359e-03,  8.89283322e-03,  1.24661550e-02,\n",
       "        2.11431631e-03,  2.91649571e-03,  1.09312614e-03,  5.43890967e-03,\n",
       "       -1.27040719e-03,  7.91933352e-03, -7.73420829e-04, -1.63173465e-02,\n",
       "        1.30882394e-02,  1.05273592e-02, -3.64116822e-03,  2.90326575e-03,\n",
       "        8.34040579e-03,  4.41707932e-04,  5.77941882e-03, -4.38975887e-04,\n",
       "       -1.37730627e-02,  9.08766330e-03,  6.89976929e-03, -4.98000205e-03,\n",
       "       -5.50539466e-03,  9.05767646e-04,  2.06955196e-02,  6.89684845e-04,\n",
       "       -3.66254048e-03,  1.85775828e-03, -1.32161027e-03,  3.59493888e-03,\n",
       "        9.38821584e-03, -1.07239043e-03, -9.99410475e-03,  5.06723780e-03,\n",
       "        9.92637576e-03, -6.00216084e-03, -8.59842751e-04,  1.07574341e-02,\n",
       "       -1.56758926e-03, -1.97675887e-03, -6.86660755e-03,  5.94311194e-03,\n",
       "        5.55716272e-03,  9.24934061e-03,  3.30465845e-03, -1.89582529e-03,\n",
       "       -2.76279117e-03, -1.84696355e-03,  8.40378484e-03, -1.91127092e-04,\n",
       "       -1.73978802e-03, -6.35809220e-03,  1.09850438e-03, -1.22060956e-02,\n",
       "        1.04469366e-02,  5.59253532e-04,  1.15683659e-03, -1.00131137e-02,\n",
       "        7.54681700e-03, -1.38030432e-02, -1.25280907e-02, -1.82379163e-03,\n",
       "       -5.91823982e-03, -2.05776671e-03, -8.72837619e-03,  9.20917076e-03,\n",
       "        1.18666221e-02, -4.74634771e-04, -3.79888125e-03,  9.47388878e-03,\n",
       "        3.54145058e-03, -1.58412125e-02, -3.24713622e-03,  9.35338529e-03,\n",
       "        1.23953615e-02,  1.03268398e-02,  1.10345014e-03,  9.66186321e-05,\n",
       "        5.76186850e-03,  1.28816056e-03,  1.34258139e-04,  4.58814380e-03,\n",
       "        1.23830822e-02, -2.05755799e-03,  1.43753876e-03,  1.15212730e-03,\n",
       "        2.45247082e-03, -2.87929921e-03, -7.30420834e-03,  6.61647584e-03,\n",
       "        6.98783813e-04, -7.00249050e-03, -6.63380317e-03,  9.10824219e-03,\n",
       "        8.15312834e-04,  1.11790862e-03,  1.18850850e-02, -1.86672649e-05,\n",
       "       -1.21568538e-03,  3.08975317e-03,  2.40831337e-03,  8.21304446e-03,\n",
       "        2.01343269e-03,  6.08426241e-04,  7.95888141e-03,  2.54072223e-03,\n",
       "       -2.71658739e-03, -1.34061282e-03, -3.25066482e-03,  3.85088052e-03])"
      ]
     },
     "execution_count": 35,
     "metadata": {},
     "output_type": "execute_result"
    }
   ],
   "source": [
    "returns_d = np.array(returns)"
   ]
  },
  {
   "cell_type": "code",
   "execution_count": 36,
   "metadata": {},
   "outputs": [],
   "source": [
    "equity_bm=10000*np.cumprod(1+np.array(val_y_true_flat))\n",
    "equity_stgy=10000*np.cumprod(1+np.array(returns_d))  "
   ]
  },
  {
   "cell_type": "code",
   "execution_count": 37,
   "metadata": {},
   "outputs": [],
   "source": [
    "ann_return_stgy = 252*np.array(returns_d).mean()\n",
    "ann_return_bm = 252*np.array(val_y_true_flat).mean() "
   ]
  },
  {
   "cell_type": "code",
   "execution_count": 38,
   "metadata": {},
   "outputs": [],
   "source": [
    "sharpe_ratio_stgy=np.sqrt(252)*np.array(returns_d).mean()/np.array(returns_d).std()\n",
    "sharpe_ratio_bm=np.sqrt(252)*np.array(val_y_true_flat).mean()/np.array(val_y_true_flat).std()"
   ]
  },
  {
   "cell_type": "code",
   "execution_count": 39,
   "metadata": {},
   "outputs": [],
   "source": [
    "win_ratio_bm=len((np.where(np.array(val_y_true_flat)>0))[0]) / len(val_y_true_flat)\n",
    "win_ratio_stgy=len((np.where(np.array(returns_d)>0))[0]) / len(returns_d)"
   ]
  },
  {
   "cell_type": "code",
   "execution_count": 40,
   "metadata": {},
   "outputs": [],
   "source": [
    "Roll_Max = pd.Series(equity_bm).rolling(window=2*252, min_periods=1).max()\n",
    "DD_bm = (pd.Series(equity_bm)/Roll_Max-1).min() "
   ]
  },
  {
   "cell_type": "code",
   "execution_count": 41,
   "metadata": {},
   "outputs": [],
   "source": [
    "Roll_Max = pd.Series(equity_stgy).rolling(window=2*252, min_periods=1).max()\n",
    "DD_stgy = (pd.Series(equity_stgy)/Roll_Max-1).min()      "
   ]
  },
  {
   "cell_type": "code",
   "execution_count": 42,
   "metadata": {},
   "outputs": [
    {
     "data": {
      "image/png": "[encoded data removed]",
      "text/plain": [
       "<Figure size 640x480 with 1 Axes>"
      ]
     },
     "metadata": {},
     "output_type": "display_data"
    }
   ],
   "source": [
    "fig, ax = plt.subplots()\n",
    "ax.plot(equity_bm,label='Benchmark',color='r')\n",
    "ax.plot(equity_stgy,label='Strategy',color='b')\n",
    "ax.legend(loc='upper left', shadow=True, fontsize='x-large')\n",
    "plt.xlabel('#Days')\n",
    "plt.ylabel('Equity($)')                                         \n",
    "plt.show() "
   ]
  },
  {
   "cell_type": "code",
   "execution_count": 43,
   "metadata": {},
   "outputs": [
    {
     "name": "stdout",
     "output_type": "stream",
     "text": [
      "Annual Return% Benchmark vs Strategy\n",
      "29.464280238649028 29.096822333796784\n"
     ]
    }
   ],
   "source": [
    "print ('Annual Return% Benchmark vs Strategy')\n",
    "print (100*ann_return_bm, 100*ann_return_stgy) "
   ]
  },
  {
   "cell_type": "code",
   "execution_count": 44,
   "metadata": {},
   "outputs": [
    {
     "name": "stdout",
     "output_type": "stream",
     "text": [
      "Sharpe Ratio Benchmark vs Strategy\n",
      "[2.767420144154994, 2.7326783988508074]\n"
     ]
    }
   ],
   "source": [
    "print ('Sharpe Ratio Benchmark vs Strategy')\n",
    "print ([sharpe_ratio_bm, sharpe_ratio_stgy]) "
   ]
  },
  {
   "cell_type": "code",
   "execution_count": 45,
   "metadata": {},
   "outputs": [
    {
     "name": "stdout",
     "output_type": "stream",
     "text": [
      "%Winners Benchmark vs Strategy\n",
      "[57.25806451612904, 56.451612903225815]\n"
     ]
    }
   ],
   "source": [
    "print ('%Winners Benchmark vs Strategy')\n",
    "print ([100*win_ratio_bm, 100*win_ratio_stgy]) "
   ]
  },
  {
   "cell_type": "code",
   "execution_count": 47,
   "metadata": {},
   "outputs": [
    {
     "name": "stdout",
     "output_type": "stream",
     "text": [
      "Max Drawdown(%) Benchmark vs Strategy\n",
      "[-5.353899373049298, -5.353899373049254]\n"
     ]
    }
   ],
   "source": [
    "print ('Max Drawdown(%) Benchmark vs Strategy')\n",
    "print ([100*DD_bm, 100*DD_stgy]) "
   ]
  },
  {
   "cell_type": "code",
   "execution_count": null,
   "metadata": {},
   "outputs": [],
   "source": []
  }
 ],
 "metadata": {
  "kernelspec": {
   "display_name": "pyten",
   "language": "python",
   "name": "python3"
  },
  "language_info": {
   "codemirror_mode": {
    "name": "ipython",
    "version": 3
   },
   "file_extension": ".py",
   "mimetype": "text/x-python",
   "name": "python",
   "nbconvert_exporter": "python",
   "pygments_lexer": "ipython3",
   "version": "3.10.14"
  }
 },
 "nbformat": 4,
 "nbformat_minor": 2
}
