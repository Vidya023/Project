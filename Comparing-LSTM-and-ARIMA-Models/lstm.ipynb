{
 "cells": [
  {
   "cell_type": "code",
   "execution_count": 1,
   "metadata": {},
   "outputs": [
    {
     "name": "stderr",
     "output_type": "stream",
     "text": [
      "c:\\Users\\vidya\\.conda\\envs\\pyten\\lib\\site-packages\\pyfolio\\pos.py:26: UserWarning: Module \"zipline.assets\" not found; mutltipliers will not be applied to position notionals.\n",
      "  warnings.warn(\n"
     ]
    }
   ],
   "source": [
    "import pandas as pd\n",
    "import numpy as np \n",
    "import matplotlib.pyplot as plt \n",
    "import yfinance as yf \n",
    "import datetime \n",
    "import talib as ta \n",
    "import tensorflow as tf \n",
    "import random \n",
    "import pickle \n",
    "import pyfolio as pf \n",
    "from sklearn.preprocessing import MinMaxScaler\n",
    "from sklearn.metrics import mean_squared_error\n",
    "from keras.models import Sequential\n",
    "from keras.layers import LSTM, Dense, Dropout \n",
    "from keras.callbacks import EarlyStopping \n",
    "\n",
    "import warnings \n",
    "warnings.filterwarnings('ignore') "
   ]
  },
  {
   "cell_type": "code",
   "execution_count": 2,
   "metadata": {},
   "outputs": [
    {
     "name": "stderr",
     "output_type": "stream",
     "text": [
      "[*********************100%%**********************]  1 of 1 completed\n"
     ]
    }
   ],
   "source": [
    "data_df = yf.download('SPY',period='10y') "
   ]
  },
  {
   "cell_type": "code",
   "execution_count": 3,
   "metadata": {},
   "outputs": [
    {
     "data": {
      "text/html": [
       "<div>\n",
       "<style scoped>\n",
       "    .dataframe tbody tr th:only-of-type {\n",
       "        vertical-align: middle;\n",
       "    }\n",
       "\n",
       "    .dataframe tbody tr th {\n",
       "        vertical-align: top;\n",
       "    }\n",
       "\n",
       "    .dataframe thead th {\n",
       "        text-align: right;\n",
       "    }\n",
       "</style>\n",
       "<table border=\"1\" class=\"dataframe\">\n",
       "  <thead>\n",
       "    <tr style=\"text-align: right;\">\n",
       "      <th></th>\n",
       "      <th>Open</th>\n",
       "      <th>High</th>\n",
       "      <th>Low</th>\n",
       "      <th>Close</th>\n",
       "      <th>Adj Close</th>\n",
       "      <th>Volume</th>\n",
       "    </tr>\n",
       "    <tr>\n",
       "      <th>Date</th>\n",
       "      <th></th>\n",
       "      <th></th>\n",
       "      <th></th>\n",
       "      <th></th>\n",
       "      <th></th>\n",
       "      <th></th>\n",
       "    </tr>\n",
       "  </thead>\n",
       "  <tbody>\n",
       "    <tr>\n",
       "      <th>2014-06-26</th>\n",
       "      <td>195.610001</td>\n",
       "      <td>195.630005</td>\n",
       "      <td>194.130005</td>\n",
       "      <td>195.440002</td>\n",
       "      <td>163.585968</td>\n",
       "      <td>84312000</td>\n",
       "    </tr>\n",
       "    <tr>\n",
       "      <th>2014-06-27</th>\n",
       "      <td>194.979996</td>\n",
       "      <td>195.880005</td>\n",
       "      <td>194.889999</td>\n",
       "      <td>195.820007</td>\n",
       "      <td>163.904022</td>\n",
       "      <td>71445100</td>\n",
       "    </tr>\n",
       "    <tr>\n",
       "      <th>2014-06-30</th>\n",
       "      <td>195.699997</td>\n",
       "      <td>196.169998</td>\n",
       "      <td>195.529999</td>\n",
       "      <td>195.720001</td>\n",
       "      <td>163.820328</td>\n",
       "      <td>70201200</td>\n",
       "    </tr>\n",
       "    <tr>\n",
       "      <th>2014-07-01</th>\n",
       "      <td>196.199997</td>\n",
       "      <td>197.630005</td>\n",
       "      <td>196.130005</td>\n",
       "      <td>197.029999</td>\n",
       "      <td>164.916794</td>\n",
       "      <td>90470000</td>\n",
       "    </tr>\n",
       "    <tr>\n",
       "      <th>2014-07-02</th>\n",
       "      <td>197.050003</td>\n",
       "      <td>197.479996</td>\n",
       "      <td>196.960007</td>\n",
       "      <td>197.229996</td>\n",
       "      <td>165.084198</td>\n",
       "      <td>52475000</td>\n",
       "    </tr>\n",
       "  </tbody>\n",
       "</table>\n",
       "</div>"
      ],
      "text/plain": [
       "                  Open        High         Low       Close   Adj Close  \\\n",
       "Date                                                                     \n",
       "2014-06-26  195.610001  195.630005  194.130005  195.440002  163.585968   \n",
       "2014-06-27  194.979996  195.880005  194.889999  195.820007  163.904022   \n",
       "2014-06-30  195.699997  196.169998  195.529999  195.720001  163.820328   \n",
       "2014-07-01  196.199997  197.630005  196.130005  197.029999  164.916794   \n",
       "2014-07-02  197.050003  197.479996  196.960007  197.229996  165.084198   \n",
       "\n",
       "              Volume  \n",
       "Date                  \n",
       "2014-06-26  84312000  \n",
       "2014-06-27  71445100  \n",
       "2014-06-30  70201200  \n",
       "2014-07-01  90470000  \n",
       "2014-07-02  52475000  "
      ]
     },
     "execution_count": 3,
     "metadata": {},
     "output_type": "execute_result"
    }
   ],
   "source": [
    "data_df.head() "
   ]
  },
  {
   "cell_type": "code",
   "execution_count": 4,
   "metadata": {},
   "outputs": [],
   "source": [
    "def create_features(data):\n",
    "    features_list = []\n",
    "    data['upper_band'], data['middle_band'], data['lower_band'] = ta.BBANDS(data['Close'].values)\n",
    "    data['macd'], data['macdsignal'], data['macdhist'] = ta.MACD(data['Close'].values)\n",
    "    data['rsi'] = ta.RSI(data['Close'].values)\n",
    "    #data['sar'] = ta.SAR(data['High'].values, data['Low'].values)\n",
    "    data ['sma'] = data['Close'].rolling(window=20).mean()    \n",
    "    data['lma'] = data['Close'].rolling(window=50).mean()\n",
    "    data['obv'] = ta.OBV(data['Close'], data['Volume'])\n",
    "    data['mfi'] = ta.MFI(data['High'], data['Low'], data['Close'], data['Volume'])\n",
    "    features_list +=['upper_band','middle_band','lower_band','macd','rsi','sma','lma','obv','mfi']\n",
    "    data = data.drop(['Adj Close', 'Open','High','Low','Volume'], axis=1) \n",
    "    data.dropna(inplace=True)\n",
    "    return data,features_list "
   ]
  },
  {
   "cell_type": "code",
   "execution_count": 5,
   "metadata": {},
   "outputs": [],
   "source": [
    "data_cr, list = create_features(data_df)"
   ]
  },
  {
   "cell_type": "code",
   "execution_count": 6,
   "metadata": {},
   "outputs": [
    {
     "data": {
      "text/html": [
       "<div>\n",
       "<style scoped>\n",
       "    .dataframe tbody tr th:only-of-type {\n",
       "        vertical-align: middle;\n",
       "    }\n",
       "\n",
       "    .dataframe tbody tr th {\n",
       "        vertical-align: top;\n",
       "    }\n",
       "\n",
       "    .dataframe thead th {\n",
       "        text-align: right;\n",
       "    }\n",
       "</style>\n",
       "<table border=\"1\" class=\"dataframe\">\n",
       "  <thead>\n",
       "    <tr style=\"text-align: right;\">\n",
       "      <th></th>\n",
       "      <th>Close</th>\n",
       "      <th>upper_band</th>\n",
       "      <th>middle_band</th>\n",
       "      <th>lower_band</th>\n",
       "      <th>macd</th>\n",
       "      <th>macdsignal</th>\n",
       "      <th>macdhist</th>\n",
       "      <th>rsi</th>\n",
       "      <th>sma</th>\n",
       "      <th>lma</th>\n",
       "      <th>obv</th>\n",
       "      <th>mfi</th>\n",
       "    </tr>\n",
       "    <tr>\n",
       "      <th>Date</th>\n",
       "      <th></th>\n",
       "      <th></th>\n",
       "      <th></th>\n",
       "      <th></th>\n",
       "      <th></th>\n",
       "      <th></th>\n",
       "      <th></th>\n",
       "      <th></th>\n",
       "      <th></th>\n",
       "      <th></th>\n",
       "      <th></th>\n",
       "      <th></th>\n",
       "    </tr>\n",
       "  </thead>\n",
       "  <tbody>\n",
       "    <tr>\n",
       "      <th>2014-09-05</th>\n",
       "      <td>201.110001</td>\n",
       "      <td>201.214843</td>\n",
       "      <td>200.628003</td>\n",
       "      <td>200.041163</td>\n",
       "      <td>1.331824</td>\n",
       "      <td>1.093058</td>\n",
       "      <td>0.238766</td>\n",
       "      <td>67.844196</td>\n",
       "      <td>198.215501</td>\n",
       "      <td>197.0130</td>\n",
       "      <td>81132100.0</td>\n",
       "      <td>71.853408</td>\n",
       "    </tr>\n",
       "    <tr>\n",
       "      <th>2014-09-08</th>\n",
       "      <td>200.589996</td>\n",
       "      <td>201.185252</td>\n",
       "      <td>200.604001</td>\n",
       "      <td>200.022750</td>\n",
       "      <td>1.300225</td>\n",
       "      <td>1.134491</td>\n",
       "      <td>0.165734</td>\n",
       "      <td>63.743099</td>\n",
       "      <td>198.583000</td>\n",
       "      <td>197.1160</td>\n",
       "      <td>16986100.0</td>\n",
       "      <td>71.553573</td>\n",
       "    </tr>\n",
       "    <tr>\n",
       "      <th>2014-09-09</th>\n",
       "      <td>199.320007</td>\n",
       "      <td>201.525189</td>\n",
       "      <td>200.346002</td>\n",
       "      <td>199.166815</td>\n",
       "      <td>1.159341</td>\n",
       "      <td>1.139461</td>\n",
       "      <td>0.019880</td>\n",
       "      <td>54.998916</td>\n",
       "      <td>198.859000</td>\n",
       "      <td>197.1860</td>\n",
       "      <td>-71604900.0</td>\n",
       "      <td>63.315298</td>\n",
       "    </tr>\n",
       "    <tr>\n",
       "      <th>2014-09-10</th>\n",
       "      <td>200.070007</td>\n",
       "      <td>201.444430</td>\n",
       "      <td>200.260004</td>\n",
       "      <td>199.075578</td>\n",
       "      <td>1.095579</td>\n",
       "      <td>1.130684</td>\n",
       "      <td>-0.035106</td>\n",
       "      <td>58.609923</td>\n",
       "      <td>199.186001</td>\n",
       "      <td>197.2730</td>\n",
       "      <td>-4353900.0</td>\n",
       "      <td>63.119374</td>\n",
       "    </tr>\n",
       "    <tr>\n",
       "      <th>2014-09-11</th>\n",
       "      <td>200.300003</td>\n",
       "      <td>201.461578</td>\n",
       "      <td>200.278003</td>\n",
       "      <td>199.094428</td>\n",
       "      <td>1.051484</td>\n",
       "      <td>1.114844</td>\n",
       "      <td>-0.063360</td>\n",
       "      <td>59.678450</td>\n",
       "      <td>199.459001</td>\n",
       "      <td>197.3384</td>\n",
       "      <td>62420500.0</td>\n",
       "      <td>63.087246</td>\n",
       "    </tr>\n",
       "  </tbody>\n",
       "</table>\n",
       "</div>"
      ],
      "text/plain": [
       "                 Close  upper_band  middle_band  lower_band      macd  \\\n",
       "Date                                                                    \n",
       "2014-09-05  201.110001  201.214843   200.628003  200.041163  1.331824   \n",
       "2014-09-08  200.589996  201.185252   200.604001  200.022750  1.300225   \n",
       "2014-09-09  199.320007  201.525189   200.346002  199.166815  1.159341   \n",
       "2014-09-10  200.070007  201.444430   200.260004  199.075578  1.095579   \n",
       "2014-09-11  200.300003  201.461578   200.278003  199.094428  1.051484   \n",
       "\n",
       "            macdsignal  macdhist        rsi         sma       lma         obv  \\\n",
       "Date                                                                            \n",
       "2014-09-05    1.093058  0.238766  67.844196  198.215501  197.0130  81132100.0   \n",
       "2014-09-08    1.134491  0.165734  63.743099  198.583000  197.1160  16986100.0   \n",
       "2014-09-09    1.139461  0.019880  54.998916  198.859000  197.1860 -71604900.0   \n",
       "2014-09-10    1.130684 -0.035106  58.609923  199.186001  197.2730  -4353900.0   \n",
       "2014-09-11    1.114844 -0.063360  59.678450  199.459001  197.3384  62420500.0   \n",
       "\n",
       "                  mfi  \n",
       "Date                   \n",
       "2014-09-05  71.853408  \n",
       "2014-09-08  71.553573  \n",
       "2014-09-09  63.315298  \n",
       "2014-09-10  63.119374  \n",
       "2014-09-11  63.087246  "
      ]
     },
     "execution_count": 6,
     "metadata": {},
     "output_type": "execute_result"
    }
   ],
   "source": [
    "data_cr.head() "
   ]
  },
  {
   "cell_type": "code",
   "execution_count": 20,
   "metadata": {},
   "outputs": [],
   "source": [
    "# Step 2: Data preprocessing\n",
    "def preprocess_data(data):\n",
    "    # Extract 'Close', price is our target variable\n",
    "    #df = data[['Close']]   \n",
    "    df = data\n",
    "    list_col = [data.columns]\n",
    "    df.dropna(inplace=True)    \n",
    "    # Normalize the data to a range between 0 and 1\n",
    "    scaler = MinMaxScaler(feature_range=(0, 1))\n",
    "    df = scaler.fit_transform(df)\n",
    "    scaled_df = pd.DataFrame(df, columns=list_col)\n",
    "    scaled_df.index = data.index   \n",
    "    # out_scaler = MinMaxScaler(feature_range=(0, 1))\n",
    "    # temp = out_scaler.fit_transform(data['Close'].values.reshape(-1,1))    \n",
    "    return df, scaler, scaled_df #,out_scaler,temp  "
   ]
  },
  {
   "cell_type": "code",
   "execution_count": 21,
   "metadata": {},
   "outputs": [],
   "source": [
    "df, scaler, scaled_df = preprocess_data(data_cr) "
   ]
  },
  {
   "cell_type": "code",
   "execution_count": 22,
   "metadata": {},
   "outputs": [
    {
     "data": {
      "text/html": [
       "<div>\n",
       "<style scoped>\n",
       "    .dataframe tbody tr th:only-of-type {\n",
       "        vertical-align: middle;\n",
       "    }\n",
       "\n",
       "    .dataframe tbody tr th {\n",
       "        vertical-align: top;\n",
       "    }\n",
       "\n",
       "    .dataframe thead tr th {\n",
       "        text-align: left;\n",
       "    }\n",
       "\n",
       "    .dataframe thead tr:last-of-type th {\n",
       "        text-align: right;\n",
       "    }\n",
       "</style>\n",
       "<table border=\"1\" class=\"dataframe\">\n",
       "  <thead>\n",
       "    <tr>\n",
       "      <th></th>\n",
       "      <th>Close</th>\n",
       "      <th>upper_band</th>\n",
       "      <th>middle_band</th>\n",
       "      <th>lower_band</th>\n",
       "      <th>macd</th>\n",
       "      <th>macdsignal</th>\n",
       "      <th>macdhist</th>\n",
       "      <th>rsi</th>\n",
       "      <th>sma</th>\n",
       "      <th>lma</th>\n",
       "      <th>obv</th>\n",
       "      <th>mfi</th>\n",
       "    </tr>\n",
       "    <tr>\n",
       "      <th>Date</th>\n",
       "      <th></th>\n",
       "      <th></th>\n",
       "      <th></th>\n",
       "      <th></th>\n",
       "      <th></th>\n",
       "      <th></th>\n",
       "      <th></th>\n",
       "      <th></th>\n",
       "      <th></th>\n",
       "      <th></th>\n",
       "      <th></th>\n",
       "      <th></th>\n",
       "    </tr>\n",
       "  </thead>\n",
       "  <tbody>\n",
       "    <tr>\n",
       "      <th>2014-09-05</th>\n",
       "      <td>0.049914</td>\n",
       "      <td>0.037551</td>\n",
       "      <td>0.042970</td>\n",
       "      <td>0.054139</td>\n",
       "      <td>0.758649</td>\n",
       "      <td>0.745677</td>\n",
       "      <td>0.519070</td>\n",
       "      <td>0.726105</td>\n",
       "      <td>0.028188</td>\n",
       "      <td>0.011827</td>\n",
       "      <td>0.728160</td>\n",
       "      <td>0.727206</td>\n",
       "    </tr>\n",
       "    <tr>\n",
       "      <th>2014-09-08</th>\n",
       "      <td>0.048492</td>\n",
       "      <td>0.037470</td>\n",
       "      <td>0.042904</td>\n",
       "      <td>0.054088</td>\n",
       "      <td>0.757695</td>\n",
       "      <td>0.747149</td>\n",
       "      <td>0.513114</td>\n",
       "      <td>0.667561</td>\n",
       "      <td>0.029242</td>\n",
       "      <td>0.012139</td>\n",
       "      <td>0.715526</td>\n",
       "      <td>0.723688</td>\n",
       "    </tr>\n",
       "    <tr>\n",
       "      <th>2014-09-09</th>\n",
       "      <td>0.045018</td>\n",
       "      <td>0.038406</td>\n",
       "      <td>0.042189</td>\n",
       "      <td>0.051719</td>\n",
       "      <td>0.753439</td>\n",
       "      <td>0.747326</td>\n",
       "      <td>0.501217</td>\n",
       "      <td>0.542735</td>\n",
       "      <td>0.030034</td>\n",
       "      <td>0.012351</td>\n",
       "      <td>0.698076</td>\n",
       "      <td>0.627045</td>\n",
       "    </tr>\n",
       "    <tr>\n",
       "      <th>2014-09-10</th>\n",
       "      <td>0.047069</td>\n",
       "      <td>0.038184</td>\n",
       "      <td>0.041950</td>\n",
       "      <td>0.051467</td>\n",
       "      <td>0.751514</td>\n",
       "      <td>0.747014</td>\n",
       "      <td>0.496732</td>\n",
       "      <td>0.594283</td>\n",
       "      <td>0.030972</td>\n",
       "      <td>0.012614</td>\n",
       "      <td>0.711322</td>\n",
       "      <td>0.624746</td>\n",
       "    </tr>\n",
       "    <tr>\n",
       "      <th>2014-09-11</th>\n",
       "      <td>0.047699</td>\n",
       "      <td>0.038231</td>\n",
       "      <td>0.042000</td>\n",
       "      <td>0.051519</td>\n",
       "      <td>0.750182</td>\n",
       "      <td>0.746451</td>\n",
       "      <td>0.494427</td>\n",
       "      <td>0.609537</td>\n",
       "      <td>0.031755</td>\n",
       "      <td>0.012812</td>\n",
       "      <td>0.724475</td>\n",
       "      <td>0.624370</td>\n",
       "    </tr>\n",
       "  </tbody>\n",
       "</table>\n",
       "</div>"
      ],
      "text/plain": [
       "               Close upper_band middle_band lower_band      macd macdsignal  \\\n",
       "Date                                                                          \n",
       "2014-09-05  0.049914   0.037551    0.042970   0.054139  0.758649   0.745677   \n",
       "2014-09-08  0.048492   0.037470    0.042904   0.054088  0.757695   0.747149   \n",
       "2014-09-09  0.045018   0.038406    0.042189   0.051719  0.753439   0.747326   \n",
       "2014-09-10  0.047069   0.038184    0.041950   0.051467  0.751514   0.747014   \n",
       "2014-09-11  0.047699   0.038231    0.042000   0.051519  0.750182   0.746451   \n",
       "\n",
       "            macdhist       rsi       sma       lma       obv       mfi  \n",
       "Date                                                                    \n",
       "2014-09-05  0.519070  0.726105  0.028188  0.011827  0.728160  0.727206  \n",
       "2014-09-08  0.513114  0.667561  0.029242  0.012139  0.715526  0.723688  \n",
       "2014-09-09  0.501217  0.542735  0.030034  0.012351  0.698076  0.627045  \n",
       "2014-09-10  0.496732  0.594283  0.030972  0.012614  0.711322  0.624746  \n",
       "2014-09-11  0.494427  0.609537  0.031755  0.012812  0.724475  0.624370  "
      ]
     },
     "execution_count": 22,
     "metadata": {},
     "output_type": "execute_result"
    }
   ],
   "source": [
    "scaled_df.head() "
   ]
  },
  {
   "cell_type": "code",
   "execution_count": 23,
   "metadata": {},
   "outputs": [
    {
     "data": {
      "text/plain": [
       "0"
      ]
     },
     "execution_count": 23,
     "metadata": {},
     "output_type": "execute_result"
    }
   ],
   "source": [
    "scaled_df.isna().sum().sum() "
   ]
  },
  {
   "cell_type": "code",
   "execution_count": 24,
   "metadata": {},
   "outputs": [
    {
     "data": {
      "text/plain": [
       "12"
      ]
     },
     "execution_count": 24,
     "metadata": {},
     "output_type": "execute_result"
    }
   ],
   "source": [
    "len(scaled_df.columns) "
   ]
  },
  {
   "cell_type": "code",
   "execution_count": 28,
   "metadata": {},
   "outputs": [],
   "source": [
    "def create_sequences(data, sequence_length):\n",
    "    sequences = []\n",
    "    target = []\n",
    "    for i in range(len(data)-sequence_length):\n",
    "        x = data[i:i+sequence_length,0:12]\n",
    "        y = data[i+sequence_length,0]\n",
    "        sequences.append(x)\n",
    "        target.append(y) \n",
    "    return np.array(sequences), np.array(target) "
   ]
  },
  {
   "cell_type": "code",
   "execution_count": 29,
   "metadata": {},
   "outputs": [],
   "source": [
    "data_seq, data_tar = create_sequences(df, 10)"
   ]
  },
  {
   "cell_type": "code",
   "execution_count": 34,
   "metadata": {},
   "outputs": [
    {
     "data": {
      "text/plain": [
       "2457"
      ]
     },
     "execution_count": 34,
     "metadata": {},
     "output_type": "execute_result"
    }
   ],
   "source": [
    "len(data_tar)  "
   ]
  },
  {
   "cell_type": "code",
   "execution_count": 35,
   "metadata": {},
   "outputs": [
    {
     "data": {
      "text/plain": [
       "2457"
      ]
     },
     "execution_count": 35,
     "metadata": {},
     "output_type": "execute_result"
    }
   ],
   "source": [
    "len(data_seq)   "
   ]
  },
  {
   "cell_type": "code",
   "execution_count": 39,
   "metadata": {},
   "outputs": [
    {
     "data": {
      "text/plain": [
       "array([[0.04991385, 0.03755104, 0.04297029, ..., 0.01182686, 0.72816041,\n",
       "        0.72720555],\n",
       "       [0.04849163, 0.0374695 , 0.04290378, ..., 0.01213881, 0.71552559,\n",
       "        0.72368818],\n",
       "       [0.04501821, 0.0384062 , 0.04218881, ..., 0.01235082, 0.69807586,\n",
       "        0.62704488],\n",
       "       ...,\n",
       "       [0.98911473, 0.99883265, 1.        , ..., 0.99644316, 0.57742658,\n",
       "        0.73256134],\n",
       "       [0.98427372, 0.99887954, 0.99997781, ..., 0.99794173, 0.56845881,\n",
       "        0.65046991],\n",
       "       [0.98998995, 0.99735341, 0.99871971, ..., 1.        , 0.57593109,\n",
       "        0.65318452]])"
      ]
     },
     "execution_count": 39,
     "metadata": {},
     "output_type": "execute_result"
    }
   ],
   "source": [
    "df"
   ]
  },
  {
   "cell_type": "code",
   "execution_count": 36,
   "metadata": {},
   "outputs": [],
   "source": [
    "def build_lstm_model(input_shape):\n",
    "    model = Sequential()\n",
    "    model.add(LSTM(units=100, activation='tanh',return_sequences=True, input_shape=input_shape))\n",
    "    #model.add(Dropout(0.2))\n",
    "    model.add(LSTM(units=100, activation='tanh',return_sequences=False))\n",
    "    #model.add(Dropout(0.2))\n",
    "    model.add(Dense(50,activation='tanh'))\n",
    "    model.add(Dense(25,activation='tanh'))\n",
    "    #model.add(Dropout(0.2))\n",
    "    model.add(Dense(1,activation = 'linear'))\n",
    "    #model.add(Dropout(0.2))\n",
    "    model.compile(optimizer='adam', loss='mean_squared_error',metrics=['accuracy'])\n",
    "    return model "
   ]
  },
  {
   "cell_type": "code",
   "execution_count": 50,
   "metadata": {},
   "outputs": [],
   "source": [
    "# Train model\n",
    "def train_model(data_seq, data_tar):\n",
    "    train_size = int(len(data_seq)*0.8)\n",
    "    x_train, x_test = data_seq[:train_size], data_seq[train_size:]\n",
    "    y_train, y_test = data_tar[:train_size], data_tar[train_size:]\n",
    "\n",
    "    input_shape = (x_train.shape[1], x_train.shape[2])\n",
    "    model = build_lstm_model(input_shape)\n",
    "\n",
    "    es = EarlyStopping(monitor='val_loss', mode='min', verbose=1, patience=20)\n",
    "    history = model.fit(x_train, y_train, batch_size=10, epochs=50, validation_data=(x_test, y_test))\n",
    "    plt.plot(range(len(model.history.history['loss'])), model.history.history['loss'])\n",
    "    plt.xlabel('Epoch Number')\n",
    "    plt.ylabel('Loss')\n",
    "    plt.show()  \n",
    "\n",
    "    #Evaluating model\n",
    "    train_acc = model.evaluate(x_train, y_train, verbose=0)\n",
    "    test_acc = model.evaluate(x_test, y_test, verbose=0)\n",
    "    print('Train: %.5f, Test: %.5f' % (train_acc[0], test_acc[0]))\n",
    "    print('Train: %.5f, Test: %.5f' % (train_acc[1], test_acc[1]))\n",
    "    \n",
    "    # plot training history\n",
    "    plt.plot(history.history['loss'], label='train')\n",
    "    plt.plot(history.history['val_loss'], label='test')\n",
    "    plt.legend()\n",
    "    plt.show()\n",
    "    return model "
   ]
  },
  {
   "cell_type": "code",
   "execution_count": 51,
   "metadata": {},
   "outputs": [
    {
     "name": "stdout",
     "output_type": "stream",
     "text": [
      "Epoch 1/50\n",
      "\u001b[1m197/197\u001b[0m \u001b[32m━━━━━━━━━━━━━━━━━━━━\u001b[0m\u001b[37m\u001b[0m \u001b[1m4s\u001b[0m 7ms/step - accuracy: 0.0012 - loss: 0.0146 - val_accuracy: 0.0020 - val_loss: 0.0035\n",
      "Epoch 2/50\n",
      "\u001b[1m197/197\u001b[0m \u001b[32m━━━━━━━━━━━━━━━━━━━━\u001b[0m\u001b[37m\u001b[0m \u001b[1m1s\u001b[0m 5ms/step - accuracy: 8.9862e-04 - loss: 3.6809e-04 - val_accuracy: 0.0020 - val_loss: 0.0027\n",
      "Epoch 3/50\n",
      "\u001b[1m197/197\u001b[0m \u001b[32m━━━━━━━━━━━━━━━━━━━━\u001b[0m\u001b[37m\u001b[0m \u001b[1m1s\u001b[0m 5ms/step - accuracy: 7.3302e-04 - loss: 3.9381e-04 - val_accuracy: 0.0020 - val_loss: 0.0019\n",
      "Epoch 4/50\n",
      "\u001b[1m197/197\u001b[0m \u001b[32m━━━━━━━━━━━━━━━━━━━━\u001b[0m\u001b[37m\u001b[0m \u001b[1m1s\u001b[0m 5ms/step - accuracy: 2.7352e-04 - loss: 3.7047e-04 - val_accuracy: 0.0020 - val_loss: 0.0028\n",
      "Epoch 5/50\n",
      "\u001b[1m197/197\u001b[0m \u001b[32m━━━━━━━━━━━━━━━━━━━━\u001b[0m\u001b[37m\u001b[0m \u001b[1m1s\u001b[0m 5ms/step - accuracy: 3.8567e-04 - loss: 3.4706e-04 - val_accuracy: 0.0020 - val_loss: 0.0036\n",
      "Epoch 6/50\n",
      "\u001b[1m197/197\u001b[0m \u001b[32m━━━━━━━━━━━━━━━━━━━━\u001b[0m\u001b[37m\u001b[0m \u001b[1m1s\u001b[0m 5ms/step - accuracy: 3.9116e-04 - loss: 3.3360e-04 - val_accuracy: 0.0020 - val_loss: 0.0017\n",
      "Epoch 7/50\n",
      "\u001b[1m197/197\u001b[0m \u001b[32m━━━━━━━━━━━━━━━━━━━━\u001b[0m\u001b[37m\u001b[0m \u001b[1m1s\u001b[0m 5ms/step - accuracy: 1.7098e-04 - loss: 2.3973e-04 - val_accuracy: 0.0020 - val_loss: 4.4647e-04\n",
      "Epoch 8/50\n",
      "\u001b[1m197/197\u001b[0m \u001b[32m━━━━━━━━━━━━━━━━━━━━\u001b[0m\u001b[37m\u001b[0m \u001b[1m1s\u001b[0m 5ms/step - accuracy: 6.2223e-05 - loss: 3.8557e-04 - val_accuracy: 0.0020 - val_loss: 0.0041\n",
      "Epoch 9/50\n",
      "\u001b[1m197/197\u001b[0m \u001b[32m━━━━━━━━━━━━━━━━━━━━\u001b[0m\u001b[37m\u001b[0m \u001b[1m1s\u001b[0m 5ms/step - accuracy: 0.0014 - loss: 3.0795e-04 - val_accuracy: 0.0020 - val_loss: 0.0059\n",
      "Epoch 10/50\n",
      "\u001b[1m197/197\u001b[0m \u001b[32m━━━━━━━━━━━━━━━━━━━━\u001b[0m\u001b[37m\u001b[0m \u001b[1m1s\u001b[0m 5ms/step - accuracy: 1.1688e-04 - loss: 2.7001e-04 - val_accuracy: 0.0020 - val_loss: 0.0014\n",
      "Epoch 11/50\n",
      "\u001b[1m197/197\u001b[0m \u001b[32m━━━━━━━━━━━━━━━━━━━━\u001b[0m\u001b[37m\u001b[0m \u001b[1m1s\u001b[0m 5ms/step - accuracy: 1.1368e-04 - loss: 1.6296e-04 - val_accuracy: 0.0020 - val_loss: 0.0012\n",
      "Epoch 12/50\n",
      "\u001b[1m197/197\u001b[0m \u001b[32m━━━━━━━━━━━━━━━━━━━━\u001b[0m\u001b[37m\u001b[0m \u001b[1m1s\u001b[0m 5ms/step - accuracy: 1.0735e-04 - loss: 2.0590e-04 - val_accuracy: 0.0020 - val_loss: 0.0020\n",
      "Epoch 13/50\n",
      "\u001b[1m197/197\u001b[0m \u001b[32m━━━━━━━━━━━━━━━━━━━━\u001b[0m\u001b[37m\u001b[0m \u001b[1m1s\u001b[0m 5ms/step - accuracy: 7.6821e-05 - loss: 3.2728e-04 - val_accuracy: 0.0020 - val_loss: 6.2559e-04\n",
      "Epoch 14/50\n",
      "\u001b[1m197/197\u001b[0m \u001b[32m━━━━━━━━━━━━━━━━━━━━\u001b[0m\u001b[37m\u001b[0m \u001b[1m1s\u001b[0m 5ms/step - accuracy: 2.0802e-05 - loss: 1.6117e-04 - val_accuracy: 0.0020 - val_loss: 7.5140e-04\n",
      "Epoch 15/50\n",
      "\u001b[1m197/197\u001b[0m \u001b[32m━━━━━━━━━━━━━━━━━━━━\u001b[0m\u001b[37m\u001b[0m \u001b[1m1s\u001b[0m 5ms/step - accuracy: 0.0012 - loss: 1.5514e-04 - val_accuracy: 0.0020 - val_loss: 3.9665e-04\n",
      "Epoch 16/50\n",
      "\u001b[1m197/197\u001b[0m \u001b[32m━━━━━━━━━━━━━━━━━━━━\u001b[0m\u001b[37m\u001b[0m \u001b[1m1s\u001b[0m 5ms/step - accuracy: 3.5908e-04 - loss: 1.6535e-04 - val_accuracy: 0.0020 - val_loss: 0.0016\n",
      "Epoch 17/50\n",
      "\u001b[1m197/197\u001b[0m \u001b[32m━━━━━━━━━━━━━━━━━━━━\u001b[0m\u001b[37m\u001b[0m \u001b[1m1s\u001b[0m 5ms/step - accuracy: 4.3136e-04 - loss: 1.6937e-04 - val_accuracy: 0.0020 - val_loss: 4.7572e-04\n",
      "Epoch 18/50\n",
      "\u001b[1m197/197\u001b[0m \u001b[32m━━━━━━━━━━━━━━━━━━━━\u001b[0m\u001b[37m\u001b[0m \u001b[1m1s\u001b[0m 5ms/step - accuracy: 0.0010 - loss: 2.0663e-04 - val_accuracy: 0.0020 - val_loss: 5.9477e-04\n",
      "Epoch 19/50\n",
      "\u001b[1m197/197\u001b[0m \u001b[32m━━━━━━━━━━━━━━━━━━━━\u001b[0m\u001b[37m\u001b[0m \u001b[1m1s\u001b[0m 5ms/step - accuracy: 2.1965e-04 - loss: 1.9591e-04 - val_accuracy: 0.0020 - val_loss: 2.5846e-04\n",
      "Epoch 20/50\n",
      "\u001b[1m197/197\u001b[0m \u001b[32m━━━━━━━━━━━━━━━━━━━━\u001b[0m\u001b[37m\u001b[0m \u001b[1m1s\u001b[0m 5ms/step - accuracy: 9.4914e-05 - loss: 1.5068e-04 - val_accuracy: 0.0020 - val_loss: 0.0021\n",
      "Epoch 21/50\n",
      "\u001b[1m197/197\u001b[0m \u001b[32m━━━━━━━━━━━━━━━━━━━━\u001b[0m\u001b[37m\u001b[0m \u001b[1m1s\u001b[0m 5ms/step - accuracy: 1.3984e-04 - loss: 1.7010e-04 - val_accuracy: 0.0020 - val_loss: 8.4726e-04\n",
      "Epoch 22/50\n",
      "\u001b[1m197/197\u001b[0m \u001b[32m━━━━━━━━━━━━━━━━━━━━\u001b[0m\u001b[37m\u001b[0m \u001b[1m1s\u001b[0m 5ms/step - accuracy: 0.0016 - loss: 2.2467e-04 - val_accuracy: 0.0020 - val_loss: 6.4834e-04\n",
      "Epoch 23/50\n",
      "\u001b[1m197/197\u001b[0m \u001b[32m━━━━━━━━━━━━━━━━━━━━\u001b[0m\u001b[37m\u001b[0m \u001b[1m1s\u001b[0m 5ms/step - accuracy: 6.5284e-04 - loss: 1.3856e-04 - val_accuracy: 0.0020 - val_loss: 5.9700e-04\n",
      "Epoch 24/50\n",
      "\u001b[1m197/197\u001b[0m \u001b[32m━━━━━━━━━━━━━━━━━━━━\u001b[0m\u001b[37m\u001b[0m \u001b[1m1s\u001b[0m 5ms/step - accuracy: 1.0421e-04 - loss: 1.2508e-04 - val_accuracy: 0.0020 - val_loss: 7.6863e-04\n",
      "Epoch 25/50\n",
      "\u001b[1m197/197\u001b[0m \u001b[32m━━━━━━━━━━━━━━━━━━━━\u001b[0m\u001b[37m\u001b[0m \u001b[1m1s\u001b[0m 5ms/step - accuracy: 8.1541e-04 - loss: 1.5481e-04 - val_accuracy: 0.0020 - val_loss: 6.7334e-04\n",
      "Epoch 26/50\n",
      "\u001b[1m197/197\u001b[0m \u001b[32m━━━━━━━━━━━━━━━━━━━━\u001b[0m\u001b[37m\u001b[0m \u001b[1m1s\u001b[0m 5ms/step - accuracy: 3.0509e-04 - loss: 1.7996e-04 - val_accuracy: 0.0020 - val_loss: 0.0027\n",
      "Epoch 27/50\n",
      "\u001b[1m197/197\u001b[0m \u001b[32m━━━━━━━━━━━━━━━━━━━━\u001b[0m\u001b[37m\u001b[0m \u001b[1m1s\u001b[0m 5ms/step - accuracy: 3.5908e-04 - loss: 1.8162e-04 - val_accuracy: 0.0020 - val_loss: 3.8355e-04\n",
      "Epoch 28/50\n",
      "\u001b[1m197/197\u001b[0m \u001b[32m━━━━━━━━━━━━━━━━━━━━\u001b[0m\u001b[37m\u001b[0m \u001b[1m1s\u001b[0m 5ms/step - accuracy: 3.1520e-05 - loss: 1.6588e-04 - val_accuracy: 0.0020 - val_loss: 7.0663e-04\n",
      "Epoch 29/50\n",
      "\u001b[1m197/197\u001b[0m \u001b[32m━━━━━━━━━━━━━━━━━━━━\u001b[0m\u001b[37m\u001b[0m \u001b[1m1s\u001b[0m 5ms/step - accuracy: 6.7172e-04 - loss: 1.3349e-04 - val_accuracy: 0.0020 - val_loss: 4.0291e-04\n",
      "Epoch 30/50\n",
      "\u001b[1m197/197\u001b[0m \u001b[32m━━━━━━━━━━━━━━━━━━━━\u001b[0m\u001b[37m\u001b[0m \u001b[1m1s\u001b[0m 5ms/step - accuracy: 4.3737e-04 - loss: 3.3279e-04 - val_accuracy: 0.0020 - val_loss: 0.0011\n",
      "Epoch 31/50\n",
      "\u001b[1m197/197\u001b[0m \u001b[32m━━━━━━━━━━━━━━━━━━━━\u001b[0m\u001b[37m\u001b[0m \u001b[1m1s\u001b[0m 5ms/step - accuracy: 0.0013 - loss: 1.3894e-04 - val_accuracy: 0.0020 - val_loss: 5.5906e-04\n",
      "Epoch 32/50\n",
      "\u001b[1m197/197\u001b[0m \u001b[32m━━━━━━━━━━━━━━━━━━━━\u001b[0m\u001b[37m\u001b[0m \u001b[1m1s\u001b[0m 5ms/step - accuracy: 2.3460e-05 - loss: 1.3376e-04 - val_accuracy: 0.0020 - val_loss: 2.3072e-04\n",
      "Epoch 33/50\n",
      "\u001b[1m197/197\u001b[0m \u001b[32m━━━━━━━━━━━━━━━━━━━━\u001b[0m\u001b[37m\u001b[0m \u001b[1m1s\u001b[0m 5ms/step - accuracy: 4.8159e-04 - loss: 1.3099e-04 - val_accuracy: 0.0020 - val_loss: 3.9371e-04\n",
      "Epoch 34/50\n",
      "\u001b[1m197/197\u001b[0m \u001b[32m━━━━━━━━━━━━━━━━━━━━\u001b[0m\u001b[37m\u001b[0m \u001b[1m1s\u001b[0m 5ms/step - accuracy: 2.5632e-04 - loss: 1.2441e-04 - val_accuracy: 0.0020 - val_loss: 4.5861e-04\n",
      "Epoch 35/50\n",
      "\u001b[1m197/197\u001b[0m \u001b[32m━━━━━━━━━━━━━━━━━━━━\u001b[0m\u001b[37m\u001b[0m \u001b[1m1s\u001b[0m 5ms/step - accuracy: 0.0013 - loss: 1.4551e-04 - val_accuracy: 0.0020 - val_loss: 2.4102e-04\n",
      "Epoch 36/50\n",
      "\u001b[1m197/197\u001b[0m \u001b[32m━━━━━━━━━━━━━━━━━━━━\u001b[0m\u001b[37m\u001b[0m \u001b[1m1s\u001b[0m 5ms/step - accuracy: 6.9134e-04 - loss: 1.5623e-04 - val_accuracy: 0.0020 - val_loss: 9.9278e-04\n",
      "Epoch 37/50\n",
      "\u001b[1m197/197\u001b[0m \u001b[32m━━━━━━━━━━━━━━━━━━━━\u001b[0m\u001b[37m\u001b[0m \u001b[1m1s\u001b[0m 5ms/step - accuracy: 0.0015 - loss: 1.6634e-04 - val_accuracy: 0.0020 - val_loss: 4.2059e-04\n",
      "Epoch 38/50\n",
      "\u001b[1m197/197\u001b[0m \u001b[32m━━━━━━━━━━━━━━━━━━━━\u001b[0m\u001b[37m\u001b[0m \u001b[1m1s\u001b[0m 5ms/step - accuracy: 4.6216e-04 - loss: 1.3384e-04 - val_accuracy: 0.0020 - val_loss: 9.5427e-04\n",
      "Epoch 39/50\n",
      "\u001b[1m197/197\u001b[0m \u001b[32m━━━━━━━━━━━━━━━━━━━━\u001b[0m\u001b[37m\u001b[0m \u001b[1m1s\u001b[0m 5ms/step - accuracy: 2.6133e-05 - loss: 1.6962e-04 - val_accuracy: 0.0020 - val_loss: 9.8383e-04\n",
      "Epoch 40/50\n",
      "\u001b[1m197/197\u001b[0m \u001b[32m━━━━━━━━━━━━━━━━━━━━\u001b[0m\u001b[37m\u001b[0m \u001b[1m1s\u001b[0m 5ms/step - accuracy: 4.2470e-05 - loss: 1.2988e-04 - val_accuracy: 0.0020 - val_loss: 3.3218e-04\n",
      "Epoch 41/50\n",
      "\u001b[1m197/197\u001b[0m \u001b[32m━━━━━━━━━━━━━━━━━━━━\u001b[0m\u001b[37m\u001b[0m \u001b[1m1s\u001b[0m 5ms/step - accuracy: 8.5530e-04 - loss: 1.2944e-04 - val_accuracy: 0.0020 - val_loss: 3.8722e-04\n",
      "Epoch 42/50\n",
      "\u001b[1m197/197\u001b[0m \u001b[32m━━━━━━━━━━━━━━━━━━━━\u001b[0m\u001b[37m\u001b[0m \u001b[1m1s\u001b[0m 5ms/step - accuracy: 2.7791e-04 - loss: 1.2914e-04 - val_accuracy: 0.0020 - val_loss: 0.0030\n",
      "Epoch 43/50\n",
      "\u001b[1m197/197\u001b[0m \u001b[32m━━━━━━━━━━━━━━━━━━━━\u001b[0m\u001b[37m\u001b[0m \u001b[1m1s\u001b[0m 5ms/step - accuracy: 9.1392e-04 - loss: 2.1228e-04 - val_accuracy: 0.0020 - val_loss: 8.8353e-04\n",
      "Epoch 44/50\n",
      "\u001b[1m197/197\u001b[0m \u001b[32m━━━━━━━━━━━━━━━━━━━━\u001b[0m\u001b[37m\u001b[0m \u001b[1m1s\u001b[0m 5ms/step - accuracy: 0.0013 - loss: 1.8243e-04 - val_accuracy: 0.0020 - val_loss: 2.8554e-04\n",
      "Epoch 45/50\n",
      "\u001b[1m197/197\u001b[0m \u001b[32m━━━━━━━━━━━━━━━━━━━━\u001b[0m\u001b[37m\u001b[0m \u001b[1m1s\u001b[0m 5ms/step - accuracy: 5.6500e-05 - loss: 1.1821e-04 - val_accuracy: 0.0020 - val_loss: 3.7522e-04\n",
      "Epoch 46/50\n",
      "\u001b[1m197/197\u001b[0m \u001b[32m━━━━━━━━━━━━━━━━━━━━\u001b[0m\u001b[37m\u001b[0m \u001b[1m1s\u001b[0m 5ms/step - accuracy: 3.6429e-04 - loss: 1.5766e-04 - val_accuracy: 0.0020 - val_loss: 2.5661e-04\n",
      "Epoch 47/50\n",
      "\u001b[1m197/197\u001b[0m \u001b[32m━━━━━━━━━━━━━━━━━━━━\u001b[0m\u001b[37m\u001b[0m \u001b[1m1s\u001b[0m 5ms/step - accuracy: 8.5786e-05 - loss: 1.1975e-04 - val_accuracy: 0.0020 - val_loss: 3.1292e-04\n",
      "Epoch 48/50\n",
      "\u001b[1m197/197\u001b[0m \u001b[32m━━━━━━━━━━━━━━━━━━━━\u001b[0m\u001b[37m\u001b[0m \u001b[1m1s\u001b[0m 5ms/step - accuracy: 8.8811e-05 - loss: 1.0599e-04 - val_accuracy: 0.0020 - val_loss: 3.3322e-04\n",
      "Epoch 49/50\n",
      "\u001b[1m197/197\u001b[0m \u001b[32m━━━━━━━━━━━━━━━━━━━━\u001b[0m\u001b[37m\u001b[0m \u001b[1m1s\u001b[0m 5ms/step - accuracy: 2.3158e-04 - loss: 1.1140e-04 - val_accuracy: 0.0020 - val_loss: 0.0016\n",
      "Epoch 50/50\n",
      "\u001b[1m197/197\u001b[0m \u001b[32m━━━━━━━━━━━━━━━━━━━━\u001b[0m\u001b[37m\u001b[0m \u001b[1m1s\u001b[0m 5ms/step - accuracy: 6.6219e-04 - loss: 1.4632e-04 - val_accuracy: 0.0020 - val_loss: 5.3737e-04\n"
     ]
    },
    {
     "data": {
      "image/png": "[encoded data removed]",
      "text/plain": [
       "<Figure size 640x480 with 1 Axes>"
      ]
     },
     "metadata": {},
     "output_type": "display_data"
    },
    {
     "name": "stdout",
     "output_type": "stream",
     "text": [
      "Train: 0.00010, Test: 0.00054\n",
      "Train: 0.00051, Test: 0.00203\n"
     ]
    },
    {
     "data": {
      "image/png": "[encoded data removed]",
      "text/plain": [
       "<Figure size 640x480 with 1 Axes>"
      ]
     },
     "metadata": {},
     "output_type": "display_data"
    }
   ],
   "source": [
    "model = train_model(data_seq, data_tar) "
   ]
  },
  {
   "cell_type": "code",
   "execution_count": 43,
   "metadata": {},
   "outputs": [
    {
     "data": {
      "text/plain": [
       "<Sequential name=sequential, built=True>"
      ]
     },
     "execution_count": 43,
     "metadata": {},
     "output_type": "execute_result"
    }
   ],
   "source": [
    "model "
   ]
  },
  {
   "cell_type": "code",
   "execution_count": null,
   "metadata": {},
   "outputs": [],
   "source": []
  }
 ],
 "metadata": {
  "kernelspec": {
   "display_name": "pyten",
   "language": "python",
   "name": "python3"
  },
  "language_info": {
   "codemirror_mode": {
    "name": "ipython",
    "version": 3
   },
   "file_extension": ".py",
   "mimetype": "text/x-python",
   "name": "python",
   "nbconvert_exporter": "python",
   "pygments_lexer": "ipython3",
   "version": "3.10.14"
  }
 },
 "nbformat": 4,
 "nbformat_minor": 2
}
