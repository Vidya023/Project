{
 "cells": [
  {
   "cell_type": "markdown",
   "metadata": {},
   "source": [
    "1. What is the main innovation introduced in the paper, and how does it address the drawbacks of traditional investment strategies? "
   ]
  },
  {
   "cell_type": "markdown",
   "metadata": {},
   "source": [
    "The paper introduces a machine learning approach to building investment strategies, specifically using a logistic regression algorithm. This approach aims to overcome limitations of traditional methods. By applying the algorithm to construct a time-series dual momentum trading strategy on the S&P 500 Index, the authors demonstrate its superiority over conventional buy-and-hold and base-case dual momentum strategies."
   ]
  },
  {
   "cell_type": "markdown",
   "metadata": {},
   "source": [
    "2. How does the logistic regression algorithm perform in comparison to traditional strategies, and what are the key advantages highlighted in the results?"
   ]
  },
  {
   "cell_type": "markdown",
   "metadata": {},
   "source": [
    "The logistic regression algorithm significantly outperforms traditional strategies such as buy-and-hold and various base-case dual momentum strategies. It notably increases returns while reducing risk in the context of the S&P 500 Index. The results showcase the algorithm's effectiveness in enhancing both performance and risk management aspects of investment strategies."
   ]
  },
  {
   "cell_type": "markdown",
   "metadata": {},
   "source": [
    " 3. Does the machine learning approach have broader applicability, and how does it perform when applied to a diverse set of U.S. and international large capitalization equity indices?"
   ]
  },
  {
   "cell_type": "markdown",
   "metadata": {},
   "source": [
    "Yes, the machine learning approach proves to have broader applicability. When applied to a diverse range of U.S. and international large capitalization equity indices, the algorithm consistently delivers improvements in risk-adjusted performance. This suggests the robustness and versatility of the proposed machine learning methodology across different market environments."
   ]
  },
  {
   "cell_type": "markdown",
   "metadata": {},
   "source": [
    "### 1. Classic Time-Series Dual Momentum Strategy"
   ]
  },
  {
   "cell_type": "markdown",
   "metadata": {},
   "source": [
    "This classic time-series dual momentum strategy focuses on determining whether to invest in an asset or move to a safer asset like cash or Treasury bonds based on the asset's momentum."
   ]
  },
  {
   "cell_type": "markdown",
   "metadata": {},
   "source": [
    "#### Strategy Components\n",
    "\n",
    "* Momentum Calculation\n",
    "\n",
    "    * Lookback Period: The momentum is calculated over a 12-month period.\n",
    "    * Skip Period: The most recent month is excluded from the calculation to avoid short-term noise and mean reversion effects. This means that the momentum is based on the price change from 13 months ago to 1 month ago.\n",
    "\n",
    "* Annual Profitability Threshold (𝛿)\n",
    "\n",
    "A threshold is set at 5% annual profitability. This serves as a benchmark to decide whether to invest in the asset or not.\n",
    "If the momentum of the asset is higher than this threshold, it indicates a positive trend.\n",
    "\n",
    "* Investment Decision\n",
    "\n",
    "    * Long-Only Strategy: If the momentum is higher than the 5% threshold, invest in the asset. If it is lower, move to cash.\n",
    "    * Long-Short Strategy: If the momentum is higher than the 5% threshold, take a long position in the asset. If it is lower, take a short position in the asset.\n",
    "\n",
    "* Rebalancing Frequency\n",
    "\n",
    "The investment decision is revisited and potentially adjusted at regular intervals, in this case, once a month. This means that the portfolio is reviewed and rebalanced monthly regardless of the market conditions."
   ]
  },
  {
   "cell_type": "markdown",
   "metadata": {},
   "source": [
    "#### Steps in detail\n",
    "\n",
    "* Calculate Momentum:\n",
    "\n",
    "    * Determine the percentage price change of the asset over the past 12 months, excluding the most recent month.\n",
    "    * For example, if today is January 1, 2024, calculate the price change from December 1, 2022, to November 30, 2023.\n",
    "\n",
    "* Compare with Threshold:\n",
    "\n",
    "If the calculated momentum (percentage price change) is greater than 5%, consider it a positive signal.\n",
    "If the momentum is less than or equal to 5%, consider it a negative signal.\n",
    "\n",
    "* Make Investment Decision:\n",
    "\n",
    "    * Long-Only Strategy:\n",
    "        * If the momentum is greater than 5%, invest in the asset.\n",
    "        * If the momentum is less than or equal to 5%, move to cash.\n",
    "    * Long-Short Strategy:\n",
    "        * If the momentum is greater than 5%, take a long position in the asset.\n",
    "        * If the momentum is less than or equal to 5%, take a short position in the asset.\n",
    "\n",
    "* Rebalance Monthly:\n",
    "\n",
    "Every month, repeat the momentum calculation and investment decision process.\n",
    "Adjust the portfolio based on the new momentum signal."
   ]
  },
  {
   "cell_type": "markdown",
   "metadata": {},
   "source": [
    "#### Example \n",
    "\n",
    "Assume you are evaluating Stock XYZ on January 1, 2024.\n",
    "\n",
    "* Calculate Momentum:\n",
    "\n",
    "Look at the price of Stock XYZ from December 1, 2022, to November 30, 2023.\n",
    "Suppose the price increased from \\$100 to \\$110 over this period.\n",
    "Momentum = $\\dfrac{110-100}{100}=10\\%$\n",
    "\n",
    "* Compare with Threshold:\n",
    "\n",
    "Since 10% > 5%, the momentum is positive.\n",
    "\n",
    "* Make Investment Decision:\n",
    "\n",
    "    * Long-Only Strategy: Invest in Stock XYZ.\n",
    "    * Long-Short Strategy: Take a long position in Stock XYZ.\n",
    "\n",
    "* Rebalance Monthly:\n",
    "\n",
    "On February 1, 2024, repeat the process with updated data.\n",
    "If momentum changes, adjust the position accordingly."
   ]
  },
  {
   "cell_type": "markdown",
   "metadata": {},
   "source": []
  }
 ],
 "metadata": {
  "kernelspec": {
   "display_name": "Python 3",
   "language": "python",
   "name": "python3"
  },
  "language_info": {
   "name": "python",
   "version": "3.11.4"
  }
 },
 "nbformat": 4,
 "nbformat_minor": 2
}
