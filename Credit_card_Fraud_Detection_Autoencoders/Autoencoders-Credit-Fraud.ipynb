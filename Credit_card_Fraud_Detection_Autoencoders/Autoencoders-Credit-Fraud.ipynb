{
 "cells": [
  {
   "cell_type": "markdown",
   "metadata": {},
   "source": [
    "Dataset link : https://www.kaggle.com/datasets/mlg-ulb/creditcardfraud"
   ]
  },
  {
   "cell_type": "code",
   "execution_count": 1,
   "metadata": {},
   "outputs": [
    {
     "name": "stdout",
     "output_type": "stream",
     "text": [
      "WARNING:tensorflow:From C:\\Users\\vidya\\AppData\\Roaming\\Python\\Python311\\site-packages\\keras\\src\\losses.py:2976: The name tf.losses.sparse_softmax_cross_entropy is deprecated. Please use tf.compat.v1.losses.sparse_softmax_cross_entropy instead.\n",
      "\n"
     ]
    }
   ],
   "source": [
    "import pandas as pd \n",
    "import numpy as np \n",
    "import matplotlib.pyplot as plt \n",
    "import tensorflow as tf \n",
    "\n",
    "from sklearn.metrics import accuracy_score \n",
    "from sklearn.model_selection import train_test_split \n",
    "from sklearn.preprocessing import MinMaxScaler\n",
    "\n",
    "from tensorflow.keras import Model, Sequential \n",
    "from tensorflow.keras.layers import Dense, Dropout \n",
    "from tensorflow.keras.optimizers import Adam \n",
    "from tensorflow.keras.losses import MeanSquaredLogarithmicError\n",
    "\n",
    "import warnings \n",
    "warnings.filterwarnings('ignore') "
   ]
  },
  {
   "cell_type": "code",
   "execution_count": 2,
   "metadata": {},
   "outputs": [
    {
     "data": {
      "text/html": [
       "<div>\n",
       "<style scoped>\n",
       "    .dataframe tbody tr th:only-of-type {\n",
       "        vertical-align: middle;\n",
       "    }\n",
       "\n",
       "    .dataframe tbody tr th {\n",
       "        vertical-align: top;\n",
       "    }\n",
       "\n",
       "    .dataframe thead th {\n",
       "        text-align: right;\n",
       "    }\n",
       "</style>\n",
       "<table border=\"1\" class=\"dataframe\">\n",
       "  <thead>\n",
       "    <tr style=\"text-align: right;\">\n",
       "      <th></th>\n",
       "      <th>Time</th>\n",
       "      <th>V1</th>\n",
       "      <th>V2</th>\n",
       "      <th>V3</th>\n",
       "      <th>V4</th>\n",
       "      <th>V5</th>\n",
       "      <th>V6</th>\n",
       "      <th>V7</th>\n",
       "      <th>V8</th>\n",
       "      <th>V9</th>\n",
       "      <th>...</th>\n",
       "      <th>V21</th>\n",
       "      <th>V22</th>\n",
       "      <th>V23</th>\n",
       "      <th>V24</th>\n",
       "      <th>V25</th>\n",
       "      <th>V26</th>\n",
       "      <th>V27</th>\n",
       "      <th>V28</th>\n",
       "      <th>Amount</th>\n",
       "      <th>Class</th>\n",
       "    </tr>\n",
       "  </thead>\n",
       "  <tbody>\n",
       "    <tr>\n",
       "      <th>0</th>\n",
       "      <td>0.0</td>\n",
       "      <td>-1.359807</td>\n",
       "      <td>-0.072781</td>\n",
       "      <td>2.536347</td>\n",
       "      <td>1.378155</td>\n",
       "      <td>-0.338321</td>\n",
       "      <td>0.462388</td>\n",
       "      <td>0.239599</td>\n",
       "      <td>0.098698</td>\n",
       "      <td>0.363787</td>\n",
       "      <td>...</td>\n",
       "      <td>-0.018307</td>\n",
       "      <td>0.277838</td>\n",
       "      <td>-0.110474</td>\n",
       "      <td>0.066928</td>\n",
       "      <td>0.128539</td>\n",
       "      <td>-0.189115</td>\n",
       "      <td>0.133558</td>\n",
       "      <td>-0.021053</td>\n",
       "      <td>149.62</td>\n",
       "      <td>0</td>\n",
       "    </tr>\n",
       "    <tr>\n",
       "      <th>1</th>\n",
       "      <td>0.0</td>\n",
       "      <td>1.191857</td>\n",
       "      <td>0.266151</td>\n",
       "      <td>0.166480</td>\n",
       "      <td>0.448154</td>\n",
       "      <td>0.060018</td>\n",
       "      <td>-0.082361</td>\n",
       "      <td>-0.078803</td>\n",
       "      <td>0.085102</td>\n",
       "      <td>-0.255425</td>\n",
       "      <td>...</td>\n",
       "      <td>-0.225775</td>\n",
       "      <td>-0.638672</td>\n",
       "      <td>0.101288</td>\n",
       "      <td>-0.339846</td>\n",
       "      <td>0.167170</td>\n",
       "      <td>0.125895</td>\n",
       "      <td>-0.008983</td>\n",
       "      <td>0.014724</td>\n",
       "      <td>2.69</td>\n",
       "      <td>0</td>\n",
       "    </tr>\n",
       "    <tr>\n",
       "      <th>2</th>\n",
       "      <td>1.0</td>\n",
       "      <td>-1.358354</td>\n",
       "      <td>-1.340163</td>\n",
       "      <td>1.773209</td>\n",
       "      <td>0.379780</td>\n",
       "      <td>-0.503198</td>\n",
       "      <td>1.800499</td>\n",
       "      <td>0.791461</td>\n",
       "      <td>0.247676</td>\n",
       "      <td>-1.514654</td>\n",
       "      <td>...</td>\n",
       "      <td>0.247998</td>\n",
       "      <td>0.771679</td>\n",
       "      <td>0.909412</td>\n",
       "      <td>-0.689281</td>\n",
       "      <td>-0.327642</td>\n",
       "      <td>-0.139097</td>\n",
       "      <td>-0.055353</td>\n",
       "      <td>-0.059752</td>\n",
       "      <td>378.66</td>\n",
       "      <td>0</td>\n",
       "    </tr>\n",
       "    <tr>\n",
       "      <th>3</th>\n",
       "      <td>1.0</td>\n",
       "      <td>-0.966272</td>\n",
       "      <td>-0.185226</td>\n",
       "      <td>1.792993</td>\n",
       "      <td>-0.863291</td>\n",
       "      <td>-0.010309</td>\n",
       "      <td>1.247203</td>\n",
       "      <td>0.237609</td>\n",
       "      <td>0.377436</td>\n",
       "      <td>-1.387024</td>\n",
       "      <td>...</td>\n",
       "      <td>-0.108300</td>\n",
       "      <td>0.005274</td>\n",
       "      <td>-0.190321</td>\n",
       "      <td>-1.175575</td>\n",
       "      <td>0.647376</td>\n",
       "      <td>-0.221929</td>\n",
       "      <td>0.062723</td>\n",
       "      <td>0.061458</td>\n",
       "      <td>123.50</td>\n",
       "      <td>0</td>\n",
       "    </tr>\n",
       "    <tr>\n",
       "      <th>4</th>\n",
       "      <td>2.0</td>\n",
       "      <td>-1.158233</td>\n",
       "      <td>0.877737</td>\n",
       "      <td>1.548718</td>\n",
       "      <td>0.403034</td>\n",
       "      <td>-0.407193</td>\n",
       "      <td>0.095921</td>\n",
       "      <td>0.592941</td>\n",
       "      <td>-0.270533</td>\n",
       "      <td>0.817739</td>\n",
       "      <td>...</td>\n",
       "      <td>-0.009431</td>\n",
       "      <td>0.798278</td>\n",
       "      <td>-0.137458</td>\n",
       "      <td>0.141267</td>\n",
       "      <td>-0.206010</td>\n",
       "      <td>0.502292</td>\n",
       "      <td>0.219422</td>\n",
       "      <td>0.215153</td>\n",
       "      <td>69.99</td>\n",
       "      <td>0</td>\n",
       "    </tr>\n",
       "  </tbody>\n",
       "</table>\n",
       "<p>5 rows × 31 columns</p>\n",
       "</div>"
      ],
      "text/plain": [
       "   Time        V1        V2        V3        V4        V5        V6        V7  \\\n",
       "0   0.0 -1.359807 -0.072781  2.536347  1.378155 -0.338321  0.462388  0.239599   \n",
       "1   0.0  1.191857  0.266151  0.166480  0.448154  0.060018 -0.082361 -0.078803   \n",
       "2   1.0 -1.358354 -1.340163  1.773209  0.379780 -0.503198  1.800499  0.791461   \n",
       "3   1.0 -0.966272 -0.185226  1.792993 -0.863291 -0.010309  1.247203  0.237609   \n",
       "4   2.0 -1.158233  0.877737  1.548718  0.403034 -0.407193  0.095921  0.592941   \n",
       "\n",
       "         V8        V9  ...       V21       V22       V23       V24       V25  \\\n",
       "0  0.098698  0.363787  ... -0.018307  0.277838 -0.110474  0.066928  0.128539   \n",
       "1  0.085102 -0.255425  ... -0.225775 -0.638672  0.101288 -0.339846  0.167170   \n",
       "2  0.247676 -1.514654  ...  0.247998  0.771679  0.909412 -0.689281 -0.327642   \n",
       "3  0.377436 -1.387024  ... -0.108300  0.005274 -0.190321 -1.175575  0.647376   \n",
       "4 -0.270533  0.817739  ... -0.009431  0.798278 -0.137458  0.141267 -0.206010   \n",
       "\n",
       "        V26       V27       V28  Amount  Class  \n",
       "0 -0.189115  0.133558 -0.021053  149.62      0  \n",
       "1  0.125895 -0.008983  0.014724    2.69      0  \n",
       "2 -0.139097 -0.055353 -0.059752  378.66      0  \n",
       "3 -0.221929  0.062723  0.061458  123.50      0  \n",
       "4  0.502292  0.219422  0.215153   69.99      0  \n",
       "\n",
       "[5 rows x 31 columns]"
      ]
     },
     "execution_count": 2,
     "metadata": {},
     "output_type": "execute_result"
    }
   ],
   "source": [
    "data = pd.read_csv('creditcard.csv') \n",
    "data.head() "
   ]
  },
  {
   "cell_type": "code",
   "execution_count": 4,
   "metadata": {},
   "outputs": [
    {
     "data": {
      "text/plain": [
       "(284807, 31)"
      ]
     },
     "execution_count": 4,
     "metadata": {},
     "output_type": "execute_result"
    }
   ],
   "source": [
    "data.shape "
   ]
  },
  {
   "cell_type": "code",
   "execution_count": 5,
   "metadata": {},
   "outputs": [
    {
     "data": {
      "text/plain": [
       "0"
      ]
     },
     "execution_count": 5,
     "metadata": {},
     "output_type": "execute_result"
    }
   ],
   "source": [
    "data.isnull().sum().sum() "
   ]
  },
  {
   "cell_type": "code",
   "execution_count": 6,
   "metadata": {},
   "outputs": [
    {
     "data": {
      "text/plain": [
       "Class\n",
       "0    284315\n",
       "1       492\n",
       "Name: count, dtype: int64"
      ]
     },
     "execution_count": 6,
     "metadata": {},
     "output_type": "execute_result"
    }
   ],
   "source": [
    "data['Class'].value_counts() "
   ]
  },
  {
   "cell_type": "code",
   "execution_count": 7,
   "metadata": {},
   "outputs": [
    {
     "name": "stdout",
     "output_type": "stream",
     "text": [
      "(284807, 30)\n",
      "(284807,)\n"
     ]
    }
   ],
   "source": [
    "# Target = data['Class'] ==> Last Column\n",
    "# 0 = Normal, 1 = Anomaly \n",
    "\n",
    "X = data.drop(columns=['Class'],axis=1) \n",
    "y = data['Class'] \n",
    "\n",
    "print(X.shape)  \n",
    "print(y.shape) "
   ]
  },
  {
   "cell_type": "code",
   "execution_count": 8,
   "metadata": {},
   "outputs": [],
   "source": [
    "x_train, x_test, y_train, y_test = train_test_split(\n",
    "    X, y, test_size=0.2, random_state=42, stratify=y\n",
    ") "
   ]
  },
  {
   "cell_type": "markdown",
   "metadata": {},
   "source": [
    "Since, this is a case of novelty detection, we use only normal data for training"
   ]
  },
  {
   "cell_type": "code",
   "execution_count": 9,
   "metadata": {},
   "outputs": [],
   "source": [
    "train_index = y_train[y_train == 0].index \n",
    "train_data = x_train.loc[train_index] "
   ]
  },
  {
   "cell_type": "markdown",
   "metadata": {},
   "source": [
    "#### Scale data using MinMax Scaler"
   ]
  },
  {
   "cell_type": "code",
   "execution_count": 10,
   "metadata": {},
   "outputs": [],
   "source": [
    "min_max_scaler = MinMaxScaler(feature_range=(0,1)) \n",
    "# x_train_scaled = min_max_scaler.fit_transform(train_data.copy())\n",
    "# x_test_scaled = min_max_scaler.transform(x_test.copy()) \n",
    "\n",
    "x_train_scaled = x_train \n",
    "x_test_scaled = x_test "
   ]
  },
  {
   "cell_type": "markdown",
   "metadata": {},
   "source": [
    "#### Build an Autoencoder Model "
   ]
  },
  {
   "cell_type": "markdown",
   "metadata": {},
   "source": [
    "Creating an Autoencoder model using Tensorflow"
   ]
  },
  {
   "cell_type": "code",
   "execution_count": 11,
   "metadata": {},
   "outputs": [],
   "source": [
    "class Autoencoder(Model):\n",
    "    def __init__(self, output_units, code_size=8):\n",
    "        super().__init__() \n",
    "        self.encoder = Sequential([\n",
    "            Dense(64, activation='relu'),\n",
    "            Dropout(0.1),\n",
    "            Dense(32, activation='relu'),\n",
    "            Dropout(0.1),\n",
    "            Dense(16, activation='relu'),\n",
    "            Dropout(0.1),\n",
    "            Dense(code_size, activation='relu')\n",
    "        ])\n",
    "        self.decoder = Sequential([\n",
    "            Dense(16, activation='relu'),\n",
    "            Dropout(0.1),\n",
    "            Dense(32, activation='relu'),\n",
    "            Dropout(0.1),\n",
    "            Dense(64, activation='relu'),\n",
    "            Dropout(0.1),\n",
    "            Dense(output_units, activation='sigmoid')\n",
    "        ])\n",
    "\n",
    "    def call(self,inputs):\n",
    "        encoded = self.encoder(inputs) \n",
    "        decoded = self.decoder(encoded) \n",
    "        return decoded     "
   ]
  },
  {
   "cell_type": "code",
   "execution_count": 12,
   "metadata": {},
   "outputs": [
    {
     "name": "stdout",
     "output_type": "stream",
     "text": [
      "WARNING:tensorflow:From C:\\Users\\vidya\\AppData\\Roaming\\Python\\Python311\\site-packages\\keras\\src\\backend.py:873: The name tf.get_default_graph is deprecated. Please use tf.compat.v1.get_default_graph instead.\n",
      "\n",
      "WARNING:tensorflow:From C:\\Users\\vidya\\AppData\\Roaming\\Python\\Python311\\site-packages\\keras\\src\\optimizers\\__init__.py:309: The name tf.train.Optimizer is deprecated. Please use tf.compat.v1.train.Optimizer instead.\n",
      "\n",
      "Epoch 1/20\n",
      "WARNING:tensorflow:From C:\\Users\\vidya\\AppData\\Roaming\\Python\\Python311\\site-packages\\keras\\src\\utils\\tf_utils.py:492: The name tf.ragged.RaggedTensorValue is deprecated. Please use tf.compat.v1.ragged.RaggedTensorValue instead.\n",
      "\n",
      "WARNING:tensorflow:From C:\\Users\\vidya\\AppData\\Roaming\\Python\\Python311\\site-packages\\keras\\src\\engine\\base_layer_utils.py:384: The name tf.executing_eagerly_outside_functions is deprecated. Please use tf.compat.v1.executing_eagerly_outside_functions instead.\n",
      "\n",
      "446/446 [==============================] - 3s 4ms/step - loss: 4.1932 - mse: 375273440.0000 - val_loss: 4.1725 - val_mse: 373017216.0000\n",
      "Epoch 2/20\n",
      "446/446 [==============================] - 2s 4ms/step - loss: 4.1758 - mse: 375273248.0000 - val_loss: 4.1720 - val_mse: 373017216.0000\n",
      "Epoch 3/20\n",
      "446/446 [==============================] - 2s 4ms/step - loss: 4.1754 - mse: 375273216.0000 - val_loss: 4.1720 - val_mse: 373017216.0000\n",
      "Epoch 4/20\n",
      "446/446 [==============================] - 2s 4ms/step - loss: 4.1751 - mse: 375273504.0000 - val_loss: 4.1720 - val_mse: 373017216.0000\n",
      "Epoch 5/20\n",
      "446/446 [==============================] - 2s 4ms/step - loss: 4.1751 - mse: 375273568.0000 - val_loss: 4.1720 - val_mse: 373017216.0000\n",
      "Epoch 6/20\n",
      "446/446 [==============================] - 2s 4ms/step - loss: 4.1751 - mse: 375273248.0000 - val_loss: 4.1720 - val_mse: 373017216.0000\n",
      "Epoch 7/20\n",
      "446/446 [==============================] - 2s 4ms/step - loss: 4.1751 - mse: 375273312.0000 - val_loss: 4.1720 - val_mse: 373017216.0000\n",
      "Epoch 8/20\n",
      "446/446 [==============================] - 2s 4ms/step - loss: 4.1750 - mse: 375273440.0000 - val_loss: 4.1719 - val_mse: 373017216.0000\n",
      "Epoch 9/20\n",
      "446/446 [==============================] - 2s 4ms/step - loss: 4.1750 - mse: 375273216.0000 - val_loss: 4.1719 - val_mse: 373017216.0000\n",
      "Epoch 10/20\n",
      "446/446 [==============================] - 2s 4ms/step - loss: 4.1750 - mse: 375273440.0000 - val_loss: 4.1719 - val_mse: 373017216.0000\n",
      "Epoch 11/20\n",
      "446/446 [==============================] - 2s 4ms/step - loss: 4.1712 - mse: 375273344.0000 - val_loss: 4.1235 - val_mse: 373017216.0000\n",
      "Epoch 12/20\n",
      "446/446 [==============================] - 2s 4ms/step - loss: 4.1276 - mse: 375273280.0000 - val_loss: 4.1233 - val_mse: 373017216.0000\n",
      "Epoch 13/20\n",
      "446/446 [==============================] - 2s 4ms/step - loss: 4.1269 - mse: 375273408.0000 - val_loss: 4.1232 - val_mse: 373017216.0000\n",
      "Epoch 14/20\n",
      "446/446 [==============================] - 2s 4ms/step - loss: 4.1267 - mse: 375273440.0000 - val_loss: 4.1232 - val_mse: 373017216.0000\n",
      "Epoch 15/20\n",
      "446/446 [==============================] - 2s 4ms/step - loss: 4.1266 - mse: 375273216.0000 - val_loss: 4.1232 - val_mse: 373017216.0000\n",
      "Epoch 16/20\n",
      "446/446 [==============================] - 2s 4ms/step - loss: 4.1266 - mse: 375273472.0000 - val_loss: 4.1232 - val_mse: 373017216.0000\n",
      "Epoch 17/20\n",
      "446/446 [==============================] - 2s 4ms/step - loss: 4.1266 - mse: 375273568.0000 - val_loss: 4.1232 - val_mse: 373017216.0000\n",
      "Epoch 18/20\n",
      "446/446 [==============================] - 2s 4ms/step - loss: 4.1265 - mse: 375273504.0000 - val_loss: 4.1232 - val_mse: 373017216.0000\n",
      "Epoch 19/20\n",
      "446/446 [==============================] - 2s 4ms/step - loss: 4.1265 - mse: 375273312.0000 - val_loss: 4.1232 - val_mse: 373017216.0000\n",
      "Epoch 20/20\n",
      "446/446 [==============================] - 2s 4ms/step - loss: 4.1265 - mse: 375273536.0000 - val_loss: 4.1232 - val_mse: 373017216.0000\n"
     ]
    }
   ],
   "source": [
    "model = Autoencoder(output_units=x_train_scaled.shape[1]) \n",
    "model.compile(loss='msle', metrics=['mse'], optimizer='adam')\n",
    "\n",
    "history = model.fit(x_train_scaled,x_train_scaled,\n",
    "                    epochs=20,batch_size=512,\n",
    "                    validation_data=(x_test_scaled,x_test_scaled))"
   ]
  },
  {
   "cell_type": "markdown",
   "metadata": {},
   "source": [
    "### Plot History"
   ]
  },
  {
   "cell_type": "code",
   "execution_count": 13,
   "metadata": {},
   "outputs": [
    {
     "data": {
      "image/png": "[encoded data removed]",
      "text/plain": [
       "<Figure size 432x288 with 1 Axes>"
      ]
     },
     "metadata": {
      "needs_background": "light"
     },
     "output_type": "display_data"
    }
   ],
   "source": [
    "plt.plot(history.history['loss']) \n",
    "plt.plot(history.history['val_loss']) \n",
    "plt.xlabel('Epochs') \n",
    "plt.ylabel('MSLE Loss') \n",
    "plt.legend(['loss','val_loss']) \n",
    "plt.show() "
   ]
  },
  {
   "cell_type": "markdown",
   "metadata": {},
   "source": [
    "#### Find Threshold"
   ]
  },
  {
   "cell_type": "code",
   "execution_count": 14,
   "metadata": {},
   "outputs": [],
   "source": [
    "def find_threshold_method_1(model, x_train_scaled):\n",
    "    reconstructions = model.predict(x_train_scaled)\n",
    "    reconstruction_errors = tf.keras.losses.msle(reconstructions,x_train_scaled)\n",
    "\n",
    "    threshold = np.mean(reconstruction_errors.numpy())+np.std(reconstruction_errors.numpy())\n",
    "    return threshold \n",
    "\n",
    "def find_threshold_method_2(model, x_train_scaled):\n",
    "    reconstructions = model.predict(x_train_scaled) \n",
    "    reconstruction_error = tf.keras.losses.msle(reconstructions, x_train_scaled)\n",
    "    threshold2 = np.percentile(reconstruction_error,95)\n",
    "    return threshold2 \n",
    "\n",
    "def get_predictions(model, x_test_scaled, threshold):\n",
    "    predictions = model.predict(x_test_scaled) \n",
    "    errors = tf.keras.losses.msle(predictions,x_test_scaled) \n",
    "    normal_mask = pd.Series(errors)>threshold \n",
    "    preds = normal_mask.map(lambda x: 0.0 if x == True else 1.0)\n",
    "    return preds "
   ]
  },
  {
   "cell_type": "code",
   "execution_count": 15,
   "metadata": {},
   "outputs": [
    {
     "name": "stdout",
     "output_type": "stream",
     "text": [
      "7121/7121 [==============================] - 6s 809us/step\n",
      "Threshold from method 1 : 4.731797234789657\n",
      "7121/7121 [==============================] - 6s 811us/step\n",
      "Threshold from method 2 : 4.978731405997491\n"
     ]
    }
   ],
   "source": [
    "threshold = find_threshold_method_1(model,x_train_scaled)\n",
    "print(f\"Threshold from method 1 : {threshold}\") \n",
    "\n",
    "threshold2 = find_threshold_method_2(model,x_train_scaled)\n",
    "print(f\"Threshold from method 2 : {threshold2}\") "
   ]
  },
  {
   "cell_type": "code",
   "execution_count": 16,
   "metadata": {},
   "outputs": [
    {
     "name": "stdout",
     "output_type": "stream",
     "text": [
      "1781/1781 [==============================] - 1s 784us/step\n"
     ]
    },
    {
     "data": {
      "text/plain": [
       "0.11649871844387487"
      ]
     },
     "execution_count": 16,
     "metadata": {},
     "output_type": "execute_result"
    }
   ],
   "source": [
    "preds = get_predictions(model, x_test_scaled, threshold)\n",
    "accuracy_score(preds, y_test) "
   ]
  },
  {
   "cell_type": "code",
   "execution_count": 19,
   "metadata": {},
   "outputs": [],
   "source": [
    "import kerastuner as kt\n",
    "\n",
    "class AutoEncoderTuner(Model):\n",
    "\n",
    "  def __init__(self, hp, output_units, code_size=8):\n",
    "    super().__init__()\n",
    "    dense_1_units = hp.Int('dense_1_units', min_value=16, max_value=72, step=4)\n",
    "    dense_2_units = hp.Int('dense_2_units', min_value=16, max_value=72, step=4)\n",
    "    dense_3_units = hp.Int('dense_3_units', min_value=16, max_value=72, step=4)\n",
    "    dense_4_units = hp.Int('dense_4_units', min_value=16, max_value=72, step=4)\n",
    "    dense_5_units = hp.Int('dense_5_units', min_value=16, max_value=72, step=4)\n",
    "    dense_6_units = hp.Int('dense_6_units', min_value=16, max_value=72, step=4)\n",
    "    \n",
    "    self.encoder = Sequential([\n",
    "      Dense(dense_1_units, activation='relu'),\n",
    "      Dropout(0.1),\n",
    "      Dense(dense_2_units, activation='relu'),\n",
    "      Dropout(0.1),\n",
    "      Dense(dense_3_units, activation='relu'),\n",
    "      Dropout(0.1),\n",
    "      Dense(code_size, activation='relu')\n",
    "    ])\n",
    "    self.decoder = Sequential([\n",
    "      Dense(dense_4_units, activation='relu'),\n",
    "      Dropout(0.1),\n",
    "      Dense(dense_5_units, activation='relu'),\n",
    "      Dropout(0.1),\n",
    "      Dense(dense_6_units, activation='relu'),\n",
    "      Dropout(0.1),\n",
    "      Dense(output_units, activation='sigmoid')\n",
    "    ])\n",
    "  \n",
    "  def call(self, inputs):\n",
    "    encoded = self.encoder(inputs)\n",
    "    decoded = self.decoder(encoded)\n",
    "    return decoded\n",
    "\n",
    "\n",
    "def build_model(hp):\n",
    "  model = AutoEncoderTuner(hp, 30)\n",
    "  hp_learning_rate = hp.Choice('learning_rate', values=[1e-2, 1e-3, 1e-4])\n",
    "  model.compile(\n",
    "      loss='msle',\n",
    "      optimizer=Adam(learning_rate=hp_learning_rate),\n",
    "  )\n",
    "  return model "
   ]
  },
  {
   "cell_type": "code",
   "execution_count": 20,
   "metadata": {},
   "outputs": [
    {
     "name": "stdout",
     "output_type": "stream",
     "text": [
      "Trial 26 Complete [00h 00m 36s]\n",
      "val_loss: 4.169956684112549\n",
      "\n",
      "Best val_loss So Far: 4.123189449310303\n",
      "Total elapsed time: 00h 07m 08s\n"
     ]
    }
   ],
   "source": [
    "tuner = kt.Hyperband(\n",
    "    build_model,\n",
    "    objective='val_loss',\n",
    "    max_epochs=20,\n",
    "    factor=3,\n",
    "    directory='autoencoder',\n",
    "    project_name='tuning_autoencoder6'\n",
    ")\n",
    "\n",
    "tuner.search(\n",
    "    x_train_scaled, \n",
    "    x_train_scaled, \n",
    "    epochs=20, \n",
    "    batch_size=512,\n",
    "    validation_data=(x_test_scaled, x_test_scaled)\n",
    ") "
   ]
  },
  {
   "cell_type": "code",
   "execution_count": 21,
   "metadata": {},
   "outputs": [
    {
     "name": "stdout",
     "output_type": "stream",
     "text": [
      "dense_1_units: 16\n",
      "dense_2_units: 60\n",
      "dense_3_units: 56\n",
      "dense_4_units: 20\n",
      "dense_5_units: 56\n",
      "dense_6_units: 20\n",
      "learning_rate: 0.01\n"
     ]
    }
   ],
   "source": [
    "hparams = [f'dense_{i}_units' for i in range(1,7)] + ['learning_rate']\n",
    "best_hyperparams = tuner.get_best_hyperparameters()\n",
    "for hps in hparams:\n",
    "  print(f\"{hps}: {best_hyperparams[0][hps]}\") "
   ]
  },
  {
   "cell_type": "code",
   "execution_count": 22,
   "metadata": {},
   "outputs": [
    {
     "name": "stdout",
     "output_type": "stream",
     "text": [
      "Epoch 1/20\n",
      "446/446 [==============================] - 3s 4ms/step - loss: 4.1264 - val_loss: 4.1232\n",
      "Epoch 2/20\n",
      "446/446 [==============================] - 2s 4ms/step - loss: 4.1264 - val_loss: 4.1232\n",
      "Epoch 3/20\n",
      "446/446 [==============================] - 2s 4ms/step - loss: 4.1264 - val_loss: 4.1232\n",
      "Epoch 4/20\n",
      "446/446 [==============================] - 2s 4ms/step - loss: 4.1264 - val_loss: 4.1232\n",
      "Epoch 5/20\n",
      "446/446 [==============================] - 2s 4ms/step - loss: 4.1264 - val_loss: 4.1232\n",
      "Epoch 6/20\n",
      "446/446 [==============================] - 2s 4ms/step - loss: 4.1264 - val_loss: 4.1232\n",
      "Epoch 7/20\n",
      "446/446 [==============================] - 2s 4ms/step - loss: 4.1264 - val_loss: 4.1232\n",
      "Epoch 8/20\n",
      "446/446 [==============================] - 2s 4ms/step - loss: 4.1264 - val_loss: 4.1232\n",
      "Epoch 9/20\n",
      "446/446 [==============================] - 2s 4ms/step - loss: 4.1264 - val_loss: 4.1232\n",
      "Epoch 10/20\n",
      "446/446 [==============================] - 2s 4ms/step - loss: 4.1264 - val_loss: 4.1232\n",
      "Epoch 11/20\n",
      "446/446 [==============================] - 2s 4ms/step - loss: 4.1264 - val_loss: 4.1232\n",
      "Epoch 12/20\n",
      "446/446 [==============================] - 2s 4ms/step - loss: 4.1264 - val_loss: 4.1232\n",
      "Epoch 13/20\n",
      "446/446 [==============================] - 2s 4ms/step - loss: 4.1264 - val_loss: 4.1232\n",
      "Epoch 14/20\n",
      "446/446 [==============================] - 2s 4ms/step - loss: 4.1264 - val_loss: 4.1232\n",
      "Epoch 15/20\n",
      "446/446 [==============================] - 2s 4ms/step - loss: 4.1264 - val_loss: 4.1232\n",
      "Epoch 16/20\n",
      "446/446 [==============================] - 2s 4ms/step - loss: 4.1264 - val_loss: 4.1232\n",
      "Epoch 17/20\n",
      "446/446 [==============================] - 2s 4ms/step - loss: 4.1264 - val_loss: 4.1232\n",
      "Epoch 18/20\n",
      "446/446 [==============================] - 2s 4ms/step - loss: 4.1264 - val_loss: 4.1232\n",
      "Epoch 19/20\n",
      "446/446 [==============================] - 2s 4ms/step - loss: 4.1264 - val_loss: 4.1232\n",
      "Epoch 20/20\n",
      "446/446 [==============================] - 2s 4ms/step - loss: 4.1264 - val_loss: 4.1232\n"
     ]
    },
    {
     "data": {
      "text/plain": [
       "<keras.src.callbacks.History at 0x14a5fb45b10>"
      ]
     },
     "execution_count": 22,
     "metadata": {},
     "output_type": "execute_result"
    }
   ],
   "source": [
    "best_model = tuner.get_best_models()[0]\n",
    "best_model.compile(loss='msle', optimizer=Adam(0.001))\n",
    "\n",
    "best_model.fit(\n",
    "    x_train_scaled,\n",
    "    x_train_scaled,\n",
    "    epochs=20,\n",
    "    batch_size=512,\n",
    "    validation_data=(x_test_scaled, x_test_scaled)\n",
    ") "
   ]
  },
  {
   "cell_type": "code",
   "execution_count": 23,
   "metadata": {},
   "outputs": [
    {
     "name": "stdout",
     "output_type": "stream",
     "text": [
      "7121/7121 [==============================] - 6s 807us/step\n",
      "1781/1781 [==============================] - 2s 841us/step\n"
     ]
    },
    {
     "data": {
      "text/plain": [
       "0.11642849619044275"
      ]
     },
     "execution_count": 23,
     "metadata": {},
     "output_type": "execute_result"
    }
   ],
   "source": [
    "threshold_ = find_threshold_method_1(best_model, x_train_scaled)\n",
    "preds_ = get_predictions(best_model, x_test_scaled, threshold_)\n",
    "accuracy_score(preds_, y_test) "
   ]
  },
  {
   "cell_type": "code",
   "execution_count": null,
   "metadata": {},
   "outputs": [],
   "source": []
  }
 ],
 "metadata": {
  "kernelspec": {
   "display_name": "Python 3",
   "language": "python",
   "name": "python3"
  },
  "language_info": {
   "codemirror_mode": {
    "name": "ipython",
    "version": 3
   },
   "file_extension": ".py",
   "mimetype": "text/x-python",
   "name": "python",
   "nbconvert_exporter": "python",
   "pygments_lexer": "ipython3",
   "version": "3.11.4"
  }
 },
 "nbformat": 4,
 "nbformat_minor": 2
}
